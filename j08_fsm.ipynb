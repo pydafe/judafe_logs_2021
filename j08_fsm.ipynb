{
 "cells": [
  {
   "cell_type": "markdown",
   "id": "closed-solution",
   "metadata": {},
   "source": [
    "# Конечные автоматы\n",
    "\n",
    "Детерминированный конечный автомат (ДКА) -- это пятёрка из алфавита, множеста состояний, функции перехода, начального состояния и множества допускающих состояний. Определение и интуитивные представления см. в [википедии](https://ru.wikipedia.org/wiki/%D0%94%D0%B5%D1%82%D0%B5%D1%80%D0%BC%D0%B8%D0%BD%D0%B8%D1%80%D0%BE%D0%B2%D0%B0%D0%BD%D0%BD%D1%8B%D0%B9_%D0%BA%D0%BE%D0%BD%D0%B5%D1%87%D0%BD%D1%8B%D0%B9_%D0%B0%D0%B2%D1%82%D0%BE%D0%BC%D0%B0%D1%82) и в книге:\n",
    "* Д. Хопкрофт, Р. Мотвани, and Д. Ульман, Введение в теорию автоматов, языков и вычислений.\n",
    "\n",
    "Примеры ДКА в дикой природе:\n",
    "* [В описании состояний TCP-соединения](http://tcpipguide.com/free/t_TCPOperationalOverviewandtheTCPFiniteStateMachineF-2.htm)\n",
    "* [Состояния модема у менеджера модемов от freedesktop](https://www.freedesktop.org/software/ModemManager/doc/latest/ModemManager/ref-overview-modem-state-machine.html)\n",
    "* [Описание принципиального функционирования ИБП](https://www.microfarad.de/pi-ups/)\n",
    "* [Жизненный цикл пакетов в дистрибутиве Linux Debian](https://commons.wikimedia.org/wiki/File:Debian_package_cycle.svg)\n",
    "* [Функционирование простейшего робота](https://www.researchgate.net/figure/State-machine-describing-the-behavior-of-the-BumpControl-component-of-the-BumperBot_fig3_326481555)\n",
    "* [Цикл доставки товаров у ритейлеров](https://www.researchgate.net/figure/State-machine-describing-the-behavior-of-the-BumpControl-component-of-the-BumperBot_fig3_326481555)\n",
    "\n",
    "Упомянутые выше конечные автоматы во многом не являются ДКА в строгом смысле. Их часто используют для иллюстрации архитектурных решений."
   ]
  },
  {
   "cell_type": "code",
   "execution_count": 1,
   "id": "centered-asbestos",
   "metadata": {},
   "outputs": [
    {
     "data": {
      "text/plain": [
       "Base.in"
      ]
     },
     "execution_count": 1,
     "metadata": {},
     "output_type": "execute_result"
    }
   ],
   "source": [
    "import Base: in\n",
    "\n",
    "\"Абстрактный тип, объединяющий все конечные автоматы\"\n",
    "abstract type FiniteAutomaton{S, L} end\n",
    "\n",
    "\n",
    "\"\"\"\n",
    "Детерминированный конечный автомат\n",
    "Deterministic Finite Automaton\n",
    "\"\"\"\n",
    "struct DFA{S, L} <: FiniteAutomaton{S, L}\n",
    "    states::Set{S}\n",
    "    alphabet::Set{L}\n",
    "    transition::Dict{S, Dict{L, S}}  # Dict{Tuple{S, L}, S}?\n",
    "    start::S\n",
    "    accept::Set{S}\n",
    "end\n",
    "\n",
    "\n",
    "\"\"\"\n",
    "Получить множество состояний и алфавит из переходной функции, начального и конечных состояний.\n",
    "\"\"\"\n",
    "function _extract_states_alphabet(\n",
    "    transition::Dict{S, Dict{L, S}},\n",
    "    start::S,\n",
    "    accept::Set{S}\n",
    ")::Tuple{Set{S}, Set{L}} where {S, L}\n",
    "\n",
    "    states = Set{S}(keys(transition))\n",
    "    for state in keys(transition)\n",
    "        union!(states, values(transition[state]))\n",
    "    end\n",
    "\n",
    "    push!(states, start)\n",
    "    union!(states, accept)\n",
    "\n",
    "    alphabet = Set{L}()\n",
    "    for trans in values(transition)\n",
    "        union!(alphabet, keys(trans))\n",
    "    end\n",
    "    \n",
    "    return (states, alphabet)\n",
    "end\n",
    "\n",
    "\n",
    "\"Дополнительный конструктор, который сам выясняет алфавит и множество состояний\"\n",
    "function DFA(transition::Dict{S, Dict{L, S}}, start::S, accept::Set{S})::DFA{S, L} where {S, L}\n",
    "    (states, alphabet) = _extract_states_alphabet(transition, start, accept)\n",
    "\n",
    "    return DFA{S, L}(states, alphabet, transition, start, accept)\n",
    "end\n",
    "\n",
    "\n",
    "\"Содержит ли язык данное слово?\"\n",
    "function in(word, dfa::DFA{S, L})::Bool where {S, L}\n",
    "    state = dfa.start\n",
    "    for symbol in word\n",
    "        state = dfa.transition[state][symbol]\n",
    "    end\n",
    "    \n",
    "    return state in dfa.accept\n",
    "end"
   ]
  },
  {
   "cell_type": "code",
   "execution_count": 13,
   "id": "ultimate-frost",
   "metadata": {},
   "outputs": [
    {
     "data": {
      "text/plain": [
       "true"
      ]
     },
     "execution_count": 13,
     "metadata": {},
     "output_type": "execute_result"
    }
   ],
   "source": [
    "dfa = DFA(Dict(1 => Dict('0' => 2, '1' => 1), 2 => Dict('0' => 2, '1' => 3), 3 => Dict('0' => 3, '1' => 3)), 1, Set([3]))\n",
    "\n",
    "\"00100\" ∈ dfa"
   ]
  },
  {
   "cell_type": "code",
   "execution_count": 2,
   "id": "enclosed-relationship",
   "metadata": {},
   "outputs": [
    {
     "data": {
      "text/plain": [
       "false"
      ]
     },
     "execution_count": 2,
     "metadata": {},
     "output_type": "execute_result"
    }
   ],
   "source": [
    "dfa = DFA(Dict(1 => Dict('0' => 2, '1' => 1), 2 => Dict('0' => 1, '1' => 2)), 1, Set([2]))\n",
    "\n",
    "\"010110101100111\" ∈ dfa"
   ]
  },
  {
   "cell_type": "code",
   "execution_count": 3,
   "id": "subject-price",
   "metadata": {},
   "outputs": [
    {
     "data": {
      "text/plain": [
       "NFA"
      ]
     },
     "execution_count": 3,
     "metadata": {},
     "output_type": "execute_result"
    }
   ],
   "source": [
    "\"\"\"\n",
    "Недетерминированный конечный автомат\n",
    "\"\"\"\n",
    "struct NFA{S, L} <: FiniteAutomaton{S, L}\n",
    "    states::Set{S}\n",
    "    alphabet::Set{L}\n",
    "    transition::Dict{S, Dict{L, Set{S}}}\n",
    "    start::S\n",
    "    accept::Set{S}\n",
    "end\n",
    "\n",
    "\n",
    "\"Дополнительный конструктор, который сам выясняет алфавит и множество состояний\"\n",
    "function NFA(transition::Dict{S, Dict{L, Set{S}}}, start::S, accept::Set{S})::NFA{S, L} where {S, L}\n",
    "    (states, alphabet) = _extract_states_alphabet(transition, start, accept)\n",
    "\n",
    "    return NFA{S, L}(states, alphabet, transition, start, accept)\n",
    "end\n",
    "\n",
    "\n",
    "\"Преобразование DFA -> NFA\"\n",
    "function NFA(dfa::DFA{S, L})::NFA{S, L} where {S, L}\n",
    "    trans = Dict(from => Dict(sym => Set(to) for (sym, to) in pairs(perstate))\n",
    "                 for (from, perstate) in pairs(dfa.transition))\n",
    "\n",
    "    return NFA{S, L}(dfa.states, dfa.alphabet, trans, dfa.start, dfa.accept)\n",
    "end"
   ]
  }
 ],
 "metadata": {
  "kernelspec": {
   "display_name": "Julia 1.6.1",
   "language": "julia",
   "name": "julia-1.6"
  },
  "language_info": {
   "file_extension": ".jl",
   "mimetype": "application/julia",
   "name": "julia",
   "version": "1.6.1"
  }
 },
 "nbformat": 4,
 "nbformat_minor": 5
}
