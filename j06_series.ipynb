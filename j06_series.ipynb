{
 "cells": [
  {
   "cell_type": "markdown",
   "id": "polish-impossible",
   "metadata": {},
   "source": [
    "# Формальные степенные ряды\n",
    "\n",
    "Каждый ряд $f(x)$ -- это бесконечная последовательность коэффициентов. То есть ряд\n",
    "$$\n",
    "f(x) = f_0 + f_1 x + f_2 x^2 + f_3 x^3 + ...\n",
    "$$\n",
    "есть последовательность\n",
    "$$\n",
    "[f_0, f_1, f_2, f_3, ...].\n",
    "$$\n",
    "\n",
    "Последовательность мы представляем как структуру, часть вычислений которой отложенные. Так описанная выше последовательность есть `Cons(f_0, Cons(f_1, Cons(f_2, Cons(f_3, Thunk))))`. Первые четыре элемента вычислены, а для вычисления пятого надо вызвать функцию, которая этот пятый элемент посчитает.\n",
    "\n",
    "Cons-ячейка -- это пара, которая даёт информацию о том, каково значение текущего коэффициента, и как вычислить значения всех остальных коэффициентов."
   ]
  },
  {
   "cell_type": "code",
   "execution_count": 1,
   "id": "confident-religious",
   "metadata": {},
   "outputs": [],
   "source": [
    "import Base: show, +, *, /, -\n",
    "using Latexify"
   ]
  },
  {
   "cell_type": "code",
   "execution_count": 2,
   "id": "narrative-kruger",
   "metadata": {},
   "outputs": [
    {
     "data": {
      "text/plain": [
       "consthunk (generic function with 1 method)"
      ]
     },
     "execution_count": 2,
     "metadata": {},
     "output_type": "execute_result"
    }
   ],
   "source": [
    "\"Объединяем две разные структуры под одним типом\"\n",
    "abstract type Series{T <: Number}\n",
    "end\n",
    "\n",
    "\n",
    "\"Thunk -- это обёртка, отложенное вычисление. Функция, которая вернёт Cons-ячейку при вычислении\"\n",
    "struct Thunk{T <: Number} <: Series{T}\n",
    "    thunk::Function\n",
    "end\n",
    "\n",
    "\n",
    "\"Cons-ячейка -- это значение текущего коэффициента и ссылка на оставшийся хвост\"\n",
    "mutable struct Cons{T <: Number} <: Series{T}\n",
    "    head::T\n",
    "    tail::Series{T}\n",
    "    \n",
    "    function Cons{T}(head::T, tail::Thunk{T}) where T <: Number\n",
    "        series = new()\n",
    "        series.head = head\n",
    "        series.tail = Thunk{T}(() -> series.tail = tail.thunk())  # !\n",
    "        return series\n",
    "    end\n",
    "    \n",
    "    function Cons{T}(head::T, tail::Cons{T}) where T <: Number\n",
    "        return new(head, tail)\n",
    "    end\n",
    "end\n",
    "\n",
    "\n",
    "function consthunk(head::T, tail::Function)::Cons{T} where T <: Number\n",
    "    return Cons{T}(head, Thunk{T}(tail))\n",
    "end"
   ]
  },
  {
   "cell_type": "code",
   "execution_count": 3,
   "id": "vital-reference",
   "metadata": {},
   "outputs": [
    {
     "data": {
      "text/plain": [
       "consthunk"
      ]
     },
     "execution_count": 3,
     "metadata": {},
     "output_type": "execute_result"
    }
   ],
   "source": [
    "\"Деструктор. Cons-ячейку мы просто раскладвыаем в пару, а Thunk сперва вычисляем, только потом раскладываем\"\n",
    "function peel end\n",
    "\n",
    "function peel(s::Cons{T})::Tuple{T,Series{T}} where T <: Number\n",
    "    return (s.head, s.tail)\n",
    "end\n",
    "\n",
    "function peel(s::Thunk{T}) where T <: Number\n",
    "    return peel(s.thunk())\n",
    "end\n",
    "\n",
    "\n",
    "\"Вспомогательная функция, чтобы не писть много скобок, когда надо сделать Cons(a, Thunk(b))\"\n",
    "function consthunk(head::T, tail::Function)::Series{T} where T <: Number\n",
    "    return Cons{T}(head, Thunk{T}(tail))\n",
    "end"
   ]
  },
  {
   "cell_type": "code",
   "execution_count": 4,
   "id": "electronic-saudi",
   "metadata": {},
   "outputs": [
    {
     "data": {
      "text/plain": [
       "series"
      ]
     },
     "execution_count": 4,
     "metadata": {},
     "output_type": "execute_result"
    }
   ],
   "source": [
    "\"Конструктор степенного ряда из генерирующей функции\"\n",
    "function generate(::Type{T}, gen::Function)::Series{T} where T <: Number\n",
    "    function run(i::Int)::Series{T}\n",
    "        return consthunk(T(gen(i)), () -> run(i + 1))\n",
    "    end\n",
    "    \n",
    "    return run(0)\n",
    "end\n",
    "\n",
    "\"Конструктор степенного ряда из вектора\"\n",
    "function series(data::Vector{T}; cycled::Bool=false)::Series{T} where T <: Number\n",
    "    n = length(data)\n",
    "    if cycled\n",
    "        return generate(T, i -> data[i % n + 1], 0)\n",
    "    else\n",
    "        return generate(T, i -> (i >= n) ? T(0) : data[i + 1])\n",
    "    end\n",
    "end"
   ]
  },
  {
   "cell_type": "code",
   "execution_count": 5,
   "id": "muslim-setup",
   "metadata": {},
   "outputs": [
    {
     "data": {
      "text/plain": [
       "take"
      ]
     },
     "execution_count": 5,
     "metadata": {},
     "output_type": "execute_result"
    }
   ],
   "source": [
    "\"Взять первые n коэффициентов и вернуть их в векторе\"\n",
    "function take(s::Series{T}, n::Int)::Vector{T} where T <: Number\n",
    "    vec = Vector{T}(undef, n)\n",
    "    \n",
    "    for i in 1:n\n",
    "        (vec[i], s) = peel(s)\n",
    "    end\n",
    "    \n",
    "    return vec\n",
    "end"
   ]
  },
  {
   "cell_type": "code",
   "execution_count": 6,
   "id": "billion-extent",
   "metadata": {},
   "outputs": [
    {
     "data": {
      "text/plain": [
       "Base.show"
      ]
     },
     "execution_count": 6,
     "metadata": {},
     "output_type": "execute_result"
    }
   ],
   "source": [
    "\"Преобразовать часть степенного ряда в выражение\"\n",
    "function series_expr(s::Series{T}, n::Int=9, var::Symbol=:x)::Expr where T <: Number\n",
    "    (constant, s) = peel(s)\n",
    "    args = Any[constant]\n",
    "    for i in 1:n\n",
    "        (coef, s) = peel(s)\n",
    "        term = (i == 1) ? var : :($var ^ $i)\n",
    "        term = (coef == 1) ? term : :($coef * $term)\n",
    "        push!(args, term)\n",
    "    end\n",
    "    return Expr(:call, :+, args..., :...)\n",
    "end\n",
    "\n",
    "\"Красивое представление степенного ряда в LaTeX\"\n",
    "function show(io::IO, ::MIME\"text/latex\", s::Series{T})::Nothing where T <: Number\n",
    "    println(io, latexify(series_expr(s)))\n",
    "end\n",
    "\n",
    "\"Красивое представление степенного ряда в LaTeX\"\n",
    "function show(io::IO, ::MIME\"text/plain\", s::Series{T})::Nothing where T <: Number\n",
    "    println(io, latexify(series_expr(s)))\n",
    "end"
   ]
  },
  {
   "cell_type": "markdown",
   "id": "thorough-celebrity",
   "metadata": {},
   "source": [
    "Далее ряды будем представлять следующим образом:\n",
    "$$\n",
    "f(x) = f_0 + f_1 x + f_2 x^2 + \\ldots = f_h + x \\cdot f_t(x),\n",
    "$$\n",
    "\n",
    "где $f_h = f_0$ есть \"голова\"(head), а $f_t(x) = f_1 + f_2 x + f_3 x^2 + \\ldots$ есть \"хвост\"(tail)"
   ]
  },
  {
   "cell_type": "markdown",
   "id": "latter-wholesale",
   "metadata": {},
   "source": [
    "### Сложение степенных рядов\n",
    "Пусть есть ряды $f(x) = f_h + x \\cdot f_t(x)$ и $g(x) = g_h + x \\cdot g_t(x)$, тогда:\n",
    "\n",
    "$$\n",
    "f(x) + g(x) = \\left(f_h + g_h\\right) + x \\cdot \\left(f_t(x) + g_t(x)\\right)\n",
    "$$"
   ]
  },
  {
   "cell_type": "code",
   "execution_count": 7,
   "id": "dynamic-feeding",
   "metadata": {},
   "outputs": [
    {
     "data": {
      "text/plain": [
       "+ (generic function with 191 methods)"
      ]
     },
     "execution_count": 7,
     "metadata": {},
     "output_type": "execute_result"
    }
   ],
   "source": [
    "function +(s1::Series{T}, s2::Series{T})::Series{T} where T <: Number\n",
    "    (h1, t1) = peel(s1)\n",
    "    (h2, t2) = peel(s2)\n",
    "    return consthunk(h1 + h2, () -> t1 + t2)\n",
    "end"
   ]
  },
  {
   "cell_type": "markdown",
   "id": "fleet-force",
   "metadata": {},
   "source": [
    "### Умножение ряда на число\n",
    "Пусть есть число $a$ и ряд $f(x) = f_h + x \\cdot f_t(x)$, тогда:\n",
    "\n",
    "$$\n",
    "a \\cdot f(x) = \\left(a \\cdot f_h \\right) + x \\cdot \\left(a \\cdot f_t(x)\\right)\n",
    "$$"
   ]
  },
  {
   "cell_type": "code",
   "execution_count": 8,
   "id": "vocational-request",
   "metadata": {},
   "outputs": [
    {
     "data": {
      "text/plain": [
       "* (generic function with 329 methods)"
      ]
     },
     "execution_count": 8,
     "metadata": {},
     "output_type": "execute_result"
    }
   ],
   "source": [
    "function *(a::T, f::Series{T})::Series{T} where T <: Number\n",
    "    (h, t) = peel(f)\n",
    "    return consthunk(a * h, () -> a * t)\n",
    "end"
   ]
  },
  {
   "cell_type": "code",
   "execution_count": 9,
   "id": "reduced-england",
   "metadata": {},
   "outputs": [
    {
     "data": {
      "text/plain": [
       "- (generic function with 198 methods)"
      ]
     },
     "execution_count": 9,
     "metadata": {},
     "output_type": "execute_result"
    }
   ],
   "source": [
    "function -(s::Series{T})::Series{T} where T <: Number\n",
    "    return T(-1) * s\n",
    "end"
   ]
  },
  {
   "cell_type": "markdown",
   "id": "sitting-romantic",
   "metadata": {},
   "source": [
    "### Умножение рядов\n",
    "\n",
    "Пусть есть ряды $f(x) = f_h + x f_t(x)$ и $g(x)$, тогда:\n",
    "\n",
    "$$\n",
    "f(x) \\cdot g(x) = \\left(f_h \\cdot g(x)\\right) + x \\cdot \\left(f_t(x) \\cdot g(x)\\right)\n",
    "$$"
   ]
  },
  {
   "cell_type": "code",
   "execution_count": 10,
   "id": "essential-filename",
   "metadata": {},
   "outputs": [
    {
     "data": {
      "text/plain": [
       "* (generic function with 330 methods)"
      ]
     },
     "execution_count": 10,
     "metadata": {},
     "output_type": "execute_result"
    }
   ],
   "source": [
    "function *(f::Series{T}, g::Series{T})::Series{T} where T <: Number\n",
    "    (fh, ft) = peel(f)\n",
    "    return fh * g + consthunk(T(0), () -> ft * g)\n",
    "end"
   ]
  },
  {
   "cell_type": "markdown",
   "id": "confidential-surge",
   "metadata": {},
   "source": [
    "### Подстановка\n",
    "Пусть есть ряды $f(x) = f_h + x f_t(x)$ и $g(x) = x g_t(x)$, тогда:\n",
    "\n",
    "$$\n",
    "f(g(x)) = f_h + g(x) \\cdot f_t(g(x)) = f_h + x \\cdot g_t(x) \\cdot f_t(g(x))\n",
    "$$\n",
    "\n",
    "Наличие $x$ во втором слагаемом даёт возможность отложить вычисление этого второго слагаемого."
   ]
  },
  {
   "cell_type": "code",
   "execution_count": 11,
   "id": "joint-granny",
   "metadata": {},
   "outputs": [],
   "source": [
    "function (f::Series{T})(g::Series{T})::Series{T} where T <: Number\n",
    "    (gh, gt) = peel(g)\n",
    "    gh == 0 || throw(ErrorException(\"non-zero head in application\"))\n",
    "\n",
    "    (fh, ft) = peel(f)\n",
    "    return consthunk(fh, () -> gt * ft(g))\n",
    "end"
   ]
  },
  {
   "cell_type": "markdown",
   "id": "behavioral-fitness",
   "metadata": {},
   "source": [
    "### Обращение ряда (в смысле деления)\n",
    "\n",
    "Пусть есть ряд $f(x) = f_h + x \\cdot f_t(x)$, тогда:\n",
    "\n",
    "$$\n",
    "\\frac{1}{f(x)} = \\frac{1}{f_h + x \\cdot f_t(x)} = \\frac{1}{f_h} \\cdot \\frac{1}{1 + x \\frac{f_t(x)}{f_h}}\n",
    "= \\frac{1}{f_h} \\cdot r\\left(-x \\frac{f_t(x)}{f_h}\\right),\n",
    "$$\n",
    "где $r(x) = 1 + x + x^2 + x^3 + \\ldots$"
   ]
  },
  {
   "cell_type": "code",
   "execution_count": 12,
   "id": "proud-delivery",
   "metadata": {},
   "outputs": [
    {
     "data": {
      "text/plain": [
       "recip"
      ]
     },
     "execution_count": 12,
     "metadata": {},
     "output_type": "execute_result"
    }
   ],
   "source": [
    "\"Обращение ряда (в смысле деления)\"\n",
    "function recip(s::Series{T})::Series{T} where T <: Number\n",
    "    (h, t) = peel(s)\n",
    "    h == 0 && throw(ErrorException(\"zero head in reciprocation\"))\n",
    "\n",
    "    ones = generate(T, i -> T(1))\n",
    "    rh = 1 / h\n",
    "    return rh * ones(Cons{T}(T(0), -rh * t))\n",
    "end"
   ]
  },
  {
   "cell_type": "markdown",
   "id": "decreased-boutique",
   "metadata": {},
   "source": [
    "### Деление рядов\n",
    "\n",
    "$$\n",
    "\\frac{f(x)}{g(x)} = f(x) \\cdot \\frac{1}{g(x)}\n",
    "$$"
   ]
  },
  {
   "cell_type": "code",
   "execution_count": 13,
   "id": "duplicate-richmond",
   "metadata": {},
   "outputs": [
    {
     "data": {
      "text/plain": [
       "/ (generic function with 107 methods)"
      ]
     },
     "execution_count": 13,
     "metadata": {},
     "output_type": "execute_result"
    }
   ],
   "source": [
    "function /(s1::Series{T}, s2::Series{T})::Series{T} where T <: Number\n",
    "    (s2h, s2t) = peel(s2)\n",
    "    if s2h == 0\n",
    "        (s1h, s1t) = peel(s1)\n",
    "        s1h == 0 || throw(ErrorException(\"zero head in reciprocation\"))\n",
    "        return s1t / s2t\n",
    "    else\n",
    "        return s1 * recip(s2)\n",
    "    end\n",
    "end"
   ]
  },
  {
   "cell_type": "code",
   "execution_count": 14,
   "id": "eight-shareware",
   "metadata": {
    "scrolled": true
   },
   "outputs": [
    {
     "data": {
      "text/plain": [
       "solve"
      ]
     },
     "execution_count": 14,
     "metadata": {},
     "output_type": "execute_result"
    }
   ],
   "source": [
    "\"Решить уравнение f(g(x)) = h(x)\"\n",
    "function solve(g::Series{T}, h::Series{T}=series(T[0, 1])) where T <: Number\n",
    "    (ghead, gtail) = peel(g)\n",
    "    ghead == 0 || throw(ErrorException(\"non-zero head of argument in solve\"))\n",
    "    \n",
    "    (hhead, htail) = peel(h)\n",
    "    return consthunk(hhead, () -> solve(g, htail / gtail))\n",
    "end"
   ]
  },
  {
   "cell_type": "code",
   "execution_count": 15,
   "id": "collective-yahoo",
   "metadata": {},
   "outputs": [
    {
     "data": {
      "text/plain": [
       "inv"
      ]
     },
     "execution_count": 15,
     "metadata": {},
     "output_type": "execute_result"
    }
   ],
   "source": [
    "\"Обращение ряда (в смысле подстановки)\"\n",
    "function inv(g::Series{T})::Series{T} where T <: Number\n",
    "    return solve(g)\n",
    "end"
   ]
  },
  {
   "cell_type": "code",
   "execution_count": 16,
   "id": "tropical-reward",
   "metadata": {
    "scrolled": true
   },
   "outputs": [
    {
     "data": {
      "text/plain": [
       "differentiate"
      ]
     },
     "execution_count": 16,
     "metadata": {},
     "output_type": "execute_result"
    }
   ],
   "source": [
    "\"Дифференцирование\"\n",
    "function differentiate(s::Series{T})::Series{T} where T <: Number\n",
    "    function run(s::Series{T}, i::Int)::Series{T}\n",
    "        (head, tail) = peel(s)\n",
    "        return consthunk(head * i, () -> run(tail, i + 1))\n",
    "    end\n",
    "\n",
    "    (_, tail) = peel(s)\n",
    "    return run(tail, 1)\n",
    "end"
   ]
  },
  {
   "cell_type": "code",
   "execution_count": 17,
   "id": "pressed-sauce",
   "metadata": {
    "scrolled": true
   },
   "outputs": [
    {
     "data": {
      "text/plain": [
       "integrate"
      ]
     },
     "execution_count": 17,
     "metadata": {},
     "output_type": "execute_result"
    }
   ],
   "source": [
    "\"Интегрирование\"\n",
    "function integrate(s::Series{T}, initial::T=T(0))::Series{T} where T <: Number\n",
    "    function run(s::Series{T}, i::Int)::Series{T}\n",
    "        (head, tail) = peel(s)\n",
    "        return consthunk(head / i, () -> run(tail, i + 1))\n",
    "    end\n",
    "\n",
    "    return consthunk(initial, () -> run(s, 1))\n",
    "end"
   ]
  },
  {
   "cell_type": "code",
   "execution_count": 18,
   "id": "driven-parks",
   "metadata": {},
   "outputs": [
    {
     "data": {
      "text/latex": [
       "$0 + 0 \\cdot x -1 \\cdot x^{2} + 0 \\cdot x^{3} + 0 \\cdot x^{4} + 0 \\cdot x^{5} + 0 \\cdot x^{6} + 0 \\cdot x^{7} + 0 \\cdot x^{8} + 0 \\cdot x^{9} + ...$\n"
      ],
      "text/plain": [
       "$0 + 0 \\cdot x -1 \\cdot x^{2} + 0 \\cdot x^{3} + 0 \\cdot x^{4} + 0 \\cdot x^{5} + 0 \\cdot x^{6} + 0 \\cdot x^{7} + 0 \\cdot x^{8} + 0 \\cdot x^{9} + ...$\n"
      ]
     },
     "execution_count": 18,
     "metadata": {},
     "output_type": "execute_result"
    }
   ],
   "source": [
    "ser0 = generate(Rational{Int}, i -> i == 2 ? -1 : 0)"
   ]
  },
  {
   "cell_type": "code",
   "execution_count": 19,
   "id": "renewable-blink",
   "metadata": {},
   "outputs": [
    {
     "data": {
      "text/latex": [
       "$1 + x + x^{2} + x^{3} + x^{4} + x^{5} + x^{6} + x^{7} + x^{8} + x^{9} + ...$\n"
      ],
      "text/plain": [
       "$1 + x + x^{2} + x^{3} + x^{4} + x^{5} + x^{6} + x^{7} + x^{8} + x^{9} + ...$\n"
      ]
     },
     "execution_count": 19,
     "metadata": {},
     "output_type": "execute_result"
    }
   ],
   "source": [
    "ser1 = generate(Rational{Int}, i -> 1//1)"
   ]
  },
  {
   "cell_type": "code",
   "execution_count": 20,
   "id": "continued-violence",
   "metadata": {},
   "outputs": [
    {
     "data": {
      "text/latex": [
       "$1 -1 \\cdot x + 0 \\cdot x^{2} + 0 \\cdot x^{3} + 0 \\cdot x^{4} + 0 \\cdot x^{5} + 0 \\cdot x^{6} + 0 \\cdot x^{7} + 0 \\cdot x^{8} + 0 \\cdot x^{9} + ...$\n"
      ],
      "text/plain": [
       "$1 -1 \\cdot x + 0 \\cdot x^{2} + 0 \\cdot x^{3} + 0 \\cdot x^{4} + 0 \\cdot x^{5} + 0 \\cdot x^{6} + 0 \\cdot x^{7} + 0 \\cdot x^{8} + 0 \\cdot x^{9} + ...$\n"
      ]
     },
     "execution_count": 20,
     "metadata": {},
     "output_type": "execute_result"
    }
   ],
   "source": [
    "recip(ser1)"
   ]
  },
  {
   "cell_type": "code",
   "execution_count": 21,
   "id": "imported-voice",
   "metadata": {},
   "outputs": [
    {
     "data": {
      "text/latex": [
       "$1 + 0 \\cdot x + 0 \\cdot x^{2} + 0 \\cdot x^{3} + 0 \\cdot x^{4} + 0 \\cdot x^{5} + 0 \\cdot x^{6} + 0 \\cdot x^{7} + 0 \\cdot x^{8} + 0 \\cdot x^{9} + ...$\n"
      ],
      "text/plain": [
       "$1 + 0 \\cdot x + 0 \\cdot x^{2} + 0 \\cdot x^{3} + 0 \\cdot x^{4} + 0 \\cdot x^{5} + 0 \\cdot x^{6} + 0 \\cdot x^{7} + 0 \\cdot x^{8} + 0 \\cdot x^{9} + ...$\n"
      ]
     },
     "execution_count": 21,
     "metadata": {},
     "output_type": "execute_result"
    }
   ],
   "source": [
    "ser1 / ser1"
   ]
  },
  {
   "cell_type": "code",
   "execution_count": 22,
   "id": "understood-church",
   "metadata": {},
   "outputs": [
    {
     "data": {
      "text/latex": [
       "$1 + 0 \\cdot x -1 \\cdot x^{2} + 0 \\cdot x^{3} + x^{4} + 0 \\cdot x^{5} -1 \\cdot x^{6} + 0 \\cdot x^{7} + x^{8} + 0 \\cdot x^{9} + ...$\n"
      ],
      "text/plain": [
       "$1 + 0 \\cdot x -1 \\cdot x^{2} + 0 \\cdot x^{3} + x^{4} + 0 \\cdot x^{5} -1 \\cdot x^{6} + 0 \\cdot x^{7} + x^{8} + 0 \\cdot x^{9} + ...$\n"
      ]
     },
     "execution_count": 22,
     "metadata": {},
     "output_type": "execute_result"
    }
   ],
   "source": [
    "ser1(ser0)"
   ]
  },
  {
   "cell_type": "code",
   "execution_count": 23,
   "id": "impaired-barrier",
   "metadata": {},
   "outputs": [
    {
     "data": {
      "text/latex": [
       "$0 -1 \\cdot x + \\frac{1}{2} \\cdot x^{2} + \\frac{-1}{3} \\cdot x^{3} + \\frac{1}{4} \\cdot x^{4} + \\frac{-1}{5} \\cdot x^{5} + \\frac{1}{6} \\cdot x^{6} + \\frac{-1}{7} \\cdot x^{7} + \\frac{1}{8} \\cdot x^{8} + \\frac{-1}{9} \\cdot x^{9} + ...$\n"
      ],
      "text/plain": [
       "$0 -1 \\cdot x + \\frac{1}{2} \\cdot x^{2} + \\frac{-1}{3} \\cdot x^{3} + \\frac{1}{4} \\cdot x^{4} + \\frac{-1}{5} \\cdot x^{5} + \\frac{1}{6} \\cdot x^{6} + \\frac{-1}{7} \\cdot x^{7} + \\frac{1}{8} \\cdot x^{8} + \\frac{-1}{9} \\cdot x^{9} + ...$\n"
      ]
     },
     "execution_count": 23,
     "metadata": {},
     "output_type": "execute_result"
    }
   ],
   "source": [
    "ser2 = generate(Rational{Int}, i -> (i == 0) ? 0 : (-1)^i // i)"
   ]
  },
  {
   "cell_type": "code",
   "execution_count": 24,
   "id": "educated-intelligence",
   "metadata": {},
   "outputs": [
    {
     "data": {
      "text/latex": [
       "$1 + 0 \\cdot x + 0 \\cdot x^{2} + 0 \\cdot x^{3} + 0 \\cdot x^{4} + 0 \\cdot x^{5} + 0 \\cdot x^{6} + 0 \\cdot x^{7} + 0 \\cdot x^{8} + 0 \\cdot x^{9} + ...$\n"
      ],
      "text/plain": [
       "$1 + 0 \\cdot x + 0 \\cdot x^{2} + 0 \\cdot x^{3} + 0 \\cdot x^{4} + 0 \\cdot x^{5} + 0 \\cdot x^{6} + 0 \\cdot x^{7} + 0 \\cdot x^{8} + 0 \\cdot x^{9} + ...$\n"
      ]
     },
     "execution_count": 24,
     "metadata": {},
     "output_type": "execute_result"
    }
   ],
   "source": [
    "ser2 / ser2"
   ]
  },
  {
   "cell_type": "code",
   "execution_count": 25,
   "id": "freelance-telephone",
   "metadata": {},
   "outputs": [
    {
     "data": {
      "text/latex": [
       "$1 + 0 \\cdot x + \\frac{3}{2} \\cdot x^{2} + \\frac{2}{3} \\cdot x^{3} + \\frac{5}{4} \\cdot x^{4} + \\frac{4}{5} \\cdot x^{5} + \\frac{7}{6} \\cdot x^{6} + \\frac{6}{7} \\cdot x^{7} + \\frac{9}{8} \\cdot x^{8} + \\frac{8}{9} \\cdot x^{9} + ...$\n"
      ],
      "text/plain": [
       "$1 + 0 \\cdot x + \\frac{3}{2} \\cdot x^{2} + \\frac{2}{3} \\cdot x^{3} + \\frac{5}{4} \\cdot x^{4} + \\frac{4}{5} \\cdot x^{5} + \\frac{7}{6} \\cdot x^{6} + \\frac{6}{7} \\cdot x^{7} + \\frac{9}{8} \\cdot x^{8} + \\frac{8}{9} \\cdot x^{9} + ...$\n"
      ]
     },
     "execution_count": 25,
     "metadata": {},
     "output_type": "execute_result"
    }
   ],
   "source": [
    "ser1 + ser2"
   ]
  },
  {
   "cell_type": "code",
   "execution_count": 26,
   "id": "aquatic-illness",
   "metadata": {},
   "outputs": [
    {
     "data": {
      "text/latex": [
       "$3 + 6 \\cdot x + 9 \\cdot x^{2} + 12 \\cdot x^{3} + 15 \\cdot x^{4} + 18 \\cdot x^{5} + 21 \\cdot x^{6} + 24 \\cdot x^{7} + 27 \\cdot x^{8} + 30 \\cdot x^{9} + ...$\n"
      ],
      "text/plain": [
       "$3 + 6 \\cdot x + 9 \\cdot x^{2} + 12 \\cdot x^{3} + 15 \\cdot x^{4} + 18 \\cdot x^{5} + 21 \\cdot x^{6} + 24 \\cdot x^{7} + 27 \\cdot x^{8} + 30 \\cdot x^{9} + ...$\n"
      ]
     },
     "execution_count": 26,
     "metadata": {},
     "output_type": "execute_result"
    }
   ],
   "source": [
    "3//1 * ser1 * ser1"
   ]
  },
  {
   "cell_type": "code",
   "execution_count": 27,
   "id": "clinical-convertible",
   "metadata": {},
   "outputs": [
    {
     "data": {
      "text/latex": [
       "$1 -1 \\cdot x + \\frac{3}{2} \\cdot x^{2} + \\frac{-7}{3} \\cdot x^{3} + \\frac{11}{3} \\cdot x^{4} + \\frac{-347}{60} \\cdot x^{5} + \\frac{3289}{360} \\cdot x^{6} + \\frac{-1011}{70} \\cdot x^{7} + \\frac{38371}{1680} \\cdot x^{8} + \\frac{-136553}{3780} \\cdot x^{9} + ...$\n"
      ],
      "text/plain": [
       "$1 -1 \\cdot x + \\frac{3}{2} \\cdot x^{2} + \\frac{-7}{3} \\cdot x^{3} + \\frac{11}{3} \\cdot x^{4} + \\frac{-347}{60} \\cdot x^{5} + \\frac{3289}{360} \\cdot x^{6} + \\frac{-1011}{70} \\cdot x^{7} + \\frac{38371}{1680} \\cdot x^{8} + \\frac{-136553}{3780} \\cdot x^{9} + ...$\n"
      ]
     },
     "execution_count": 27,
     "metadata": {},
     "output_type": "execute_result"
    }
   ],
   "source": [
    "ser1(ser2)"
   ]
  },
  {
   "cell_type": "code",
   "execution_count": 28,
   "id": "proper-shipping",
   "metadata": {},
   "outputs": [
    {
     "data": {
      "text/latex": [
       "$1 + 2 \\cdot x + 3 \\cdot x^{2} + 4 \\cdot x^{3} + 5 \\cdot x^{4} + 6 \\cdot x^{5} + 7 \\cdot x^{6} + 8 \\cdot x^{7} + 9 \\cdot x^{8} + 10 \\cdot x^{9} + ...$\n"
      ],
      "text/plain": [
       "$1 + 2 \\cdot x + 3 \\cdot x^{2} + 4 \\cdot x^{3} + 5 \\cdot x^{4} + 6 \\cdot x^{5} + 7 \\cdot x^{6} + 8 \\cdot x^{7} + 9 \\cdot x^{8} + 10 \\cdot x^{9} + ...$\n"
      ]
     },
     "execution_count": 28,
     "metadata": {},
     "output_type": "execute_result"
    }
   ],
   "source": [
    "differentiate(ser1)"
   ]
  },
  {
   "cell_type": "code",
   "execution_count": 29,
   "id": "senior-olympus",
   "metadata": {},
   "outputs": [
    {
     "data": {
      "text/latex": [
       "$0 + x + \\frac{1}{2} \\cdot x^{2} + \\frac{1}{3} \\cdot x^{3} + \\frac{1}{4} \\cdot x^{4} + \\frac{1}{5} \\cdot x^{5} + \\frac{1}{6} \\cdot x^{6} + \\frac{1}{7} \\cdot x^{7} + \\frac{1}{8} \\cdot x^{8} + \\frac{1}{9} \\cdot x^{9} + ...$\n"
      ],
      "text/plain": [
       "$0 + x + \\frac{1}{2} \\cdot x^{2} + \\frac{1}{3} \\cdot x^{3} + \\frac{1}{4} \\cdot x^{4} + \\frac{1}{5} \\cdot x^{5} + \\frac{1}{6} \\cdot x^{6} + \\frac{1}{7} \\cdot x^{7} + \\frac{1}{8} \\cdot x^{8} + \\frac{1}{9} \\cdot x^{9} + ...$\n"
      ]
     },
     "execution_count": 29,
     "metadata": {},
     "output_type": "execute_result"
    }
   ],
   "source": [
    "integrate(ser1)"
   ]
  },
  {
   "cell_type": "code",
   "execution_count": 30,
   "id": "quarterly-unknown",
   "metadata": {},
   "outputs": [
    {
     "data": {
      "text/latex": [
       "$0 -1 \\cdot x + \\frac{1}{2} \\cdot x^{2} + \\frac{-1}{3} \\cdot x^{3} + \\frac{1}{4} \\cdot x^{4} + \\frac{-1}{5} \\cdot x^{5} + \\frac{1}{6} \\cdot x^{6} + \\frac{-1}{7} \\cdot x^{7} + \\frac{1}{8} \\cdot x^{8} + \\frac{-1}{9} \\cdot x^{9} + ...$\n"
      ],
      "text/plain": [
       "$0 -1 \\cdot x + \\frac{1}{2} \\cdot x^{2} + \\frac{-1}{3} \\cdot x^{3} + \\frac{1}{4} \\cdot x^{4} + \\frac{-1}{5} \\cdot x^{5} + \\frac{1}{6} \\cdot x^{6} + \\frac{-1}{7} \\cdot x^{7} + \\frac{1}{8} \\cdot x^{8} + \\frac{-1}{9} \\cdot x^{9} + ...$\n"
      ]
     },
     "metadata": {},
     "output_type": "display_data"
    },
    {
     "name": "stdout",
     "output_type": "stream",
     "text": [
      "  0.776836 seconds (1.95 M allocations: 93.793 MiB, 3.88% gc time, 94.11% compilation time)\n"
     ]
    }
   ],
   "source": [
    "@time display(inv(inv(inv(inv(inv(inv(ser2)))))))"
   ]
  },
  {
   "cell_type": "code",
   "execution_count": 18,
   "id": "dominican-helping",
   "metadata": {},
   "outputs": [
    {
     "data": {
      "text/plain": [
       "peel (generic function with 3 methods)"
      ]
     },
     "execution_count": 18,
     "metadata": {},
     "output_type": "execute_result"
    }
   ],
   "source": [
    "mutable struct FixSeries{T <: Number} <: Series{T}\n",
    "    fun::Union{Function, Series{T}}\n",
    "\n",
    "    function FixSeries{T}(fun::Function) where T <: Number\n",
    "        return new(s -> s.fun = fun(s))\n",
    "    end\n",
    "end\n",
    "\n",
    "\n",
    "function peel(s::FixSeries{T})::Tuple{T, Series{T}} where T <: Number\n",
    "    return peel(isa(s.fun, Function) ? s.fun(s) : s.fun)\n",
    "end"
   ]
  },
  {
   "cell_type": "code",
   "execution_count": 21,
   "id": "champion-aquarium",
   "metadata": {},
   "outputs": [
    {
     "data": {
      "text/latex": [
       "$1 + x + \\frac{1}{2} \\cdot x^{2} + \\frac{1}{6} \\cdot x^{3} + \\frac{1}{24} \\cdot x^{4} + \\frac{1}{120} \\cdot x^{5} + \\frac{1}{720} \\cdot x^{6} + \\frac{1}{5040} \\cdot x^{7} + \\frac{1}{40320} \\cdot x^{8} + \\frac{1}{362880} \\cdot x^{9} + ...$\n"
      ],
      "text/plain": [
       "$1 + x + \\frac{1}{2} \\cdot x^{2} + \\frac{1}{6} \\cdot x^{3} + \\frac{1}{24} \\cdot x^{4} + \\frac{1}{120} \\cdot x^{5} + \\frac{1}{720} \\cdot x^{6} + \\frac{1}{5040} \\cdot x^{7} + \\frac{1}{40320} \\cdot x^{8} + \\frac{1}{362880} \\cdot x^{9} + ...$\n"
      ]
     },
     "execution_count": 21,
     "metadata": {},
     "output_type": "execute_result"
    }
   ],
   "source": [
    "FixSeries{Rational{Int}}(s -> integrate(s, 1//1))"
   ]
  },
  {
   "cell_type": "code",
   "execution_count": 19,
   "id": "under-internship",
   "metadata": {},
   "outputs": [
    {
     "data": {
      "text/latex": [
       "$1 + 0 \\cdot x + \\frac{-1}{2} \\cdot x^{2} + 0 \\cdot x^{3} + \\frac{1}{24} \\cdot x^{4} + 0 \\cdot x^{5} + \\frac{-1}{720} \\cdot x^{6} + 0 \\cdot x^{7} + \\frac{1}{40320} \\cdot x^{8} + 0 \\cdot x^{9} + ...$\n"
      ],
      "text/plain": [
       "$1 + 0 \\cdot x + \\frac{-1}{2} \\cdot x^{2} + 0 \\cdot x^{3} + \\frac{1}{24} \\cdot x^{4} + 0 \\cdot x^{5} + \\frac{-1}{720} \\cdot x^{6} + 0 \\cdot x^{7} + \\frac{1}{40320} \\cdot x^{8} + 0 \\cdot x^{9} + ...$\n"
      ]
     },
     "execution_count": 19,
     "metadata": {},
     "output_type": "execute_result"
    }
   ],
   "source": [
    "FixSeries{Rational{Int}}(s -> -integrate(integrate(s), -1//1))"
   ]
  },
  {
   "cell_type": "code",
   "execution_count": 32,
   "id": "disabled-australian",
   "metadata": {},
   "outputs": [
    {
     "data": {
      "text/latex": [
       "$1 + x + \\frac{1}{2} \\cdot x^{2} + \\frac{1}{6} \\cdot x^{3} + \\frac{1}{24} \\cdot x^{4} + \\frac{1}{120} \\cdot x^{5} + \\frac{1}{720} \\cdot x^{6} + \\frac{1}{5040} \\cdot x^{7} + \\frac{1}{40320} \\cdot x^{8} + \\frac{1}{362880} \\cdot x^{9} + ...$\n"
      ],
      "text/plain": [
       "$1 + x + \\frac{1}{2} \\cdot x^{2} + \\frac{1}{6} \\cdot x^{3} + \\frac{1}{24} \\cdot x^{4} + \\frac{1}{120} \\cdot x^{5} + \\frac{1}{720} \\cdot x^{6} + \\frac{1}{5040} \\cdot x^{7} + \\frac{1}{40320} \\cdot x^{8} + \\frac{1}{362880} \\cdot x^{9} + ...$\n"
      ]
     },
     "execution_count": 32,
     "metadata": {},
     "output_type": "execute_result"
    }
   ],
   "source": [
    "genexp() = integrate(Thunk{Rational{Int}}(() -> genexp()), 1//1)\n",
    "genexp()"
   ]
  },
  {
   "cell_type": "code",
   "execution_count": 35,
   "id": "composed-ontario",
   "metadata": {},
   "outputs": [
    {
     "data": {
      "text/latex": [
       "$1 + 0 \\cdot x + \\frac{-1}{2} \\cdot x^{2} + 0 \\cdot x^{3} + \\frac{1}{24} \\cdot x^{4} + 0 \\cdot x^{5} + \\frac{-1}{720} \\cdot x^{6} + 0 \\cdot x^{7} + \\frac{1}{40320} \\cdot x^{8} + 0 \\cdot x^{9} + ...$\n"
      ],
      "text/plain": [
       "$1 + 0 \\cdot x + \\frac{-1}{2} \\cdot x^{2} + 0 \\cdot x^{3} + \\frac{1}{24} \\cdot x^{4} + 0 \\cdot x^{5} + \\frac{-1}{720} \\cdot x^{6} + 0 \\cdot x^{7} + \\frac{1}{40320} \\cdot x^{8} + 0 \\cdot x^{9} + ...$\n"
      ]
     },
     "execution_count": 35,
     "metadata": {},
     "output_type": "execute_result"
    }
   ],
   "source": [
    "gencos() = -integrate(integrate(Thunk{Rational{Int}}(() -> gencos())), -1//1)\n",
    "gencos()"
   ]
  },
  {
   "cell_type": "code",
   "execution_count": 36,
   "id": "northern-yugoslavia",
   "metadata": {},
   "outputs": [
    {
     "data": {
      "text/latex": [
       "$0 + x + 0 \\cdot x^{2} + \\frac{-1}{6} \\cdot x^{3} + 0 \\cdot x^{4} + \\frac{1}{120} \\cdot x^{5} + 0 \\cdot x^{6} + \\frac{-1}{5040} \\cdot x^{7} + 0 \\cdot x^{8} + \\frac{1}{362880} \\cdot x^{9} + ...$\n"
      ],
      "text/plain": [
       "$0 + x + 0 \\cdot x^{2} + \\frac{-1}{6} \\cdot x^{3} + 0 \\cdot x^{4} + \\frac{1}{120} \\cdot x^{5} + 0 \\cdot x^{6} + \\frac{-1}{5040} \\cdot x^{7} + 0 \\cdot x^{8} + \\frac{1}{362880} \\cdot x^{9} + ...$\n"
      ]
     },
     "execution_count": 36,
     "metadata": {},
     "output_type": "execute_result"
    }
   ],
   "source": [
    "gensin() = -integrate(integrate(Thunk{Rational{Int}}(() -> gensin()), -1//1))\n",
    "gensin()"
   ]
  },
  {
   "cell_type": "code",
   "execution_count": 40,
   "id": "union-direction",
   "metadata": {},
   "outputs": [
    {
     "data": {
      "text/latex": [
       "$1 + 0 \\cdot x + \\frac{-1}{4} \\cdot x^{2} + 0 \\cdot x^{3} + \\frac{1}{64} \\cdot x^{4} + 0 \\cdot x^{5} + \\frac{-1}{2304} \\cdot x^{6} + 0 \\cdot x^{7} + \\frac{1}{147456} \\cdot x^{8} + 0 \\cdot x^{9} + ...$\n"
      ],
      "text/plain": [
       "$1 + 0 \\cdot x + \\frac{-1}{4} \\cdot x^{2} + 0 \\cdot x^{3} + \\frac{1}{64} \\cdot x^{4} + 0 \\cdot x^{5} + \\frac{-1}{2304} \\cdot x^{6} + 0 \\cdot x^{7} + \\frac{1}{147456} \\cdot x^{8} + 0 \\cdot x^{9} + ...$\n"
      ]
     },
     "execution_count": 40,
     "metadata": {},
     "output_type": "execute_result"
    }
   ],
   "source": [
    "function genbessel0(::Type{T})::Series{T} where T <: Number\n",
    "    step1 = consthunk(T(0), () -> genbessel0(T))\n",
    "    _, step2 = peel(integrate(step1))\n",
    "    return -integrate(step2, T(-1))\n",
    "end\n",
    "\n",
    "genbessel0(Rational{Int})"
   ]
  },
  {
   "cell_type": "code",
   "execution_count": 45,
   "id": "constitutional-voluntary",
   "metadata": {},
   "outputs": [
    {
     "data": {
      "text/plain": [
       "bessel (generic function with 1 method)"
      ]
     },
     "execution_count": 45,
     "metadata": {},
     "output_type": "execute_result"
    }
   ],
   "source": [
    "@eval bessel(x) = $(let expr = series_expr(genbessel0(Float64), 50); pop!(expr.args); expr; end)"
   ]
  },
  {
   "cell_type": "code",
   "execution_count": 46,
   "id": "willing-somalia",
   "metadata": {},
   "outputs": [
    {
     "data": {
      "image/svg+xml": [
       "<?xml version=\"1.0\" encoding=\"utf-8\"?>\n",
       "<svg xmlns=\"http://www.w3.org/2000/svg\" xmlns:xlink=\"http://www.w3.org/1999/xlink\" width=\"600\" height=\"400\" viewBox=\"0 0 2400 1600\">\n",
       "<defs>\n",
       "  <clipPath id=\"clip660\">\n",
       "    <rect x=\"0\" y=\"0\" width=\"2400\" height=\"1600\"/>\n",
       "  </clipPath>\n",
       "</defs>\n",
       "<path clip-path=\"url(#clip660)\" d=\"\n",
       "M0 1600 L2400 1600 L2400 0 L0 0  Z\n",
       "  \" fill=\"#ffffff\" fill-rule=\"evenodd\" fill-opacity=\"1\"/>\n",
       "<defs>\n",
       "  <clipPath id=\"clip661\">\n",
       "    <rect x=\"480\" y=\"0\" width=\"1681\" height=\"1600\"/>\n",
       "  </clipPath>\n",
       "</defs>\n",
       "<path clip-path=\"url(#clip660)\" d=\"\n",
       "M223.103 1486.45 L2352.76 1486.45 L2352.76 123.472 L223.103 123.472  Z\n",
       "  \" fill=\"#ffffff\" fill-rule=\"evenodd\" fill-opacity=\"1\"/>\n",
       "<defs>\n",
       "  <clipPath id=\"clip662\">\n",
       "    <rect x=\"223\" y=\"123\" width=\"2131\" height=\"1364\"/>\n",
       "  </clipPath>\n",
       "</defs>\n",
       "<polyline clip-path=\"url(#clip662)\" style=\"stroke:#000000; stroke-linecap:butt; stroke-linejoin:round; stroke-width:2; stroke-opacity:0.1; fill:none\" points=\"\n",
       "  283.376,1486.45 283.376,123.472 \n",
       "  \"/>\n",
       "<polyline clip-path=\"url(#clip662)\" style=\"stroke:#000000; stroke-linecap:butt; stroke-linejoin:round; stroke-width:2; stroke-opacity:0.1; fill:none\" points=\"\n",
       "  953.078,1486.45 953.078,123.472 \n",
       "  \"/>\n",
       "<polyline clip-path=\"url(#clip662)\" style=\"stroke:#000000; stroke-linecap:butt; stroke-linejoin:round; stroke-width:2; stroke-opacity:0.1; fill:none\" points=\"\n",
       "  1622.78,1486.45 1622.78,123.472 \n",
       "  \"/>\n",
       "<polyline clip-path=\"url(#clip662)\" style=\"stroke:#000000; stroke-linecap:butt; stroke-linejoin:round; stroke-width:2; stroke-opacity:0.1; fill:none\" points=\"\n",
       "  2292.48,1486.45 2292.48,123.472 \n",
       "  \"/>\n",
       "<polyline clip-path=\"url(#clip660)\" style=\"stroke:#000000; stroke-linecap:butt; stroke-linejoin:round; stroke-width:4; stroke-opacity:1; fill:none\" points=\"\n",
       "  223.103,1486.45 2352.76,1486.45 \n",
       "  \"/>\n",
       "<polyline clip-path=\"url(#clip660)\" style=\"stroke:#000000; stroke-linecap:butt; stroke-linejoin:round; stroke-width:4; stroke-opacity:1; fill:none\" points=\"\n",
       "  283.376,1486.45 283.376,1467.55 \n",
       "  \"/>\n",
       "<polyline clip-path=\"url(#clip660)\" style=\"stroke:#000000; stroke-linecap:butt; stroke-linejoin:round; stroke-width:4; stroke-opacity:1; fill:none\" points=\"\n",
       "  953.078,1486.45 953.078,1467.55 \n",
       "  \"/>\n",
       "<polyline clip-path=\"url(#clip660)\" style=\"stroke:#000000; stroke-linecap:butt; stroke-linejoin:round; stroke-width:4; stroke-opacity:1; fill:none\" points=\"\n",
       "  1622.78,1486.45 1622.78,1467.55 \n",
       "  \"/>\n",
       "<polyline clip-path=\"url(#clip660)\" style=\"stroke:#000000; stroke-linecap:butt; stroke-linejoin:round; stroke-width:4; stroke-opacity:1; fill:none\" points=\"\n",
       "  2292.48,1486.45 2292.48,1467.55 \n",
       "  \"/>\n",
       "<path clip-path=\"url(#clip660)\" d=\"M283.376 1515.64 Q279.765 1515.64 277.936 1519.2 Q276.13 1522.75 276.13 1529.87 Q276.13 1536.98 277.936 1540.55 Q279.765 1544.09 283.376 1544.09 Q287.01 1544.09 288.816 1540.55 Q290.644 1536.98 290.644 1529.87 Q290.644 1522.75 288.816 1519.2 Q287.01 1515.64 283.376 1515.64 M283.376 1511.93 Q289.186 1511.93 292.241 1516.54 Q295.32 1521.12 295.32 1529.87 Q295.32 1538.6 292.241 1543.21 Q289.186 1547.79 283.376 1547.79 Q277.566 1547.79 274.487 1543.21 Q271.431 1538.6 271.431 1529.87 Q271.431 1521.12 274.487 1516.54 Q277.566 1511.93 283.376 1511.93 Z\" fill=\"#000000\" fill-rule=\"evenodd\" fill-opacity=\"1\" /><path clip-path=\"url(#clip660)\" d=\"M943.356 1512.56 L961.712 1512.56 L961.712 1516.5 L947.638 1516.5 L947.638 1524.97 Q948.657 1524.62 949.675 1524.46 Q950.694 1524.27 951.712 1524.27 Q957.499 1524.27 960.879 1527.44 Q964.259 1530.62 964.259 1536.03 Q964.259 1541.61 960.786 1544.71 Q957.314 1547.79 950.995 1547.79 Q948.819 1547.79 946.55 1547.42 Q944.305 1547.05 941.898 1546.31 L941.898 1541.61 Q943.981 1542.74 946.203 1543.3 Q948.425 1543.86 950.902 1543.86 Q954.907 1543.86 957.245 1541.75 Q959.583 1539.64 959.583 1536.03 Q959.583 1532.42 957.245 1530.31 Q954.907 1528.21 950.902 1528.21 Q949.027 1528.21 947.152 1528.62 Q945.3 1529.04 943.356 1529.92 L943.356 1512.56 Z\" fill=\"#000000\" fill-rule=\"evenodd\" fill-opacity=\"1\" /><path clip-path=\"url(#clip660)\" d=\"M1597.47 1543.18 L1605.11 1543.18 L1605.11 1516.82 L1596.8 1518.49 L1596.8 1514.23 L1605.06 1512.56 L1609.74 1512.56 L1609.74 1543.18 L1617.38 1543.18 L1617.38 1547.12 L1597.47 1547.12 L1597.47 1543.18 Z\" fill=\"#000000\" fill-rule=\"evenodd\" fill-opacity=\"1\" /><path clip-path=\"url(#clip660)\" d=\"M1636.82 1515.64 Q1633.21 1515.64 1631.38 1519.2 Q1629.57 1522.75 1629.57 1529.87 Q1629.57 1536.98 1631.38 1540.55 Q1633.21 1544.09 1636.82 1544.09 Q1640.45 1544.09 1642.26 1540.55 Q1644.09 1536.98 1644.09 1529.87 Q1644.09 1522.75 1642.26 1519.2 Q1640.45 1515.64 1636.82 1515.64 M1636.82 1511.93 Q1642.63 1511.93 1645.69 1516.54 Q1648.76 1521.12 1648.76 1529.87 Q1648.76 1538.6 1645.69 1543.21 Q1642.63 1547.79 1636.82 1547.79 Q1631.01 1547.79 1627.93 1543.21 Q1624.88 1538.6 1624.88 1529.87 Q1624.88 1521.12 1627.93 1516.54 Q1631.01 1511.93 1636.82 1511.93 Z\" fill=\"#000000\" fill-rule=\"evenodd\" fill-opacity=\"1\" /><path clip-path=\"url(#clip660)\" d=\"M2267.67 1543.18 L2275.31 1543.18 L2275.31 1516.82 L2267 1518.49 L2267 1514.23 L2275.26 1512.56 L2279.94 1512.56 L2279.94 1543.18 L2287.58 1543.18 L2287.58 1547.12 L2267.67 1547.12 L2267.67 1543.18 Z\" fill=\"#000000\" fill-rule=\"evenodd\" fill-opacity=\"1\" /><path clip-path=\"url(#clip660)\" d=\"M2297.07 1512.56 L2315.42 1512.56 L2315.42 1516.5 L2301.35 1516.5 L2301.35 1524.97 Q2302.37 1524.62 2303.39 1524.46 Q2304.4 1524.27 2305.42 1524.27 Q2311.21 1524.27 2314.59 1527.44 Q2317.97 1530.62 2317.97 1536.03 Q2317.97 1541.61 2314.5 1544.71 Q2311.02 1547.79 2304.7 1547.79 Q2302.53 1547.79 2300.26 1547.42 Q2298.02 1547.05 2295.61 1546.31 L2295.61 1541.61 Q2297.69 1542.74 2299.91 1543.3 Q2302.14 1543.86 2304.61 1543.86 Q2308.62 1543.86 2310.95 1541.75 Q2313.29 1539.64 2313.29 1536.03 Q2313.29 1532.42 2310.95 1530.31 Q2308.62 1528.21 2304.61 1528.21 Q2302.74 1528.21 2300.86 1528.62 Q2299.01 1529.04 2297.07 1529.92 L2297.07 1512.56 Z\" fill=\"#000000\" fill-rule=\"evenodd\" fill-opacity=\"1\" /><polyline clip-path=\"url(#clip662)\" style=\"stroke:#000000; stroke-linecap:butt; stroke-linejoin:round; stroke-width:2; stroke-opacity:0.1; fill:none\" points=\"\n",
       "  223.103,1308.16 2352.76,1308.16 \n",
       "  \"/>\n",
       "<polyline clip-path=\"url(#clip662)\" style=\"stroke:#000000; stroke-linecap:butt; stroke-linejoin:round; stroke-width:2; stroke-opacity:0.1; fill:none\" points=\"\n",
       "  223.103,1078.94 2352.76,1078.94 \n",
       "  \"/>\n",
       "<polyline clip-path=\"url(#clip662)\" style=\"stroke:#000000; stroke-linecap:butt; stroke-linejoin:round; stroke-width:2; stroke-opacity:0.1; fill:none\" points=\"\n",
       "  223.103,849.718 2352.76,849.718 \n",
       "  \"/>\n",
       "<polyline clip-path=\"url(#clip662)\" style=\"stroke:#000000; stroke-linecap:butt; stroke-linejoin:round; stroke-width:2; stroke-opacity:0.1; fill:none\" points=\"\n",
       "  223.103,620.494 2352.76,620.494 \n",
       "  \"/>\n",
       "<polyline clip-path=\"url(#clip662)\" style=\"stroke:#000000; stroke-linecap:butt; stroke-linejoin:round; stroke-width:2; stroke-opacity:0.1; fill:none\" points=\"\n",
       "  223.103,391.27 2352.76,391.27 \n",
       "  \"/>\n",
       "<polyline clip-path=\"url(#clip662)\" style=\"stroke:#000000; stroke-linecap:butt; stroke-linejoin:round; stroke-width:2; stroke-opacity:0.1; fill:none\" points=\"\n",
       "  223.103,162.047 2352.76,162.047 \n",
       "  \"/>\n",
       "<polyline clip-path=\"url(#clip660)\" style=\"stroke:#000000; stroke-linecap:butt; stroke-linejoin:round; stroke-width:4; stroke-opacity:1; fill:none\" points=\"\n",
       "  223.103,1486.45 223.103,123.472 \n",
       "  \"/>\n",
       "<polyline clip-path=\"url(#clip660)\" style=\"stroke:#000000; stroke-linecap:butt; stroke-linejoin:round; stroke-width:4; stroke-opacity:1; fill:none\" points=\"\n",
       "  223.103,1308.16 242,1308.16 \n",
       "  \"/>\n",
       "<polyline clip-path=\"url(#clip660)\" style=\"stroke:#000000; stroke-linecap:butt; stroke-linejoin:round; stroke-width:4; stroke-opacity:1; fill:none\" points=\"\n",
       "  223.103,1078.94 242,1078.94 \n",
       "  \"/>\n",
       "<polyline clip-path=\"url(#clip660)\" style=\"stroke:#000000; stroke-linecap:butt; stroke-linejoin:round; stroke-width:4; stroke-opacity:1; fill:none\" points=\"\n",
       "  223.103,849.718 242,849.718 \n",
       "  \"/>\n",
       "<polyline clip-path=\"url(#clip660)\" style=\"stroke:#000000; stroke-linecap:butt; stroke-linejoin:round; stroke-width:4; stroke-opacity:1; fill:none\" points=\"\n",
       "  223.103,620.494 242,620.494 \n",
       "  \"/>\n",
       "<polyline clip-path=\"url(#clip660)\" style=\"stroke:#000000; stroke-linecap:butt; stroke-linejoin:round; stroke-width:4; stroke-opacity:1; fill:none\" points=\"\n",
       "  223.103,391.27 242,391.27 \n",
       "  \"/>\n",
       "<polyline clip-path=\"url(#clip660)\" style=\"stroke:#000000; stroke-linecap:butt; stroke-linejoin:round; stroke-width:4; stroke-opacity:1; fill:none\" points=\"\n",
       "  223.103,162.047 242,162.047 \n",
       "  \"/>\n",
       "<path clip-path=\"url(#clip660)\" d=\"M50.9921 1308.62 L80.6679 1308.62 L80.6679 1312.55 L50.9921 1312.55 L50.9921 1308.62 Z\" fill=\"#000000\" fill-rule=\"evenodd\" fill-opacity=\"1\" /><path clip-path=\"url(#clip660)\" d=\"M100.76 1293.96 Q97.1493 1293.96 95.3206 1297.53 Q93.515 1301.07 93.515 1308.2 Q93.515 1315.31 95.3206 1318.87 Q97.1493 1322.41 100.76 1322.41 Q104.395 1322.41 106.2 1318.87 Q108.029 1315.31 108.029 1308.2 Q108.029 1301.07 106.2 1297.53 Q104.395 1293.96 100.76 1293.96 M100.76 1290.26 Q106.571 1290.26 109.626 1294.87 Q112.705 1299.45 112.705 1308.2 Q112.705 1316.93 109.626 1321.53 Q106.571 1326.12 100.76 1326.12 Q94.9502 1326.12 91.8715 1321.53 Q88.816 1316.93 88.816 1308.2 Q88.816 1299.45 91.8715 1294.87 Q94.9502 1290.26 100.76 1290.26 Z\" fill=\"#000000\" fill-rule=\"evenodd\" fill-opacity=\"1\" /><path clip-path=\"url(#clip660)\" d=\"M120.922 1319.57 L125.807 1319.57 L125.807 1325.44 L120.922 1325.44 L120.922 1319.57 Z\" fill=\"#000000\" fill-rule=\"evenodd\" fill-opacity=\"1\" /><path clip-path=\"url(#clip660)\" d=\"M140.019 1321.51 L156.339 1321.51 L156.339 1325.44 L134.394 1325.44 L134.394 1321.51 Q137.056 1318.76 141.64 1314.13 Q146.246 1309.47 147.427 1308.13 Q149.672 1305.61 150.552 1303.87 Q151.455 1302.11 151.455 1300.42 Q151.455 1297.67 149.51 1295.93 Q147.589 1294.2 144.487 1294.2 Q142.288 1294.2 139.834 1294.96 Q137.404 1295.72 134.626 1297.27 L134.626 1292.55 Q137.45 1291.42 139.904 1290.84 Q142.357 1290.26 144.394 1290.26 Q149.765 1290.26 152.959 1292.95 Q156.154 1295.63 156.154 1300.12 Q156.154 1302.25 155.343 1304.17 Q154.556 1306.07 152.45 1308.66 Q151.871 1309.33 148.769 1312.55 Q145.668 1315.75 140.019 1321.51 Z\" fill=\"#000000\" fill-rule=\"evenodd\" fill-opacity=\"1\" /><path clip-path=\"url(#clip660)\" d=\"M166.2 1290.88 L184.556 1290.88 L184.556 1294.82 L170.482 1294.82 L170.482 1303.29 Q171.501 1302.94 172.519 1302.78 Q173.538 1302.6 174.556 1302.6 Q180.343 1302.6 183.723 1305.77 Q187.103 1308.94 187.103 1314.36 Q187.103 1319.94 183.63 1323.04 Q180.158 1326.12 173.839 1326.12 Q171.663 1326.12 169.394 1325.75 Q167.149 1325.38 164.742 1324.63 L164.742 1319.94 Q166.825 1321.07 169.047 1321.63 Q171.269 1322.18 173.746 1322.18 Q177.751 1322.18 180.089 1320.07 Q182.427 1317.97 182.427 1314.36 Q182.427 1310.75 180.089 1308.64 Q177.751 1306.53 173.746 1306.53 Q171.871 1306.53 169.996 1306.95 Q168.144 1307.37 166.2 1308.25 L166.2 1290.88 Z\" fill=\"#000000\" fill-rule=\"evenodd\" fill-opacity=\"1\" /><path clip-path=\"url(#clip660)\" d=\"M99.765 1064.74 Q96.1539 1064.74 94.3252 1068.3 Q92.5197 1071.85 92.5197 1078.98 Q92.5197 1086.08 94.3252 1089.65 Q96.1539 1093.19 99.765 1093.19 Q103.399 1093.19 105.205 1089.65 Q107.033 1086.08 107.033 1078.98 Q107.033 1071.85 105.205 1068.3 Q103.399 1064.74 99.765 1064.74 M99.765 1061.04 Q105.575 1061.04 108.631 1065.64 Q111.709 1070.23 111.709 1078.98 Q111.709 1087.7 108.631 1092.31 Q105.575 1096.89 99.765 1096.89 Q93.9549 1096.89 90.8762 1092.31 Q87.8206 1087.7 87.8206 1078.98 Q87.8206 1070.23 90.8762 1065.64 Q93.9549 1061.04 99.765 1061.04 Z\" fill=\"#000000\" fill-rule=\"evenodd\" fill-opacity=\"1\" /><path clip-path=\"url(#clip660)\" d=\"M119.927 1090.34 L124.811 1090.34 L124.811 1096.22 L119.927 1096.22 L119.927 1090.34 Z\" fill=\"#000000\" fill-rule=\"evenodd\" fill-opacity=\"1\" /><path clip-path=\"url(#clip660)\" d=\"M144.996 1064.74 Q141.385 1064.74 139.556 1068.3 Q137.751 1071.85 137.751 1078.98 Q137.751 1086.08 139.556 1089.65 Q141.385 1093.19 144.996 1093.19 Q148.63 1093.19 150.436 1089.65 Q152.265 1086.08 152.265 1078.98 Q152.265 1071.85 150.436 1068.3 Q148.63 1064.74 144.996 1064.74 M144.996 1061.04 Q150.806 1061.04 153.862 1065.64 Q156.941 1070.23 156.941 1078.98 Q156.941 1087.7 153.862 1092.31 Q150.806 1096.89 144.996 1096.89 Q139.186 1096.89 136.107 1092.31 Q133.052 1087.7 133.052 1078.98 Q133.052 1070.23 136.107 1065.64 Q139.186 1061.04 144.996 1061.04 Z\" fill=\"#000000\" fill-rule=\"evenodd\" fill-opacity=\"1\" /><path clip-path=\"url(#clip660)\" d=\"M175.158 1064.74 Q171.547 1064.74 169.718 1068.3 Q167.913 1071.85 167.913 1078.98 Q167.913 1086.08 169.718 1089.65 Q171.547 1093.19 175.158 1093.19 Q178.792 1093.19 180.598 1089.65 Q182.427 1086.08 182.427 1078.98 Q182.427 1071.85 180.598 1068.3 Q178.792 1064.74 175.158 1064.74 M175.158 1061.04 Q180.968 1061.04 184.024 1065.64 Q187.103 1070.23 187.103 1078.98 Q187.103 1087.7 184.024 1092.31 Q180.968 1096.89 175.158 1096.89 Q169.348 1096.89 166.269 1092.31 Q163.214 1087.7 163.214 1078.98 Q163.214 1070.23 166.269 1065.64 Q169.348 1061.04 175.158 1061.04 Z\" fill=\"#000000\" fill-rule=\"evenodd\" fill-opacity=\"1\" /><path clip-path=\"url(#clip660)\" d=\"M100.76 835.516 Q97.1493 835.516 95.3206 839.081 Q93.515 842.623 93.515 849.752 Q93.515 856.859 95.3206 860.424 Q97.1493 863.965 100.76 863.965 Q104.395 863.965 106.2 860.424 Q108.029 856.859 108.029 849.752 Q108.029 842.623 106.2 839.081 Q104.395 835.516 100.76 835.516 M100.76 831.813 Q106.571 831.813 109.626 836.419 Q112.705 841.002 112.705 849.752 Q112.705 858.479 109.626 863.086 Q106.571 867.669 100.76 867.669 Q94.9502 867.669 91.8715 863.086 Q88.816 858.479 88.816 849.752 Q88.816 841.002 91.8715 836.419 Q94.9502 831.813 100.76 831.813 Z\" fill=\"#000000\" fill-rule=\"evenodd\" fill-opacity=\"1\" /><path clip-path=\"url(#clip660)\" d=\"M120.922 861.118 L125.807 861.118 L125.807 866.998 L120.922 866.998 L120.922 861.118 Z\" fill=\"#000000\" fill-rule=\"evenodd\" fill-opacity=\"1\" /><path clip-path=\"url(#clip660)\" d=\"M140.019 863.063 L156.339 863.063 L156.339 866.998 L134.394 866.998 L134.394 863.063 Q137.056 860.308 141.64 855.678 Q146.246 851.026 147.427 849.683 Q149.672 847.16 150.552 845.424 Q151.455 843.664 151.455 841.975 Q151.455 839.22 149.51 837.484 Q147.589 835.748 144.487 835.748 Q142.288 835.748 139.834 836.512 Q137.404 837.276 134.626 838.827 L134.626 834.104 Q137.45 832.97 139.904 832.391 Q142.357 831.813 144.394 831.813 Q149.765 831.813 152.959 834.498 Q156.154 837.183 156.154 841.674 Q156.154 843.803 155.343 845.725 Q154.556 847.623 152.45 850.215 Q151.871 850.887 148.769 854.104 Q145.668 857.299 140.019 863.063 Z\" fill=\"#000000\" fill-rule=\"evenodd\" fill-opacity=\"1\" /><path clip-path=\"url(#clip660)\" d=\"M166.2 832.438 L184.556 832.438 L184.556 836.373 L170.482 836.373 L170.482 844.845 Q171.501 844.498 172.519 844.336 Q173.538 844.151 174.556 844.151 Q180.343 844.151 183.723 847.322 Q187.103 850.493 187.103 855.91 Q187.103 861.488 183.63 864.59 Q180.158 867.669 173.839 867.669 Q171.663 867.669 169.394 867.299 Q167.149 866.928 164.742 866.187 L164.742 861.488 Q166.825 862.623 169.047 863.178 Q171.269 863.734 173.746 863.734 Q177.751 863.734 180.089 861.627 Q182.427 859.521 182.427 855.91 Q182.427 852.299 180.089 850.192 Q177.751 848.086 173.746 848.086 Q171.871 848.086 169.996 848.502 Q168.144 848.919 166.2 849.799 L166.2 832.438 Z\" fill=\"#000000\" fill-rule=\"evenodd\" fill-opacity=\"1\" /><path clip-path=\"url(#clip660)\" d=\"M99.765 606.293 Q96.1539 606.293 94.3252 609.858 Q92.5197 613.399 92.5197 620.529 Q92.5197 627.635 94.3252 631.2 Q96.1539 634.742 99.765 634.742 Q103.399 634.742 105.205 631.2 Q107.033 627.635 107.033 620.529 Q107.033 613.399 105.205 609.858 Q103.399 606.293 99.765 606.293 M99.765 602.589 Q105.575 602.589 108.631 607.196 Q111.709 611.779 111.709 620.529 Q111.709 629.256 108.631 633.862 Q105.575 638.445 99.765 638.445 Q93.9549 638.445 90.8762 633.862 Q87.8206 629.256 87.8206 620.529 Q87.8206 611.779 90.8762 607.196 Q93.9549 602.589 99.765 602.589 Z\" fill=\"#000000\" fill-rule=\"evenodd\" fill-opacity=\"1\" /><path clip-path=\"url(#clip660)\" d=\"M119.927 631.894 L124.811 631.894 L124.811 637.774 L119.927 637.774 L119.927 631.894 Z\" fill=\"#000000\" fill-rule=\"evenodd\" fill-opacity=\"1\" /><path clip-path=\"url(#clip660)\" d=\"M135.043 603.214 L153.399 603.214 L153.399 607.149 L139.325 607.149 L139.325 615.621 Q140.343 615.274 141.362 615.112 Q142.381 614.927 143.399 614.927 Q149.186 614.927 152.566 618.098 Q155.945 621.27 155.945 626.686 Q155.945 632.265 152.473 635.367 Q149.001 638.445 142.681 638.445 Q140.506 638.445 138.237 638.075 Q135.992 637.705 133.584 636.964 L133.584 632.265 Q135.668 633.399 137.89 633.955 Q140.112 634.51 142.589 634.51 Q146.593 634.51 148.931 632.404 Q151.269 630.297 151.269 626.686 Q151.269 623.075 148.931 620.969 Q146.593 618.862 142.589 618.862 Q140.714 618.862 138.839 619.279 Q136.987 619.695 135.043 620.575 L135.043 603.214 Z\" fill=\"#000000\" fill-rule=\"evenodd\" fill-opacity=\"1\" /><path clip-path=\"url(#clip660)\" d=\"M175.158 606.293 Q171.547 606.293 169.718 609.858 Q167.913 613.399 167.913 620.529 Q167.913 627.635 169.718 631.2 Q171.547 634.742 175.158 634.742 Q178.792 634.742 180.598 631.2 Q182.427 627.635 182.427 620.529 Q182.427 613.399 180.598 609.858 Q178.792 606.293 175.158 606.293 M175.158 602.589 Q180.968 602.589 184.024 607.196 Q187.103 611.779 187.103 620.529 Q187.103 629.256 184.024 633.862 Q180.968 638.445 175.158 638.445 Q169.348 638.445 166.269 633.862 Q163.214 629.256 163.214 620.529 Q163.214 611.779 166.269 607.196 Q169.348 602.589 175.158 602.589 Z\" fill=\"#000000\" fill-rule=\"evenodd\" fill-opacity=\"1\" /><path clip-path=\"url(#clip660)\" d=\"M100.76 377.069 Q97.1493 377.069 95.3206 380.634 Q93.515 384.176 93.515 391.305 Q93.515 398.412 95.3206 401.976 Q97.1493 405.518 100.76 405.518 Q104.395 405.518 106.2 401.976 Q108.029 398.412 108.029 391.305 Q108.029 384.176 106.2 380.634 Q104.395 377.069 100.76 377.069 M100.76 373.366 Q106.571 373.366 109.626 377.972 Q112.705 382.555 112.705 391.305 Q112.705 400.032 109.626 404.638 Q106.571 409.222 100.76 409.222 Q94.9502 409.222 91.8715 404.638 Q88.816 400.032 88.816 391.305 Q88.816 382.555 91.8715 377.972 Q94.9502 373.366 100.76 373.366 Z\" fill=\"#000000\" fill-rule=\"evenodd\" fill-opacity=\"1\" /><path clip-path=\"url(#clip660)\" d=\"M120.922 402.671 L125.807 402.671 L125.807 408.55 L120.922 408.55 L120.922 402.671 Z\" fill=\"#000000\" fill-rule=\"evenodd\" fill-opacity=\"1\" /><path clip-path=\"url(#clip660)\" d=\"M134.811 373.99 L157.033 373.99 L157.033 375.981 L144.487 408.55 L139.603 408.55 L151.408 377.926 L134.811 377.926 L134.811 373.99 Z\" fill=\"#000000\" fill-rule=\"evenodd\" fill-opacity=\"1\" /><path clip-path=\"url(#clip660)\" d=\"M166.2 373.99 L184.556 373.99 L184.556 377.926 L170.482 377.926 L170.482 386.398 Q171.501 386.051 172.519 385.889 Q173.538 385.703 174.556 385.703 Q180.343 385.703 183.723 388.875 Q187.103 392.046 187.103 397.463 Q187.103 403.041 183.63 406.143 Q180.158 409.222 173.839 409.222 Q171.663 409.222 169.394 408.851 Q167.149 408.481 164.742 407.74 L164.742 403.041 Q166.825 404.176 169.047 404.731 Q171.269 405.287 173.746 405.287 Q177.751 405.287 180.089 403.18 Q182.427 401.074 182.427 397.463 Q182.427 393.852 180.089 391.745 Q177.751 389.639 173.746 389.639 Q171.871 389.639 169.996 390.055 Q168.144 390.472 166.2 391.352 L166.2 373.99 Z\" fill=\"#000000\" fill-rule=\"evenodd\" fill-opacity=\"1\" /><path clip-path=\"url(#clip660)\" d=\"M90.5752 175.392 L98.2141 175.392 L98.2141 149.026 L89.904 150.693 L89.904 146.434 L98.1678 144.767 L102.844 144.767 L102.844 175.392 L110.483 175.392 L110.483 179.327 L90.5752 179.327 L90.5752 175.392 Z\" fill=\"#000000\" fill-rule=\"evenodd\" fill-opacity=\"1\" /><path clip-path=\"url(#clip660)\" d=\"M119.927 173.447 L124.811 173.447 L124.811 179.327 L119.927 179.327 L119.927 173.447 Z\" fill=\"#000000\" fill-rule=\"evenodd\" fill-opacity=\"1\" /><path clip-path=\"url(#clip660)\" d=\"M144.996 147.846 Q141.385 147.846 139.556 151.41 Q137.751 154.952 137.751 162.082 Q137.751 169.188 139.556 172.753 Q141.385 176.295 144.996 176.295 Q148.63 176.295 150.436 172.753 Q152.265 169.188 152.265 162.082 Q152.265 154.952 150.436 151.41 Q148.63 147.846 144.996 147.846 M144.996 144.142 Q150.806 144.142 153.862 148.748 Q156.941 153.332 156.941 162.082 Q156.941 170.808 153.862 175.415 Q150.806 179.998 144.996 179.998 Q139.186 179.998 136.107 175.415 Q133.052 170.808 133.052 162.082 Q133.052 153.332 136.107 148.748 Q139.186 144.142 144.996 144.142 Z\" fill=\"#000000\" fill-rule=\"evenodd\" fill-opacity=\"1\" /><path clip-path=\"url(#clip660)\" d=\"M175.158 147.846 Q171.547 147.846 169.718 151.41 Q167.913 154.952 167.913 162.082 Q167.913 169.188 169.718 172.753 Q171.547 176.295 175.158 176.295 Q178.792 176.295 180.598 172.753 Q182.427 169.188 182.427 162.082 Q182.427 154.952 180.598 151.41 Q178.792 147.846 175.158 147.846 M175.158 144.142 Q180.968 144.142 184.024 148.748 Q187.103 153.332 187.103 162.082 Q187.103 170.808 184.024 175.415 Q180.968 179.998 175.158 179.998 Q169.348 179.998 166.269 175.415 Q163.214 170.808 163.214 162.082 Q163.214 153.332 166.269 148.748 Q169.348 144.142 175.158 144.142 Z\" fill=\"#000000\" fill-rule=\"evenodd\" fill-opacity=\"1\" /><path clip-path=\"url(#clip660)\" d=\"M986.825 43.6931 L986.825 65.8515 L999.95 65.8515 Q1006.55 65.8515 1009.71 63.1374 Q1012.91 60.3828 1012.91 54.752 Q1012.91 49.0808 1009.71 46.4072 Q1006.55 43.6931 999.95 43.6931 L986.825 43.6931 M986.825 18.8205 L986.825 37.0496 L998.938 37.0496 Q1004.93 37.0496 1007.85 34.8216 Q1010.81 32.5531 1010.81 27.935 Q1010.81 23.3575 1007.85 21.089 Q1004.93 18.8205 998.938 18.8205 L986.825 18.8205 M978.643 12.096 L999.545 12.096 Q1008.9 12.096 1013.97 15.9849 Q1019.03 19.8737 1019.03 27.0438 Q1019.03 32.5936 1016.44 35.8748 Q1013.85 39.156 1008.82 39.9662 Q1014.86 41.2625 1018.18 45.3944 Q1021.54 49.4858 1021.54 55.6432 Q1021.54 63.745 1016.03 68.1605 Q1010.52 72.576 1000.36 72.576 L978.643 72.576 L978.643 12.096 Z\" fill=\"#000000\" fill-rule=\"evenodd\" fill-opacity=\"1\" /><path clip-path=\"url(#clip660)\" d=\"M1074.04 48.0275 L1074.04 51.6733 L1039.77 51.6733 Q1040.26 59.3701 1044.39 63.421 Q1048.56 67.4314 1055.97 67.4314 Q1060.27 67.4314 1064.28 66.3781 Q1068.33 65.3249 1072.3 63.2184 L1072.3 70.267 Q1068.29 71.9684 1064.08 72.8596 Q1059.86 73.7508 1055.53 73.7508 Q1044.67 73.7508 1038.31 67.4314 Q1031.99 61.1119 1031.99 50.3365 Q1031.99 39.1965 1037.99 32.6746 Q1044.02 26.1121 1054.23 26.1121 Q1063.39 26.1121 1068.69 32.0264 Q1074.04 37.9003 1074.04 48.0275 M1066.59 45.84 Q1066.51 39.7232 1063.14 36.0774 Q1059.82 32.4315 1054.31 32.4315 Q1048.08 32.4315 1044.31 35.9558 Q1040.58 39.4801 1040.01 45.8805 L1066.59 45.84 Z\" fill=\"#000000\" fill-rule=\"evenodd\" fill-opacity=\"1\" /><path clip-path=\"url(#clip660)\" d=\"M1115.2 28.5427 L1115.2 35.5912 Q1112.04 33.9709 1108.64 33.1607 Q1105.23 32.3505 1101.59 32.3505 Q1096.04 32.3505 1093.24 34.0519 Q1090.49 35.7533 1090.49 39.156 Q1090.49 41.7486 1092.47 43.2475 Q1094.46 44.7058 1100.45 46.0426 L1103.01 46.6097 Q1110.95 48.3111 1114.27 51.4303 Q1117.63 54.509 1117.63 60.0587 Q1117.63 66.3781 1112.61 70.0644 Q1107.62 73.7508 1098.87 73.7508 Q1095.23 73.7508 1091.26 73.0216 Q1087.33 72.3329 1082.95 70.9151 L1082.95 63.2184 Q1087.09 65.3654 1091.1 66.4591 Q1095.11 67.5124 1099.04 67.5124 Q1104.3 67.5124 1107.14 65.73 Q1109.97 63.9071 1109.97 60.6258 Q1109.97 57.5877 1107.91 55.9673 Q1105.88 54.3469 1098.95 52.8481 L1096.36 52.2405 Q1089.43 50.7821 1086.36 47.7845 Q1083.28 44.7463 1083.28 39.4801 Q1083.28 33.0797 1087.81 29.5959 Q1092.35 26.1121 1100.7 26.1121 Q1104.83 26.1121 1108.47 26.7198 Q1112.12 27.3274 1115.2 28.5427 Z\" fill=\"#000000\" fill-rule=\"evenodd\" fill-opacity=\"1\" /><path clip-path=\"url(#clip660)\" d=\"M1158.42 28.5427 L1158.42 35.5912 Q1155.26 33.9709 1151.86 33.1607 Q1148.46 32.3505 1144.81 32.3505 Q1139.26 32.3505 1136.47 34.0519 Q1133.71 35.7533 1133.71 39.156 Q1133.71 41.7486 1135.7 43.2475 Q1137.68 44.7058 1143.68 46.0426 L1146.23 46.6097 Q1154.17 48.3111 1157.49 51.4303 Q1160.85 54.509 1160.85 60.0587 Q1160.85 66.3781 1155.83 70.0644 Q1150.85 73.7508 1142.1 73.7508 Q1138.45 73.7508 1134.48 73.0216 Q1130.55 72.3329 1126.18 70.9151 L1126.18 63.2184 Q1130.31 65.3654 1134.32 66.4591 Q1138.33 67.5124 1142.26 67.5124 Q1147.52 67.5124 1150.36 65.73 Q1153.2 63.9071 1153.2 60.6258 Q1153.2 57.5877 1151.13 55.9673 Q1149.1 54.3469 1142.18 52.8481 L1139.59 52.2405 Q1132.66 50.7821 1129.58 47.7845 Q1126.5 44.7463 1126.5 39.4801 Q1126.5 33.0797 1131.04 29.5959 Q1135.57 26.1121 1143.92 26.1121 Q1148.05 26.1121 1151.7 26.7198 Q1155.34 27.3274 1158.42 28.5427 Z\" fill=\"#000000\" fill-rule=\"evenodd\" fill-opacity=\"1\" /><path clip-path=\"url(#clip660)\" d=\"M1211.53 48.0275 L1211.53 51.6733 L1177.26 51.6733 Q1177.74 59.3701 1181.88 63.421 Q1186.05 67.4314 1193.46 67.4314 Q1197.76 67.4314 1201.77 66.3781 Q1205.82 65.3249 1209.79 63.2184 L1209.79 70.267 Q1205.78 71.9684 1201.56 72.8596 Q1197.35 73.7508 1193.02 73.7508 Q1182.16 73.7508 1175.8 67.4314 Q1169.48 61.1119 1169.48 50.3365 Q1169.48 39.1965 1175.48 32.6746 Q1181.51 26.1121 1191.72 26.1121 Q1200.88 26.1121 1206.18 32.0264 Q1211.53 37.9003 1211.53 48.0275 M1204.08 45.84 Q1203.99 39.7232 1200.63 36.0774 Q1197.31 32.4315 1191.8 32.4315 Q1185.56 32.4315 1181.8 35.9558 Q1178.07 39.4801 1177.5 45.8805 L1204.08 45.84 Z\" fill=\"#000000\" fill-rule=\"evenodd\" fill-opacity=\"1\" /><path clip-path=\"url(#clip660)\" d=\"M1223.76 9.54393 L1231.22 9.54393 L1231.22 72.576 L1223.76 72.576 L1223.76 9.54393 Z\" fill=\"#000000\" fill-rule=\"evenodd\" fill-opacity=\"1\" /><path clip-path=\"url(#clip660)\" d=\"M1296.15 9.54393 L1296.15 15.7418 L1289.02 15.7418 Q1285.01 15.7418 1283.43 17.3622 Q1281.89 18.9825 1281.89 23.1955 L1281.89 27.2059 L1294.17 27.2059 L1294.17 32.9987 L1281.89 32.9987 L1281.89 72.576 L1274.4 72.576 L1274.4 32.9987 L1267.27 32.9987 L1267.27 27.2059 L1274.4 27.2059 L1274.4 24.0462 Q1274.4 16.471 1277.92 13.0277 Q1281.45 9.54393 1289.1 9.54393 L1296.15 9.54393 Z\" fill=\"#000000\" fill-rule=\"evenodd\" fill-opacity=\"1\" /><path clip-path=\"url(#clip660)\" d=\"M1301.62 54.671 L1301.62 27.2059 L1309.07 27.2059 L1309.07 54.3874 Q1309.07 60.8284 1311.59 64.0691 Q1314.1 67.2693 1319.12 67.2693 Q1325.16 67.2693 1328.64 63.421 Q1332.17 59.5726 1332.17 52.9291 L1332.17 27.2059 L1339.62 27.2059 L1339.62 72.576 L1332.17 72.576 L1332.17 65.6084 Q1329.45 69.7404 1325.85 71.7658 Q1322.28 73.7508 1317.54 73.7508 Q1309.72 73.7508 1305.67 68.8897 Q1301.62 64.0286 1301.62 54.671 M1320.38 26.1121 L1320.38 26.1121 Z\" fill=\"#000000\" fill-rule=\"evenodd\" fill-opacity=\"1\" /><path clip-path=\"url(#clip660)\" d=\"M1392.69 45.1919 L1392.69 72.576 L1385.23 72.576 L1385.23 45.4349 Q1385.23 38.994 1382.72 35.7938 Q1380.21 32.5936 1375.19 32.5936 Q1369.15 32.5936 1365.67 36.4419 Q1362.18 40.2903 1362.18 46.9338 L1362.18 72.576 L1354.69 72.576 L1354.69 27.2059 L1362.18 27.2059 L1362.18 34.2544 Q1364.86 30.163 1368.46 28.1376 Q1372.11 26.1121 1376.85 26.1121 Q1384.66 26.1121 1388.68 30.9732 Q1392.69 35.7938 1392.69 45.1919 Z\" fill=\"#000000\" fill-rule=\"evenodd\" fill-opacity=\"1\" /><path clip-path=\"url(#clip660)\" d=\"M1440.2 28.9478 L1440.2 35.9153 Q1437.04 34.1734 1433.84 33.3227 Q1430.68 32.4315 1427.44 32.4315 Q1420.19 32.4315 1416.18 37.0496 Q1412.17 41.6271 1412.17 49.9314 Q1412.17 58.2358 1416.18 62.8538 Q1420.19 67.4314 1427.44 67.4314 Q1430.68 67.4314 1433.84 66.5807 Q1437.04 65.6895 1440.2 63.9476 L1440.2 70.8341 Q1437.08 72.2924 1433.72 73.0216 Q1430.4 73.7508 1426.63 73.7508 Q1416.38 73.7508 1410.35 67.3098 Q1404.31 60.8689 1404.31 49.9314 Q1404.31 38.832 1410.39 32.472 Q1416.5 26.1121 1427.12 26.1121 Q1430.56 26.1121 1433.84 26.8413 Q1437.12 27.5299 1440.2 28.9478 Z\" fill=\"#000000\" fill-rule=\"evenodd\" fill-opacity=\"1\" /><path clip-path=\"url(#clip660)\" d=\"M1460.54 14.324 L1460.54 27.2059 L1475.89 27.2059 L1475.89 32.9987 L1460.54 32.9987 L1460.54 57.6282 Q1460.54 63.1779 1462.04 64.7578 Q1463.58 66.3376 1468.23 66.3376 L1475.89 66.3376 L1475.89 72.576 L1468.23 72.576 Q1459.61 72.576 1456.33 69.3758 Q1453.04 66.1351 1453.04 57.6282 L1453.04 32.9987 L1447.58 32.9987 L1447.58 27.2059 L1453.04 27.2059 L1453.04 14.324 L1460.54 14.324 Z\" fill=\"#000000\" fill-rule=\"evenodd\" fill-opacity=\"1\" /><path clip-path=\"url(#clip660)\" d=\"M1485.69 27.2059 L1493.15 27.2059 L1493.15 72.576 L1485.69 72.576 L1485.69 27.2059 M1485.69 9.54393 L1493.15 9.54393 L1493.15 18.9825 L1485.69 18.9825 L1485.69 9.54393 Z\" fill=\"#000000\" fill-rule=\"evenodd\" fill-opacity=\"1\" /><path clip-path=\"url(#clip660)\" d=\"M1526.32 32.4315 Q1520.33 32.4315 1516.85 37.1306 Q1513.36 41.7891 1513.36 49.9314 Q1513.36 58.0738 1516.81 62.7728 Q1520.29 67.4314 1526.32 67.4314 Q1532.28 67.4314 1535.76 62.7323 Q1539.25 58.0333 1539.25 49.9314 Q1539.25 41.8701 1535.76 37.1711 Q1532.28 32.4315 1526.32 32.4315 M1526.32 26.1121 Q1536.05 26.1121 1541.6 32.4315 Q1547.15 38.7509 1547.15 49.9314 Q1547.15 61.0714 1541.6 67.4314 Q1536.05 73.7508 1526.32 73.7508 Q1516.56 73.7508 1511.01 67.4314 Q1505.5 61.0714 1505.5 49.9314 Q1505.5 38.7509 1511.01 32.4315 Q1516.56 26.1121 1526.32 26.1121 Z\" fill=\"#000000\" fill-rule=\"evenodd\" fill-opacity=\"1\" /><path clip-path=\"url(#clip660)\" d=\"M1597.22 45.1919 L1597.22 72.576 L1589.76 72.576 L1589.76 45.4349 Q1589.76 38.994 1587.25 35.7938 Q1584.74 32.5936 1579.72 32.5936 Q1573.68 32.5936 1570.2 36.4419 Q1566.71 40.2903 1566.71 46.9338 L1566.71 72.576 L1559.22 72.576 L1559.22 27.2059 L1566.71 27.2059 L1566.71 34.2544 Q1569.39 30.163 1572.99 28.1376 Q1576.64 26.1121 1581.38 26.1121 Q1589.19 26.1121 1593.21 30.9732 Q1597.22 35.7938 1597.22 45.1919 Z\" fill=\"#000000\" fill-rule=\"evenodd\" fill-opacity=\"1\" /><polyline clip-path=\"url(#clip662)\" style=\"stroke:#009af9; stroke-linecap:butt; stroke-linejoin:round; stroke-width:4; stroke-opacity:1; fill:none\" points=\"\n",
       "  283.376,162.047 303.67,167.302 323.964,182.975 344.258,208.799 364.552,244.33 384.846,288.959 405.14,341.924 425.434,402.325 445.728,469.138 466.022,541.237 \n",
       "  486.316,617.415 506.61,696.405 526.904,776.906 547.198,857.608 567.492,937.211 587.786,1014.46 608.08,1088.15 628.374,1157.16 648.668,1220.49 668.962,1277.24 \n",
       "  689.256,1326.64 709.55,1368.1 729.844,1401.16 750.138,1425.53 770.432,1441.08 790.726,1447.87 811.02,1446.11 831.314,1436.16 851.608,1418.53 871.902,1393.88 \n",
       "  892.196,1362.96 912.49,1326.66 932.784,1285.93 953.078,1241.78 973.372,1195.27 993.666,1147.48 1013.96,1099.49 1034.25,1052.36 1054.55,1007.07 1074.84,964.596 \n",
       "  1095.14,925.78 1115.43,891.388 1135.72,862.071 1156.02,838.355 1176.31,820.633 1196.61,809.162 1216.9,804.057 1237.19,805.293 1257.49,812.707 1277.78,826.005 \n",
       "  1298.08,844.773 1318.37,868.481 1338.66,896.504 1358.96,928.134 1379.25,962.596 1399.55,999.067 1419.84,1036.69 1440.13,1074.62 1460.43,1111.98 1480.72,1147.95 \n",
       "  1501.02,1181.74 1521.31,1212.65 1541.6,1240.01 1561.9,1263.27 1582.19,1281.98 1602.49,1295.78 1622.78,1304.44 1643.07,1307.84 1663.37,1305.98 1683.66,1298.99 \n",
       "  1703.96,1287.09 1724.25,1270.63 1744.54,1250.03 1764.84,1225.83 1785.13,1198.61 1805.43,1169.03 1825.72,1137.8 1846.01,1105.63 1866.31,1073.27 1886.6,1041.45 \n",
       "  1906.9,1010.89 1927.19,982.252 1947.48,956.17 1967.78,933.2 1988.07,913.826 2008.37,898.441 2028.66,887.348 2048.95,880.748 2069.25,878.738 2089.54,881.313 \n",
       "  2109.84,888.362 2130.13,899.675 2150.42,914.95 2170.72,933.797 2191.01,955.751 2211.31,980.28 2231.6,1006.8 2251.89,1034.69 2272.19,1063.3 2292.48,1091.98 \n",
       "  \n",
       "  \"/>\n",
       "</svg>\n"
      ]
     },
     "execution_count": 46,
     "metadata": {},
     "output_type": "execute_result"
    }
   ],
   "source": [
    "using Plots\n",
    "xx = LinRange(0, 15, 100)\n",
    "plot(xx, bessel.(xx), legend=nothing, title=\"Bessel function\")"
   ]
  }
 ],
 "metadata": {
  "kernelspec": {
   "display_name": "Julia 1.6.1",
   "language": "julia",
   "name": "julia-1.6"
  },
  "language_info": {
   "file_extension": ".jl",
   "mimetype": "application/julia",
   "name": "julia",
   "version": "1.6.1"
  }
 },
 "nbformat": 4,
 "nbformat_minor": 5
}
