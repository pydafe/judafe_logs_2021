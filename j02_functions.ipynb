{
 "cells": [
  {
   "cell_type": "code",
   "execution_count": 2,
   "id": "consistent-community",
   "metadata": {},
   "outputs": [
    {
     "data": {
      "text/plain": [
       "12"
      ]
     },
     "execution_count": 2,
     "metadata": {},
     "output_type": "execute_result"
    }
   ],
   "source": [
    "function f(x, y)\n",
    "    x + y\n",
    "    x * y\n",
    "end\n",
    "\n",
    "f(3, 4)"
   ]
  },
  {
   "cell_type": "code",
   "execution_count": 3,
   "id": "declared-manhattan",
   "metadata": {},
   "outputs": [
    {
     "data": {
      "text/plain": [
       "7"
      ]
     },
     "execution_count": 3,
     "metadata": {},
     "output_type": "execute_result"
    }
   ],
   "source": [
    "function f(x, y)\n",
    "    return x + y\n",
    "    x * y\n",
    "end\n",
    "\n",
    "f(3, 4)"
   ]
  },
  {
   "cell_type": "code",
   "execution_count": 5,
   "id": "different-minneapolis",
   "metadata": {},
   "outputs": [
    {
     "data": {
      "text/plain": [
       "7"
      ]
     },
     "execution_count": 5,
     "metadata": {},
     "output_type": "execute_result"
    }
   ],
   "source": [
    "g = (f(x, y) = x + y)\n",
    "\n",
    "f(3, 4)"
   ]
  },
  {
   "cell_type": "code",
   "execution_count": 6,
   "id": "electronic-robinson",
   "metadata": {},
   "outputs": [
    {
     "data": {
      "text/plain": [
       "f (generic function with 1 method)"
      ]
     },
     "execution_count": 6,
     "metadata": {},
     "output_type": "execute_result"
    }
   ],
   "source": [
    "g"
   ]
  },
  {
   "cell_type": "code",
   "execution_count": 7,
   "id": "heard-short",
   "metadata": {},
   "outputs": [
    {
     "data": {
      "text/plain": [
       "#1 (generic function with 1 method)"
      ]
     },
     "execution_count": 7,
     "metadata": {},
     "output_type": "execute_result"
    }
   ],
   "source": [
    "g = (x, y) -> x ^ 2 + y ^ 2"
   ]
  },
  {
   "cell_type": "code",
   "execution_count": 8,
   "id": "encouraging-double",
   "metadata": {},
   "outputs": [
    {
     "data": {
      "text/plain": [
       "#3 (generic function with 1 method)"
      ]
     },
     "execution_count": 8,
     "metadata": {},
     "output_type": "execute_result"
    }
   ],
   "source": [
    "g = function (x, y)\n",
    "    x ^ 2 + y ^ 2\n",
    "end"
   ]
  },
  {
   "cell_type": "code",
   "execution_count": 9,
   "id": "automotive-assist",
   "metadata": {},
   "outputs": [
    {
     "data": {
      "text/plain": [
       "25"
      ]
     },
     "execution_count": 9,
     "metadata": {},
     "output_type": "execute_result"
    }
   ],
   "source": [
    "g(3, 4)"
   ]
  },
  {
   "cell_type": "code",
   "execution_count": 10,
   "id": "peaceful-adventure",
   "metadata": {},
   "outputs": [
    {
     "data": {
      "text/plain": [
       "25"
      ]
     },
     "execution_count": 10,
     "metadata": {},
     "output_type": "execute_result"
    }
   ],
   "source": [
    "g = function (x, y) x ^ 2 + y ^ 2; end\n",
    "g(3, 4)"
   ]
  },
  {
   "cell_type": "code",
   "execution_count": 12,
   "id": "precise-speed",
   "metadata": {},
   "outputs": [
    {
     "data": {
      "text/plain": [
       "(7, 12)"
      ]
     },
     "execution_count": 12,
     "metadata": {},
     "output_type": "execute_result"
    }
   ],
   "source": [
    "function f(x, y)\n",
    "    (x + y, x * y)  # скобки опциональны\n",
    "end\n",
    "\n",
    "f(3, 4)"
   ]
  },
  {
   "cell_type": "code",
   "execution_count": 13,
   "id": "fatty-soldier",
   "metadata": {},
   "outputs": [
    {
     "data": {
      "text/plain": [
       "7"
      ]
     },
     "execution_count": 13,
     "metadata": {},
     "output_type": "execute_result"
    }
   ],
   "source": [
    "+(3, 4)"
   ]
  },
  {
   "cell_type": "code",
   "execution_count": 14,
   "id": "opening-glucose",
   "metadata": {},
   "outputs": [
    {
     "data": {
      "text/plain": [
       "18"
      ]
     },
     "execution_count": 14,
     "metadata": {},
     "output_type": "execute_result"
    }
   ],
   "source": [
    "+(3, 4, 5, 6)"
   ]
  },
  {
   "cell_type": "code",
   "execution_count": 15,
   "id": "short-emergency",
   "metadata": {},
   "outputs": [
    {
     "data": {
      "text/plain": [
       "10-element Vector{Int64}:\n",
       "   1\n",
       "   4\n",
       "   9\n",
       "  16\n",
       "  25\n",
       "  36\n",
       "  49\n",
       "  64\n",
       "  81\n",
       " 100"
      ]
     },
     "execution_count": 15,
     "metadata": {},
     "output_type": "execute_result"
    }
   ],
   "source": [
    "map(x -> x ^ 2, 1:10)"
   ]
  },
  {
   "cell_type": "code",
   "execution_count": 16,
   "id": "architectural-lightning",
   "metadata": {},
   "outputs": [
    {
     "data": {
      "text/plain": [
       "4×4 Matrix{Float64}:\n",
       " 0.309103  0.539981  0.486344  0.805184\n",
       " 0.453512  0.236614  0.706336  0.473801\n",
       " 0.570849  0.801807  0.360739  0.0558604\n",
       " 0.17488   0.68281   0.994434  0.716689"
      ]
     },
     "execution_count": 16,
     "metadata": {},
     "output_type": "execute_result"
    }
   ],
   "source": [
    "rand(4, 4)"
   ]
  },
  {
   "cell_type": "code",
   "execution_count": 20,
   "id": "contrary-antique",
   "metadata": {},
   "outputs": [
    {
     "data": {
      "text/plain": [
       "4×4 Matrix{Float64}:\n",
       " 0.653246   0.738305   0.356081  0.443779\n",
       " 0.0493341  0.702134   0.33524   0.807778\n",
       " 0.295983   0.850328   0.595983  0.843306\n",
       " 0.110645   0.0117038  0.18138   0.765131"
      ]
     },
     "metadata": {},
     "output_type": "display_data"
    },
    {
     "data": {
      "text/plain": [
       "4×4 Matrix{Float64}:\n",
       " 0.653246   0.738305   0.356081  0.443779\n",
       " 0.0493341  0.702134   0.33524   0.807778\n",
       " 0.295983   0.850328   0.595983  0.843306\n",
       " 0.110645   0.0117038  0.18138   0.765131"
      ]
     },
     "metadata": {},
     "output_type": "display_data"
    }
   ],
   "source": [
    "a = rand(4, 4)\n",
    "display(a)\n",
    "display(map(maximum, a))"
   ]
  },
  {
   "cell_type": "code",
   "execution_count": 21,
   "id": "indonesian-budget",
   "metadata": {},
   "outputs": [
    {
     "data": {
      "text/plain": [
       "4-element Vector{Float64}:\n",
       " 0.6532459224156779\n",
       " 0.8503278984167526\n",
       " 0.5959826871325351\n",
       " 0.8433064786497233"
      ]
     },
     "execution_count": 21,
     "metadata": {},
     "output_type": "execute_result"
    }
   ],
   "source": [
    "map(maximum, eachcol(a))"
   ]
  },
  {
   "cell_type": "code",
   "execution_count": 23,
   "id": "infrared-pasta",
   "metadata": {},
   "outputs": [
    {
     "data": {
      "text/plain": [
       "4-element Vector{Float64}:\n",
       " 1.109207611032575\n",
       " 2.3024715536979627\n",
       " 1.468683097260544\n",
       " 2.8599944646172544"
      ]
     },
     "execution_count": 23,
     "metadata": {},
     "output_type": "execute_result"
    }
   ],
   "source": [
    "map(x -> +(x...), eachcol(a))"
   ]
  },
  {
   "cell_type": "code",
   "execution_count": 24,
   "id": "sharp-minority",
   "metadata": {},
   "outputs": [
    {
     "data": {
      "text/plain": [
       "4-element Vector{Float64}:\n",
       " 2.1914117798775994\n",
       " 1.8944857767112993\n",
       " 2.585599798036106\n",
       " 1.0688593719833321"
      ]
     },
     "execution_count": 24,
     "metadata": {},
     "output_type": "execute_result"
    }
   ],
   "source": [
    "map(sum, eachrow(a))"
   ]
  },
  {
   "cell_type": "code",
   "execution_count": 25,
   "id": "distinguished-square",
   "metadata": {},
   "outputs": [
    {
     "data": {
      "text/plain": [
       "fun (generic function with 1 method)"
      ]
     },
     "execution_count": 25,
     "metadata": {},
     "output_type": "execute_result"
    }
   ],
   "source": [
    "fun(a, b, c...) = (a, b, c)"
   ]
  },
  {
   "cell_type": "code",
   "execution_count": 26,
   "id": "suspected-immunology",
   "metadata": {},
   "outputs": [
    {
     "ename": "LoadError",
     "evalue": "MethodError: no method matching fun(::Int64)\n\u001b[0mClosest candidates are:\n\u001b[0m  fun(::Any, \u001b[91m::Any\u001b[39m, \u001b[91m::Any...\u001b[39m) at In[25]:1",
     "output_type": "error",
     "traceback": [
      "MethodError: no method matching fun(::Int64)\n\u001b[0mClosest candidates are:\n\u001b[0m  fun(::Any, \u001b[91m::Any\u001b[39m, \u001b[91m::Any...\u001b[39m) at In[25]:1",
      "",
      "Stacktrace:",
      " [1] top-level scope",
      "   @ In[26]:1",
      " [2] eval",
      "   @ ./boot.jl:360 [inlined]",
      " [3] include_string(mapexpr::typeof(REPL.softscope), mod::Module, code::String, filename::String)",
      "   @ Base ./loading.jl:1094"
     ]
    }
   ],
   "source": [
    "fun(1)"
   ]
  },
  {
   "cell_type": "code",
   "execution_count": 27,
   "id": "under-harrison",
   "metadata": {},
   "outputs": [
    {
     "data": {
      "text/plain": [
       "(1, 2, ())"
      ]
     },
     "execution_count": 27,
     "metadata": {},
     "output_type": "execute_result"
    }
   ],
   "source": [
    "fun(1, 2)"
   ]
  },
  {
   "cell_type": "code",
   "execution_count": 28,
   "id": "reported-bunny",
   "metadata": {},
   "outputs": [
    {
     "data": {
      "text/plain": [
       "(1, 2, (3,))"
      ]
     },
     "execution_count": 28,
     "metadata": {},
     "output_type": "execute_result"
    }
   ],
   "source": [
    "fun(1, 2, 3)"
   ]
  },
  {
   "cell_type": "code",
   "execution_count": 29,
   "id": "favorite-gibraltar",
   "metadata": {},
   "outputs": [
    {
     "data": {
      "text/plain": [
       "(1, 2, (3, 4))"
      ]
     },
     "execution_count": 29,
     "metadata": {},
     "output_type": "execute_result"
    }
   ],
   "source": [
    "fun(1, 2, 3, 4)"
   ]
  },
  {
   "cell_type": "code",
   "execution_count": 30,
   "id": "elementary-commodity",
   "metadata": {},
   "outputs": [
    {
     "data": {
      "text/plain": [
       "fun (generic function with 2 methods)"
      ]
     },
     "execution_count": 30,
     "metadata": {},
     "output_type": "execute_result"
    }
   ],
   "source": [
    "fun(a, b=0, c...) = (a, b, c)"
   ]
  },
  {
   "cell_type": "code",
   "execution_count": 31,
   "id": "suspected-giant",
   "metadata": {},
   "outputs": [
    {
     "data": {
      "text/plain": [
       "(1, 0, ())"
      ]
     },
     "execution_count": 31,
     "metadata": {},
     "output_type": "execute_result"
    }
   ],
   "source": [
    "fun(1)"
   ]
  },
  {
   "cell_type": "code",
   "execution_count": 32,
   "id": "possible-reliance",
   "metadata": {},
   "outputs": [
    {
     "data": {
      "text/plain": [
       "fun (generic function with 2 methods)"
      ]
     },
     "execution_count": 32,
     "metadata": {},
     "output_type": "execute_result"
    }
   ],
   "source": [
    "fun(a; b=\"b\") = (a, b)"
   ]
  },
  {
   "cell_type": "code",
   "execution_count": 33,
   "id": "weird-cuisine",
   "metadata": {},
   "outputs": [
    {
     "data": {
      "text/plain": [
       "(1, \"b\")"
      ]
     },
     "execution_count": 33,
     "metadata": {},
     "output_type": "execute_result"
    }
   ],
   "source": [
    "fun(1)"
   ]
  },
  {
   "cell_type": "code",
   "execution_count": 34,
   "id": "desirable-subsection",
   "metadata": {},
   "outputs": [
    {
     "data": {
      "text/plain": [
       "(1, 34)"
      ]
     },
     "execution_count": 34,
     "metadata": {},
     "output_type": "execute_result"
    }
   ],
   "source": [
    "fun(1, b=34)"
   ]
  },
  {
   "cell_type": "code",
   "execution_count": 35,
   "id": "amateur-annual",
   "metadata": {},
   "outputs": [
    {
     "data": {
      "text/plain": [
       "(1, 42)"
      ]
     },
     "execution_count": 35,
     "metadata": {},
     "output_type": "execute_result"
    }
   ],
   "source": [
    "fun(1; b=42)"
   ]
  },
  {
   "cell_type": "code",
   "execution_count": 36,
   "id": "documented-being",
   "metadata": {},
   "outputs": [
    {
     "data": {
      "text/plain": [
       "fun (generic function with 3 methods)"
      ]
     },
     "execution_count": 36,
     "metadata": {},
     "output_type": "execute_result"
    }
   ],
   "source": [
    "fun(args...; kwargs...) = (args, kwargs)"
   ]
  },
  {
   "cell_type": "code",
   "execution_count": 37,
   "id": "radio-martial",
   "metadata": {},
   "outputs": [
    {
     "data": {
      "text/plain": [
       "((), Base.Iterators.Pairs{Union{}, Union{}, Tuple{}, NamedTuple{(), Tuple{}}}())"
      ]
     },
     "execution_count": 37,
     "metadata": {},
     "output_type": "execute_result"
    }
   ],
   "source": [
    "fun()"
   ]
  },
  {
   "cell_type": "code",
   "execution_count": 38,
   "id": "obvious-bargain",
   "metadata": {},
   "outputs": [
    {
     "data": {
      "text/plain": [
       "((1, 2), Base.Iterators.Pairs(:a => \"abc\", :d => \"efg\"))"
      ]
     },
     "execution_count": 38,
     "metadata": {},
     "output_type": "execute_result"
    }
   ],
   "source": [
    "fun(1, 2; a=\"abc\", d=\"efg\")"
   ]
  },
  {
   "cell_type": "code",
   "execution_count": 39,
   "id": "induced-defendant",
   "metadata": {},
   "outputs": [
    {
     "data": {
      "text/plain": [
       "(a = 10, b = 20)"
      ]
     },
     "execution_count": 39,
     "metadata": {},
     "output_type": "execute_result"
    }
   ],
   "source": [
    "t = (a = 10, b = 20)"
   ]
  },
  {
   "cell_type": "code",
   "execution_count": 40,
   "id": "demographic-telephone",
   "metadata": {},
   "outputs": [
    {
     "data": {
      "text/plain": [
       "10"
      ]
     },
     "execution_count": 40,
     "metadata": {},
     "output_type": "execute_result"
    }
   ],
   "source": [
    "t.a"
   ]
  },
  {
   "cell_type": "code",
   "execution_count": 44,
   "id": "norman-linux",
   "metadata": {},
   "outputs": [
    {
     "data": {
      "text/plain": [
       "((:a, :b), (10, 20))"
      ]
     },
     "execution_count": 44,
     "metadata": {},
     "output_type": "execute_result"
    }
   ],
   "source": [
    "keys(t), values(t)"
   ]
  },
  {
   "cell_type": "code",
   "execution_count": 45,
   "id": "lyric-regular",
   "metadata": {},
   "outputs": [
    {
     "name": "stdout",
     "output_type": "stream",
     "text": [
      "10\n",
      "20\n"
     ]
    }
   ],
   "source": [
    "for v in t\n",
    "    println(v)\n",
    "end"
   ]
  },
  {
   "cell_type": "code",
   "execution_count": 47,
   "id": "featured-turkish",
   "metadata": {},
   "outputs": [
    {
     "name": "stdout",
     "output_type": "stream",
     "text": [
      "(:a, 10)\n",
      "(:b, 20)\n"
     ]
    }
   ],
   "source": [
    "for (k, v) in pairs(t)\n",
    "    println((k, v))\n",
    "end"
   ]
  },
  {
   "cell_type": "code",
   "execution_count": 51,
   "id": "sustained-daisy",
   "metadata": {},
   "outputs": [
    {
     "data": {
      "text/plain": [
       "1×4 Matrix{Float64}:\n",
       " 0.653246  0.850328  0.595983  0.843306"
      ]
     },
     "execution_count": 51,
     "metadata": {},
     "output_type": "execute_result"
    }
   ],
   "source": [
    "mapslices(maximum, a; dims = (1,))"
   ]
  },
  {
   "cell_type": "code",
   "execution_count": 50,
   "id": "binding-entrance",
   "metadata": {},
   "outputs": [
    {
     "data": {
      "text/plain": [
       "1×4 Matrix{Float64}:\n",
       " 0.653246  0.850328  0.595983  0.843306"
      ]
     },
     "execution_count": 50,
     "metadata": {},
     "output_type": "execute_result"
    }
   ],
   "source": [
    "args = (maximum, a)\n",
    "kwargs = (dims = (1,),)\n",
    "\n",
    "mapslices(args...; kwargs...)"
   ]
  },
  {
   "cell_type": "code",
   "execution_count": 53,
   "id": "synthetic-christianity",
   "metadata": {},
   "outputs": [
    {
     "data": {
      "text/plain": [
       "10-element Vector{Int64}:\n",
       "  4\n",
       "  1\n",
       " 10\n",
       "  2\n",
       " 16\n",
       "  3\n",
       " 22\n",
       "  4\n",
       " 28\n",
       "  5"
      ]
     },
     "execution_count": 53,
     "metadata": {},
     "output_type": "execute_result"
    }
   ],
   "source": [
    "map(x ->\n",
    "    if isodd(x)\n",
    "        3 * x + 1\n",
    "    else\n",
    "        x ÷ 2\n",
    "    end, 1 : 10)"
   ]
  },
  {
   "cell_type": "code",
   "execution_count": 56,
   "id": "timely-hindu",
   "metadata": {},
   "outputs": [
    {
     "data": {
      "text/plain": [
       "10-element Vector{Int64}:\n",
       "  4\n",
       "  1\n",
       " 10\n",
       "  2\n",
       " 16\n",
       "  3\n",
       " 22\n",
       "  4\n",
       " 28\n",
       "  5"
      ]
     },
     "execution_count": 56,
     "metadata": {},
     "output_type": "execute_result"
    }
   ],
   "source": [
    "map(1 : 10) do x\n",
    "    if isodd(x)\n",
    "        3 * x + 1\n",
    "    else\n",
    "        x ÷ 2\n",
    "    end\n",
    "end"
   ]
  },
  {
   "cell_type": "code",
   "execution_count": 57,
   "id": "linear-flavor",
   "metadata": {},
   "outputs": [
    {
     "data": {
      "text/plain": [
       "12"
      ]
     },
     "execution_count": 57,
     "metadata": {},
     "output_type": "execute_result"
    }
   ],
   "source": [
    "open(\"myfile.txt\", \"w\") do file\n",
    "    write(file, \"hello world!\")\n",
    "end"
   ]
  },
  {
   "cell_type": "code",
   "execution_count": 59,
   "id": "distributed-crest",
   "metadata": {},
   "outputs": [
    {
     "name": "stdout",
     "output_type": "stream",
     "text": [
      "hello world!"
     ]
    }
   ],
   "source": [
    ";cat myfile.txt"
   ]
  },
  {
   "cell_type": "code",
   "execution_count": 60,
   "id": "infinite-adobe",
   "metadata": {},
   "outputs": [
    {
     "data": {
      "text/plain": [
       "3-element Vector{Int64}:\n",
       " 1\n",
       " 2\n",
       " 3"
      ]
     },
     "execution_count": 60,
     "metadata": {},
     "output_type": "execute_result"
    }
   ],
   "source": [
    "a = [1, 2, 3]"
   ]
  },
  {
   "cell_type": "code",
   "execution_count": 61,
   "id": "reasonable-suspect",
   "metadata": {},
   "outputs": [
    {
     "data": {
      "text/plain": [
       "2×2 Matrix{Int64}:\n",
       " 1  2\n",
       " 3  4"
      ]
     },
     "execution_count": 61,
     "metadata": {},
     "output_type": "execute_result"
    }
   ],
   "source": [
    "a = [1 2; 3 4]"
   ]
  },
  {
   "cell_type": "code",
   "execution_count": 63,
   "id": "floral-fusion",
   "metadata": {},
   "outputs": [
    {
     "data": {
      "text/plain": [
       "2-element Vector{Matrix{Int64}}:\n",
       " [1 2]\n",
       " [3 4]"
      ]
     },
     "execution_count": 63,
     "metadata": {},
     "output_type": "execute_result"
    }
   ],
   "source": [
    "[[1 2], [3 4]]"
   ]
  },
  {
   "cell_type": "code",
   "execution_count": 64,
   "id": "iraqi-vintage",
   "metadata": {},
   "outputs": [
    {
     "data": {
      "text/plain": [
       "2-element Vector{Vector{Int64}}:\n",
       " [1, 2]\n",
       " [3, 4]"
      ]
     },
     "execution_count": 64,
     "metadata": {},
     "output_type": "execute_result"
    }
   ],
   "source": [
    "[[1, 2], [3, 4]]"
   ]
  },
  {
   "cell_type": "code",
   "execution_count": 65,
   "id": "relative-notification",
   "metadata": {},
   "outputs": [
    {
     "data": {
      "text/plain": [
       "4-element Vector{Int64}:\n",
       " 1\n",
       " 2\n",
       " 3\n",
       " 4"
      ]
     },
     "execution_count": 65,
     "metadata": {},
     "output_type": "execute_result"
    }
   ],
   "source": [
    "[[1, 2]; [3, 4]]"
   ]
  },
  {
   "cell_type": "code",
   "execution_count": 68,
   "id": "strong-violation",
   "metadata": {},
   "outputs": [
    {
     "data": {
      "text/plain": [
       "5-element Vector{Float64}:\n",
       " 0.1\n",
       " 0.2\n",
       " 0.05\n",
       " 0.6\n",
       " 0.05"
      ]
     },
     "execution_count": 68,
     "metadata": {},
     "output_type": "execute_result"
    }
   ],
   "source": [
    "p = [0.1, 0.2, 0.05, 0.6, 0.05]"
   ]
  },
  {
   "cell_type": "code",
   "execution_count": 74,
   "id": "impaired-soccer",
   "metadata": {},
   "outputs": [
    {
     "data": {
      "text/plain": [
       "5-element Vector{Float64}:\n",
       " 0.15384615384615388\n",
       " 0.2735042735042736\n",
       " 0.0811965811965812\n",
       " 0.41025641025641024\n",
       " 0.0811965811965812"
      ]
     },
     "execution_count": 74,
     "metadata": {},
     "output_type": "execute_result"
    }
   ],
   "source": [
    "(1 .- p) .* p / (1 - sum(p .^ 2))"
   ]
  },
  {
   "cell_type": "code",
   "execution_count": 73,
   "id": "according-chambers",
   "metadata": {},
   "outputs": [
    {
     "data": {
      "text/plain": [
       "2-element Vector{Int64}:\n",
       " 3\n",
       " 8"
      ]
     },
     "execution_count": 73,
     "metadata": {},
     "output_type": "execute_result"
    }
   ],
   "source": [
    "[1, 2] .* [3, 4]"
   ]
  },
  {
   "cell_type": "code",
   "execution_count": 75,
   "id": "static-looking",
   "metadata": {},
   "outputs": [
    {
     "data": {
      "text/plain": [
       "2-element Vector{Float64}:\n",
       "  0.1411200080598672\n",
       " -0.7568024953079282"
      ]
     },
     "execution_count": 75,
     "metadata": {},
     "output_type": "execute_result"
    }
   ],
   "source": [
    "sin.([3, 4])"
   ]
  },
  {
   "cell_type": "code",
   "execution_count": 76,
   "id": "hollywood-object",
   "metadata": {},
   "outputs": [
    {
     "data": {
      "text/plain": [
       "2-element Vector{Float64}:\n",
       " 1.0\n",
       " 0.85"
      ]
     },
     "execution_count": 76,
     "metadata": {},
     "output_type": "execute_result"
    }
   ],
   "source": [
    "function f(a, b)\n",
    "    1 - (1 - a) * (1 - b)\n",
    "end\n",
    "\n",
    "f.([1, 0.5], [0.3, 0.7])"
   ]
  },
  {
   "cell_type": "code",
   "execution_count": 77,
   "id": "warming-diamond",
   "metadata": {},
   "outputs": [
    {
     "data": {
      "text/plain": [
       "symmetrize (generic function with 1 method)"
      ]
     },
     "execution_count": 77,
     "metadata": {},
     "output_type": "execute_result"
    }
   ],
   "source": [
    "function symmetrize(p, generations)\n",
    "    n, = size(p)\n",
    "    trace = Array{Float64}(undef, (generations, n))\n",
    "    \n",
    "    trace[1, :] = p\n",
    "    for i = 2 : generations\n",
    "        p = trace[i - 1, :]\n",
    "        trace[i, :] = (1 .- p) .* p / (1 - sum(p .^ 2))\n",
    "    end\n",
    "    \n",
    "    return trace\n",
    "end"
   ]
  },
  {
   "cell_type": "code",
   "execution_count": 79,
   "id": "favorite-immigration",
   "metadata": {},
   "outputs": [
    {
     "data": {
      "text/plain": [
       "8×5 Matrix{Float64}:\n",
       " 0.1       0.2       0.05       0.6       0.05\n",
       " 0.153846  0.273504  0.0811966  0.410256  0.0811966\n",
       " 0.180794  0.27596   0.103612   0.336022  0.103612\n",
       " 0.195708  0.264022  0.122726   0.294817  0.122726\n",
       " 0.203118  0.250744  0.138931   0.268275  0.138931\n",
       " 0.206115  0.239237  0.152336   0.249975  0.152336\n",
       " 0.206767  0.229981  0.16317    0.236911  0.16317\n",
       " 0.206313  0.22276   0.17176    0.227407  0.17176"
      ]
     },
     "execution_count": 79,
     "metadata": {},
     "output_type": "execute_result"
    }
   ],
   "source": [
    "symmetrize(p, 8)"
   ]
  },
  {
   "cell_type": "code",
   "execution_count": 80,
   "id": "lovely-companion",
   "metadata": {},
   "outputs": [],
   "source": [
    "using Plots"
   ]
  },
  {
   "cell_type": "code",
   "execution_count": 81,
   "id": "loose-meaning",
   "metadata": {},
   "outputs": [
    {
     "data": {
      "image/svg+xml": [
       "<?xml version=\"1.0\" encoding=\"utf-8\"?>\n",
       "<svg xmlns=\"http://www.w3.org/2000/svg\" xmlns:xlink=\"http://www.w3.org/1999/xlink\" width=\"600\" height=\"400\" viewBox=\"0 0 2400 1600\">\n",
       "<defs>\n",
       "  <clipPath id=\"clip030\">\n",
       "    <rect x=\"0\" y=\"0\" width=\"2400\" height=\"1600\"/>\n",
       "  </clipPath>\n",
       "</defs>\n",
       "<path clip-path=\"url(#clip030)\" d=\"\n",
       "M0 1600 L2400 1600 L2400 0 L0 0  Z\n",
       "  \" fill=\"#ffffff\" fill-rule=\"evenodd\" fill-opacity=\"1\"/>\n",
       "<defs>\n",
       "  <clipPath id=\"clip031\">\n",
       "    <rect x=\"480\" y=\"0\" width=\"1681\" height=\"1600\"/>\n",
       "  </clipPath>\n",
       "</defs>\n",
       "<path clip-path=\"url(#clip030)\" d=\"\n",
       "M156.598 1486.45 L2352.76 1486.45 L2352.76 47.2441 L156.598 47.2441  Z\n",
       "  \" fill=\"#ffffff\" fill-rule=\"evenodd\" fill-opacity=\"1\"/>\n",
       "<defs>\n",
       "  <clipPath id=\"clip032\">\n",
       "    <rect x=\"156\" y=\"47\" width=\"2197\" height=\"1440\"/>\n",
       "  </clipPath>\n",
       "</defs>\n",
       "<polyline clip-path=\"url(#clip032)\" style=\"stroke:#000000; stroke-linecap:butt; stroke-linejoin:round; stroke-width:2; stroke-opacity:0.1; fill:none\" points=\"\n",
       "  504.526,1486.45 504.526,47.2441 \n",
       "  \"/>\n",
       "<polyline clip-path=\"url(#clip032)\" style=\"stroke:#000000; stroke-linecap:butt; stroke-linejoin:round; stroke-width:2; stroke-opacity:0.1; fill:none\" points=\"\n",
       "  861.741,1486.45 861.741,47.2441 \n",
       "  \"/>\n",
       "<polyline clip-path=\"url(#clip032)\" style=\"stroke:#000000; stroke-linecap:butt; stroke-linejoin:round; stroke-width:2; stroke-opacity:0.1; fill:none\" points=\"\n",
       "  1218.96,1486.45 1218.96,47.2441 \n",
       "  \"/>\n",
       "<polyline clip-path=\"url(#clip032)\" style=\"stroke:#000000; stroke-linecap:butt; stroke-linejoin:round; stroke-width:2; stroke-opacity:0.1; fill:none\" points=\"\n",
       "  1576.17,1486.45 1576.17,47.2441 \n",
       "  \"/>\n",
       "<polyline clip-path=\"url(#clip032)\" style=\"stroke:#000000; stroke-linecap:butt; stroke-linejoin:round; stroke-width:2; stroke-opacity:0.1; fill:none\" points=\"\n",
       "  1933.39,1486.45 1933.39,47.2441 \n",
       "  \"/>\n",
       "<polyline clip-path=\"url(#clip032)\" style=\"stroke:#000000; stroke-linecap:butt; stroke-linejoin:round; stroke-width:2; stroke-opacity:0.1; fill:none\" points=\"\n",
       "  2290.6,1486.45 2290.6,47.2441 \n",
       "  \"/>\n",
       "<polyline clip-path=\"url(#clip030)\" style=\"stroke:#000000; stroke-linecap:butt; stroke-linejoin:round; stroke-width:4; stroke-opacity:1; fill:none\" points=\"\n",
       "  156.598,1486.45 2352.76,1486.45 \n",
       "  \"/>\n",
       "<polyline clip-path=\"url(#clip030)\" style=\"stroke:#000000; stroke-linecap:butt; stroke-linejoin:round; stroke-width:4; stroke-opacity:1; fill:none\" points=\"\n",
       "  504.526,1486.45 504.526,1467.55 \n",
       "  \"/>\n",
       "<polyline clip-path=\"url(#clip030)\" style=\"stroke:#000000; stroke-linecap:butt; stroke-linejoin:round; stroke-width:4; stroke-opacity:1; fill:none\" points=\"\n",
       "  861.741,1486.45 861.741,1467.55 \n",
       "  \"/>\n",
       "<polyline clip-path=\"url(#clip030)\" style=\"stroke:#000000; stroke-linecap:butt; stroke-linejoin:round; stroke-width:4; stroke-opacity:1; fill:none\" points=\"\n",
       "  1218.96,1486.45 1218.96,1467.55 \n",
       "  \"/>\n",
       "<polyline clip-path=\"url(#clip030)\" style=\"stroke:#000000; stroke-linecap:butt; stroke-linejoin:round; stroke-width:4; stroke-opacity:1; fill:none\" points=\"\n",
       "  1576.17,1486.45 1576.17,1467.55 \n",
       "  \"/>\n",
       "<polyline clip-path=\"url(#clip030)\" style=\"stroke:#000000; stroke-linecap:butt; stroke-linejoin:round; stroke-width:4; stroke-opacity:1; fill:none\" points=\"\n",
       "  1933.39,1486.45 1933.39,1467.55 \n",
       "  \"/>\n",
       "<polyline clip-path=\"url(#clip030)\" style=\"stroke:#000000; stroke-linecap:butt; stroke-linejoin:round; stroke-width:4; stroke-opacity:1; fill:none\" points=\"\n",
       "  2290.6,1486.45 2290.6,1467.55 \n",
       "  \"/>\n",
       "<path clip-path=\"url(#clip030)\" d=\"M494.803 1512.56 L513.16 1512.56 L513.16 1516.5 L499.086 1516.5 L499.086 1524.97 Q500.104 1524.62 501.123 1524.46 Q502.141 1524.27 503.16 1524.27 Q508.947 1524.27 512.327 1527.44 Q515.706 1530.62 515.706 1536.03 Q515.706 1541.61 512.234 1544.71 Q508.762 1547.79 502.442 1547.79 Q500.266 1547.79 497.998 1547.42 Q495.753 1547.05 493.345 1546.31 L493.345 1541.61 Q495.428 1542.74 497.651 1543.3 Q499.873 1543.86 502.35 1543.86 Q506.354 1543.86 508.692 1541.75 Q511.03 1539.64 511.03 1536.03 Q511.03 1532.42 508.692 1530.31 Q506.354 1528.21 502.35 1528.21 Q500.475 1528.21 498.6 1528.62 Q496.748 1529.04 494.803 1529.92 L494.803 1512.56 Z\" fill=\"#000000\" fill-rule=\"evenodd\" fill-opacity=\"1\" /><path clip-path=\"url(#clip030)\" d=\"M836.428 1543.18 L844.067 1543.18 L844.067 1516.82 L835.757 1518.49 L835.757 1514.23 L844.021 1512.56 L848.697 1512.56 L848.697 1543.18 L856.336 1543.18 L856.336 1547.12 L836.428 1547.12 L836.428 1543.18 Z\" fill=\"#000000\" fill-rule=\"evenodd\" fill-opacity=\"1\" /><path clip-path=\"url(#clip030)\" d=\"M875.78 1515.64 Q872.169 1515.64 870.34 1519.2 Q868.535 1522.75 868.535 1529.87 Q868.535 1536.98 870.34 1540.55 Q872.169 1544.09 875.78 1544.09 Q879.414 1544.09 881.22 1540.55 Q883.048 1536.98 883.048 1529.87 Q883.048 1522.75 881.22 1519.2 Q879.414 1515.64 875.78 1515.64 M875.78 1511.93 Q881.59 1511.93 884.646 1516.54 Q887.724 1521.12 887.724 1529.87 Q887.724 1538.6 884.646 1543.21 Q881.59 1547.79 875.78 1547.79 Q869.97 1547.79 866.891 1543.21 Q863.835 1538.6 863.835 1529.87 Q863.835 1521.12 866.891 1516.54 Q869.97 1511.93 875.78 1511.93 Z\" fill=\"#000000\" fill-rule=\"evenodd\" fill-opacity=\"1\" /><path clip-path=\"url(#clip030)\" d=\"M1194.14 1543.18 L1201.78 1543.18 L1201.78 1516.82 L1193.47 1518.49 L1193.47 1514.23 L1201.73 1512.56 L1206.41 1512.56 L1206.41 1543.18 L1214.05 1543.18 L1214.05 1547.12 L1194.14 1547.12 L1194.14 1543.18 Z\" fill=\"#000000\" fill-rule=\"evenodd\" fill-opacity=\"1\" /><path clip-path=\"url(#clip030)\" d=\"M1223.54 1512.56 L1241.9 1512.56 L1241.9 1516.5 L1227.82 1516.5 L1227.82 1524.97 Q1228.84 1524.62 1229.86 1524.46 Q1230.88 1524.27 1231.9 1524.27 Q1237.68 1524.27 1241.06 1527.44 Q1244.44 1530.62 1244.44 1536.03 Q1244.44 1541.61 1240.97 1544.71 Q1237.5 1547.79 1231.18 1547.79 Q1229 1547.79 1226.73 1547.42 Q1224.49 1547.05 1222.08 1546.31 L1222.08 1541.61 Q1224.16 1542.74 1226.39 1543.3 Q1228.61 1543.86 1231.09 1543.86 Q1235.09 1543.86 1237.43 1541.75 Q1239.77 1539.64 1239.77 1536.03 Q1239.77 1532.42 1237.43 1530.31 Q1235.09 1528.21 1231.09 1528.21 Q1229.21 1528.21 1227.34 1528.62 Q1225.48 1529.04 1223.54 1529.92 L1223.54 1512.56 Z\" fill=\"#000000\" fill-rule=\"evenodd\" fill-opacity=\"1\" /><path clip-path=\"url(#clip030)\" d=\"M1554.94 1543.18 L1571.26 1543.18 L1571.26 1547.12 L1549.32 1547.12 L1549.32 1543.18 Q1551.98 1540.43 1556.56 1535.8 Q1561.17 1531.15 1562.35 1529.81 Q1564.6 1527.28 1565.48 1525.55 Q1566.38 1523.79 1566.38 1522.1 Q1566.38 1519.34 1564.43 1517.61 Q1562.51 1515.87 1559.41 1515.87 Q1557.21 1515.87 1554.76 1516.63 Q1552.33 1517.4 1549.55 1518.95 L1549.55 1514.23 Q1552.37 1513.09 1554.83 1512.51 Q1557.28 1511.93 1559.32 1511.93 Q1564.69 1511.93 1567.88 1514.62 Q1571.08 1517.31 1571.08 1521.8 Q1571.08 1523.93 1570.27 1525.85 Q1569.48 1527.74 1567.37 1530.34 Q1566.8 1531.01 1563.69 1534.23 Q1560.59 1537.42 1554.94 1543.18 Z\" fill=\"#000000\" fill-rule=\"evenodd\" fill-opacity=\"1\" /><path clip-path=\"url(#clip030)\" d=\"M1591.08 1515.64 Q1587.47 1515.64 1585.64 1519.2 Q1583.83 1522.75 1583.83 1529.87 Q1583.83 1536.98 1585.64 1540.55 Q1587.47 1544.09 1591.08 1544.09 Q1594.71 1544.09 1596.52 1540.55 Q1598.35 1536.98 1598.35 1529.87 Q1598.35 1522.75 1596.52 1519.2 Q1594.71 1515.64 1591.08 1515.64 M1591.08 1511.93 Q1596.89 1511.93 1599.94 1516.54 Q1603.02 1521.12 1603.02 1529.87 Q1603.02 1538.6 1599.94 1543.21 Q1596.89 1547.79 1591.08 1547.79 Q1585.27 1547.79 1582.19 1543.21 Q1579.13 1538.6 1579.13 1529.87 Q1579.13 1521.12 1582.19 1516.54 Q1585.27 1511.93 1591.08 1511.93 Z\" fill=\"#000000\" fill-rule=\"evenodd\" fill-opacity=\"1\" /><path clip-path=\"url(#clip030)\" d=\"M1912.66 1543.18 L1928.98 1543.18 L1928.98 1547.12 L1907.03 1547.12 L1907.03 1543.18 Q1909.69 1540.43 1914.28 1535.8 Q1918.88 1531.15 1920.06 1529.81 Q1922.31 1527.28 1923.19 1525.55 Q1924.09 1523.79 1924.09 1522.1 Q1924.09 1519.34 1922.15 1517.61 Q1920.23 1515.87 1917.12 1515.87 Q1914.92 1515.87 1912.47 1516.63 Q1910.04 1517.4 1907.26 1518.95 L1907.26 1514.23 Q1910.09 1513.09 1912.54 1512.51 Q1914.99 1511.93 1917.03 1511.93 Q1922.4 1511.93 1925.6 1514.62 Q1928.79 1517.31 1928.79 1521.8 Q1928.79 1523.93 1927.98 1525.85 Q1927.19 1527.74 1925.09 1530.34 Q1924.51 1531.01 1921.41 1534.23 Q1918.3 1537.42 1912.66 1543.18 Z\" fill=\"#000000\" fill-rule=\"evenodd\" fill-opacity=\"1\" /><path clip-path=\"url(#clip030)\" d=\"M1938.84 1512.56 L1957.19 1512.56 L1957.19 1516.5 L1943.12 1516.5 L1943.12 1524.97 Q1944.14 1524.62 1945.16 1524.46 Q1946.17 1524.27 1947.19 1524.27 Q1952.98 1524.27 1956.36 1527.44 Q1959.74 1530.62 1959.74 1536.03 Q1959.74 1541.61 1956.27 1544.71 Q1952.8 1547.79 1946.48 1547.79 Q1944.3 1547.79 1942.03 1547.42 Q1939.79 1547.05 1937.38 1546.31 L1937.38 1541.61 Q1939.46 1542.74 1941.68 1543.3 Q1943.91 1543.86 1946.38 1543.86 Q1950.39 1543.86 1952.73 1541.75 Q1955.06 1539.64 1955.06 1536.03 Q1955.06 1532.42 1952.73 1530.31 Q1950.39 1528.21 1946.38 1528.21 Q1944.51 1528.21 1942.63 1528.62 Q1940.78 1529.04 1938.84 1529.92 L1938.84 1512.56 Z\" fill=\"#000000\" fill-rule=\"evenodd\" fill-opacity=\"1\" /><path clip-path=\"url(#clip030)\" d=\"M2279.44 1528.49 Q2282.8 1529.2 2284.67 1531.47 Q2286.57 1533.74 2286.57 1537.07 Q2286.57 1542.19 2283.05 1544.99 Q2279.54 1547.79 2273.05 1547.79 Q2270.88 1547.79 2268.56 1547.35 Q2266.27 1546.93 2263.82 1546.08 L2263.82 1541.56 Q2265.76 1542.7 2268.08 1543.28 Q2270.39 1543.86 2272.92 1543.86 Q2277.31 1543.86 2279.61 1542.12 Q2281.92 1540.38 2281.92 1537.07 Q2281.92 1534.02 2279.77 1532.31 Q2277.64 1530.57 2273.82 1530.57 L2269.79 1530.57 L2269.79 1526.73 L2274 1526.73 Q2277.45 1526.73 2279.28 1525.36 Q2281.11 1523.97 2281.11 1521.38 Q2281.11 1518.72 2279.21 1517.31 Q2277.34 1515.87 2273.82 1515.87 Q2271.9 1515.87 2269.7 1516.29 Q2267.5 1516.7 2264.86 1517.58 L2264.86 1513.42 Q2267.52 1512.68 2269.84 1512.31 Q2272.17 1511.93 2274.23 1511.93 Q2279.56 1511.93 2282.66 1514.37 Q2285.76 1516.77 2285.76 1520.89 Q2285.76 1523.76 2284.12 1525.75 Q2282.48 1527.72 2279.44 1528.49 Z\" fill=\"#000000\" fill-rule=\"evenodd\" fill-opacity=\"1\" /><path clip-path=\"url(#clip030)\" d=\"M2305.44 1515.64 Q2301.83 1515.64 2300 1519.2 Q2298.19 1522.75 2298.19 1529.87 Q2298.19 1536.98 2300 1540.55 Q2301.83 1544.09 2305.44 1544.09 Q2309.07 1544.09 2310.88 1540.55 Q2312.71 1536.98 2312.71 1529.87 Q2312.71 1522.75 2310.88 1519.2 Q2309.07 1515.64 2305.44 1515.64 M2305.44 1511.93 Q2311.25 1511.93 2314.3 1516.54 Q2317.38 1521.12 2317.38 1529.87 Q2317.38 1538.6 2314.3 1543.21 Q2311.25 1547.79 2305.44 1547.79 Q2299.63 1547.79 2296.55 1543.21 Q2293.49 1538.6 2293.49 1529.87 Q2293.49 1521.12 2296.55 1516.54 Q2299.63 1511.93 2305.44 1511.93 Z\" fill=\"#000000\" fill-rule=\"evenodd\" fill-opacity=\"1\" /><polyline clip-path=\"url(#clip032)\" style=\"stroke:#000000; stroke-linecap:butt; stroke-linejoin:round; stroke-width:2; stroke-opacity:0.1; fill:none\" points=\"\n",
       "  156.598,1322.28 2352.76,1322.28 \n",
       "  \"/>\n",
       "<polyline clip-path=\"url(#clip032)\" style=\"stroke:#000000; stroke-linecap:butt; stroke-linejoin:round; stroke-width:2; stroke-opacity:0.1; fill:none\" points=\"\n",
       "  156.598,1075.42 2352.76,1075.42 \n",
       "  \"/>\n",
       "<polyline clip-path=\"url(#clip032)\" style=\"stroke:#000000; stroke-linecap:butt; stroke-linejoin:round; stroke-width:2; stroke-opacity:0.1; fill:none\" points=\"\n",
       "  156.598,828.561 2352.76,828.561 \n",
       "  \"/>\n",
       "<polyline clip-path=\"url(#clip032)\" style=\"stroke:#000000; stroke-linecap:butt; stroke-linejoin:round; stroke-width:2; stroke-opacity:0.1; fill:none\" points=\"\n",
       "  156.598,581.7 2352.76,581.7 \n",
       "  \"/>\n",
       "<polyline clip-path=\"url(#clip032)\" style=\"stroke:#000000; stroke-linecap:butt; stroke-linejoin:round; stroke-width:2; stroke-opacity:0.1; fill:none\" points=\"\n",
       "  156.598,334.838 2352.76,334.838 \n",
       "  \"/>\n",
       "<polyline clip-path=\"url(#clip032)\" style=\"stroke:#000000; stroke-linecap:butt; stroke-linejoin:round; stroke-width:2; stroke-opacity:0.1; fill:none\" points=\"\n",
       "  156.598,87.9763 2352.76,87.9763 \n",
       "  \"/>\n",
       "<polyline clip-path=\"url(#clip030)\" style=\"stroke:#000000; stroke-linecap:butt; stroke-linejoin:round; stroke-width:4; stroke-opacity:1; fill:none\" points=\"\n",
       "  156.598,1486.45 156.598,47.2441 \n",
       "  \"/>\n",
       "<polyline clip-path=\"url(#clip030)\" style=\"stroke:#000000; stroke-linecap:butt; stroke-linejoin:round; stroke-width:4; stroke-opacity:1; fill:none\" points=\"\n",
       "  156.598,1322.28 175.496,1322.28 \n",
       "  \"/>\n",
       "<polyline clip-path=\"url(#clip030)\" style=\"stroke:#000000; stroke-linecap:butt; stroke-linejoin:round; stroke-width:4; stroke-opacity:1; fill:none\" points=\"\n",
       "  156.598,1075.42 175.496,1075.42 \n",
       "  \"/>\n",
       "<polyline clip-path=\"url(#clip030)\" style=\"stroke:#000000; stroke-linecap:butt; stroke-linejoin:round; stroke-width:4; stroke-opacity:1; fill:none\" points=\"\n",
       "  156.598,828.561 175.496,828.561 \n",
       "  \"/>\n",
       "<polyline clip-path=\"url(#clip030)\" style=\"stroke:#000000; stroke-linecap:butt; stroke-linejoin:round; stroke-width:4; stroke-opacity:1; fill:none\" points=\"\n",
       "  156.598,581.7 175.496,581.7 \n",
       "  \"/>\n",
       "<polyline clip-path=\"url(#clip030)\" style=\"stroke:#000000; stroke-linecap:butt; stroke-linejoin:round; stroke-width:4; stroke-opacity:1; fill:none\" points=\"\n",
       "  156.598,334.838 175.496,334.838 \n",
       "  \"/>\n",
       "<polyline clip-path=\"url(#clip030)\" style=\"stroke:#000000; stroke-linecap:butt; stroke-linejoin:round; stroke-width:4; stroke-opacity:1; fill:none\" points=\"\n",
       "  156.598,87.9763 175.496,87.9763 \n",
       "  \"/>\n",
       "<path clip-path=\"url(#clip030)\" d=\"M64.6495 1308.08 Q61.0384 1308.08 59.2097 1311.65 Q57.4041 1315.19 57.4041 1322.32 Q57.4041 1329.43 59.2097 1332.99 Q61.0384 1336.53 64.6495 1336.53 Q68.2837 1336.53 70.0892 1332.99 Q71.9179 1329.43 71.9179 1322.32 Q71.9179 1315.19 70.0892 1311.65 Q68.2837 1308.08 64.6495 1308.08 M64.6495 1304.38 Q70.4596 1304.38 73.5152 1308.99 Q76.5938 1313.57 76.5938 1322.32 Q76.5938 1331.05 73.5152 1335.65 Q70.4596 1340.24 64.6495 1340.24 Q58.8393 1340.24 55.7606 1335.65 Q52.7051 1331.05 52.7051 1322.32 Q52.7051 1313.57 55.7606 1308.99 Q58.8393 1304.38 64.6495 1304.38 Z\" fill=\"#000000\" fill-rule=\"evenodd\" fill-opacity=\"1\" /><path clip-path=\"url(#clip030)\" d=\"M84.8114 1333.69 L89.6956 1333.69 L89.6956 1339.56 L84.8114 1339.56 L84.8114 1333.69 Z\" fill=\"#000000\" fill-rule=\"evenodd\" fill-opacity=\"1\" /><path clip-path=\"url(#clip030)\" d=\"M100.691 1335.63 L108.33 1335.63 L108.33 1309.26 L100.02 1310.93 L100.02 1306.67 L108.283 1305 L112.959 1305 L112.959 1335.63 L120.598 1335.63 L120.598 1339.56 L100.691 1339.56 L100.691 1335.63 Z\" fill=\"#000000\" fill-rule=\"evenodd\" fill-opacity=\"1\" /><path clip-path=\"url(#clip030)\" d=\"M65.0198 1061.22 Q61.4087 1061.22 59.58 1064.79 Q57.7745 1068.33 57.7745 1075.46 Q57.7745 1082.56 59.58 1086.13 Q61.4087 1089.67 65.0198 1089.67 Q68.6541 1089.67 70.4596 1086.13 Q72.2883 1082.56 72.2883 1075.46 Q72.2883 1068.33 70.4596 1064.79 Q68.6541 1061.22 65.0198 1061.22 M65.0198 1057.52 Q70.83 1057.52 73.8855 1062.12 Q76.9642 1066.71 76.9642 1075.46 Q76.9642 1084.18 73.8855 1088.79 Q70.83 1093.37 65.0198 1093.37 Q59.2097 1093.37 56.131 1088.79 Q53.0754 1084.18 53.0754 1075.46 Q53.0754 1066.71 56.131 1062.12 Q59.2097 1057.52 65.0198 1057.52 Z\" fill=\"#000000\" fill-rule=\"evenodd\" fill-opacity=\"1\" /><path clip-path=\"url(#clip030)\" d=\"M85.1818 1086.82 L90.066 1086.82 L90.066 1092.7 L85.1818 1092.7 L85.1818 1086.82 Z\" fill=\"#000000\" fill-rule=\"evenodd\" fill-opacity=\"1\" /><path clip-path=\"url(#clip030)\" d=\"M104.279 1088.77 L120.598 1088.77 L120.598 1092.7 L98.6539 1092.7 L98.6539 1088.77 Q101.316 1086.01 105.899 1081.38 Q110.506 1076.73 111.686 1075.39 Q113.932 1072.87 114.811 1071.13 Q115.714 1069.37 115.714 1067.68 Q115.714 1064.93 113.77 1063.19 Q111.848 1061.45 108.746 1061.45 Q106.547 1061.45 104.094 1062.22 Q101.663 1062.98 98.8854 1064.53 L98.8854 1059.81 Q101.709 1058.68 104.163 1058.1 Q106.617 1057.52 108.654 1057.52 Q114.024 1057.52 117.219 1060.2 Q120.413 1062.89 120.413 1067.38 Q120.413 1069.51 119.603 1071.43 Q118.816 1073.33 116.709 1075.92 Q116.131 1076.59 113.029 1079.81 Q109.927 1083 104.279 1088.77 Z\" fill=\"#000000\" fill-rule=\"evenodd\" fill-opacity=\"1\" /><path clip-path=\"url(#clip030)\" d=\"M64.0708 814.36 Q60.4597 814.36 58.631 817.925 Q56.8254 821.467 56.8254 828.596 Q56.8254 835.703 58.631 839.267 Q60.4597 842.809 64.0708 842.809 Q67.705 842.809 69.5105 839.267 Q71.3392 835.703 71.3392 828.596 Q71.3392 821.467 69.5105 817.925 Q67.705 814.36 64.0708 814.36 M64.0708 810.656 Q69.8809 810.656 72.9365 815.263 Q76.0151 819.846 76.0151 828.596 Q76.0151 837.323 72.9365 841.929 Q69.8809 846.513 64.0708 846.513 Q58.2606 846.513 55.1819 841.929 Q52.1264 837.323 52.1264 828.596 Q52.1264 819.846 55.1819 815.263 Q58.2606 810.656 64.0708 810.656 Z\" fill=\"#000000\" fill-rule=\"evenodd\" fill-opacity=\"1\" /><path clip-path=\"url(#clip030)\" d=\"M84.2327 839.962 L89.1169 839.962 L89.1169 845.841 L84.2327 845.841 L84.2327 839.962 Z\" fill=\"#000000\" fill-rule=\"evenodd\" fill-opacity=\"1\" /><path clip-path=\"url(#clip030)\" d=\"M113.469 827.207 Q116.825 827.925 118.7 830.193 Q120.598 832.462 120.598 835.795 Q120.598 840.911 117.08 843.712 Q113.561 846.513 107.08 846.513 Q104.904 846.513 102.589 846.073 Q100.297 845.656 97.8437 844.8 L97.8437 840.286 Q99.7882 841.42 102.103 841.999 Q104.418 842.578 106.941 842.578 Q111.339 842.578 113.631 840.841 Q115.945 839.105 115.945 835.795 Q115.945 832.74 113.793 831.027 Q111.663 829.291 107.844 829.291 L103.816 829.291 L103.816 825.448 L108.029 825.448 Q111.478 825.448 113.307 824.082 Q115.135 822.693 115.135 820.101 Q115.135 817.439 113.237 816.027 Q111.362 814.592 107.844 814.592 Q105.922 814.592 103.723 815.008 Q101.524 815.425 98.8854 816.305 L98.8854 812.138 Q101.547 811.397 103.862 811.027 Q106.2 810.656 108.26 810.656 Q113.584 810.656 116.686 813.087 Q119.788 815.494 119.788 819.615 Q119.788 822.485 118.145 824.476 Q116.501 826.443 113.469 827.207 Z\" fill=\"#000000\" fill-rule=\"evenodd\" fill-opacity=\"1\" /><path clip-path=\"url(#clip030)\" d=\"M62.9365 567.498 Q59.3254 567.498 57.4967 571.063 Q55.6912 574.605 55.6912 581.734 Q55.6912 588.841 57.4967 592.406 Q59.3254 595.947 62.9365 595.947 Q66.5707 595.947 68.3763 592.406 Q70.205 588.841 70.205 581.734 Q70.205 574.605 68.3763 571.063 Q66.5707 567.498 62.9365 567.498 M62.9365 563.795 Q68.7467 563.795 71.8022 568.401 Q74.8809 572.984 74.8809 581.734 Q74.8809 590.461 71.8022 595.068 Q68.7467 599.651 62.9365 599.651 Q57.1264 599.651 54.0477 595.068 Q50.9921 590.461 50.9921 581.734 Q50.9921 572.984 54.0477 568.401 Q57.1264 563.795 62.9365 563.795 Z\" fill=\"#000000\" fill-rule=\"evenodd\" fill-opacity=\"1\" /><path clip-path=\"url(#clip030)\" d=\"M83.0984 593.1 L87.9827 593.1 L87.9827 598.98 L83.0984 598.98 L83.0984 593.1 Z\" fill=\"#000000\" fill-rule=\"evenodd\" fill-opacity=\"1\" /><path clip-path=\"url(#clip030)\" d=\"M111.015 568.494 L99.2095 586.943 L111.015 586.943 L111.015 568.494 M109.788 564.42 L115.668 564.42 L115.668 586.943 L120.598 586.943 L120.598 590.832 L115.668 590.832 L115.668 598.98 L111.015 598.98 L111.015 590.832 L95.4132 590.832 L95.4132 586.318 L109.788 564.42 Z\" fill=\"#000000\" fill-rule=\"evenodd\" fill-opacity=\"1\" /><path clip-path=\"url(#clip030)\" d=\"M64.418 320.637 Q60.8069 320.637 58.9782 324.201 Q57.1726 327.743 57.1726 334.873 Q57.1726 341.979 58.9782 345.544 Q60.8069 349.086 64.418 349.086 Q68.0522 349.086 69.8578 345.544 Q71.6865 341.979 71.6865 334.873 Q71.6865 327.743 69.8578 324.201 Q68.0522 320.637 64.418 320.637 M64.418 316.933 Q70.2281 316.933 73.2837 321.539 Q76.3624 326.123 76.3624 334.873 Q76.3624 343.6 73.2837 348.206 Q70.2281 352.789 64.418 352.789 Q58.6078 352.789 55.5291 348.206 Q52.4736 343.6 52.4736 334.873 Q52.4736 326.123 55.5291 321.539 Q58.6078 316.933 64.418 316.933 Z\" fill=\"#000000\" fill-rule=\"evenodd\" fill-opacity=\"1\" /><path clip-path=\"url(#clip030)\" d=\"M84.5799 346.238 L89.4641 346.238 L89.4641 352.118 L84.5799 352.118 L84.5799 346.238 Z\" fill=\"#000000\" fill-rule=\"evenodd\" fill-opacity=\"1\" /><path clip-path=\"url(#clip030)\" d=\"M99.6956 317.558 L118.052 317.558 L118.052 321.493 L103.978 321.493 L103.978 329.965 Q104.996 329.618 106.015 329.456 Q107.033 329.271 108.052 329.271 Q113.839 329.271 117.219 332.442 Q120.598 335.613 120.598 341.03 Q120.598 346.609 117.126 349.711 Q113.654 352.789 107.334 352.789 Q105.159 352.789 102.89 352.419 Q100.645 352.049 98.2372 351.308 L98.2372 346.609 Q100.321 347.743 102.543 348.299 Q104.765 348.854 107.242 348.854 Q111.246 348.854 113.584 346.748 Q115.922 344.641 115.922 341.03 Q115.922 337.419 113.584 335.313 Q111.246 333.206 107.242 333.206 Q105.367 333.206 103.492 333.623 Q101.64 334.039 99.6956 334.919 L99.6956 317.558 Z\" fill=\"#000000\" fill-rule=\"evenodd\" fill-opacity=\"1\" /><path clip-path=\"url(#clip030)\" d=\"M63.2606 73.775 Q59.6495 73.775 57.8208 77.3398 Q56.0152 80.8814 56.0152 88.011 Q56.0152 95.1174 57.8208 98.6822 Q59.6495 102.224 63.2606 102.224 Q66.8948 102.224 68.7004 98.6822 Q70.5291 95.1174 70.5291 88.011 Q70.5291 80.8814 68.7004 77.3398 Q66.8948 73.775 63.2606 73.775 M63.2606 70.0713 Q69.0707 70.0713 72.1263 74.6777 Q75.205 79.261 75.205 88.011 Q75.205 96.7378 72.1263 101.344 Q69.0707 105.928 63.2606 105.928 Q57.4504 105.928 54.3717 101.344 Q51.3162 96.7378 51.3162 88.011 Q51.3162 79.261 54.3717 74.6777 Q57.4504 70.0713 63.2606 70.0713 Z\" fill=\"#000000\" fill-rule=\"evenodd\" fill-opacity=\"1\" /><path clip-path=\"url(#clip030)\" d=\"M83.4225 99.3767 L88.3067 99.3767 L88.3067 105.256 L83.4225 105.256 L83.4225 99.3767 Z\" fill=\"#000000\" fill-rule=\"evenodd\" fill-opacity=\"1\" /><path clip-path=\"url(#clip030)\" d=\"M109.071 86.1129 Q105.922 86.1129 104.071 88.2656 Q102.242 90.4184 102.242 94.1684 Q102.242 97.8952 104.071 100.071 Q105.922 102.224 109.071 102.224 Q112.219 102.224 114.047 100.071 Q115.899 97.8952 115.899 94.1684 Q115.899 90.4184 114.047 88.2656 Q112.219 86.1129 109.071 86.1129 M118.353 71.4602 L118.353 75.7194 Q116.594 74.8861 114.788 74.4463 Q113.006 74.0064 111.246 74.0064 Q106.617 74.0064 104.163 77.1314 Q101.733 80.2564 101.385 86.5758 Q102.751 84.5619 104.811 83.4971 Q106.871 82.4092 109.348 82.4092 Q114.557 82.4092 117.566 85.5805 Q120.598 88.7286 120.598 94.1684 Q120.598 99.4924 117.45 102.71 Q114.302 105.928 109.071 105.928 Q103.075 105.928 99.9039 101.344 Q96.7326 96.7378 96.7326 88.011 Q96.7326 79.8166 100.621 74.9555 Q104.51 70.0713 111.061 70.0713 Q112.82 70.0713 114.603 70.4185 Q116.408 70.7657 118.353 71.4602 Z\" fill=\"#000000\" fill-rule=\"evenodd\" fill-opacity=\"1\" /><polyline clip-path=\"url(#clip032)\" style=\"stroke:#009af9; stroke-linecap:butt; stroke-linejoin:round; stroke-width:4; stroke-opacity:1; fill:none\" points=\"\n",
       "  218.754,1322.28 290.197,1189.36 361.64,1122.83 433.083,1086.02 504.526,1067.72 575.969,1060.33 647.412,1058.72 718.855,1059.84 790.298,1062.02 861.741,1064.41 \n",
       "  933.184,1066.62 1004.63,1068.52 1076.07,1070.08 1147.51,1071.32 1218.96,1072.29 1290.4,1073.05 1361.84,1073.62 1433.28,1074.06 1504.73,1074.4 1576.17,1074.65 \n",
       "  1647.61,1074.84 1719.06,1074.99 1790.5,1075.1 1861.94,1075.18 1933.39,1075.24 2004.83,1075.28 2076.27,1075.32 2147.71,1075.35 2219.16,1075.36 2290.6,1075.38 \n",
       "  \n",
       "  \"/>\n",
       "<polyline clip-path=\"url(#clip032)\" style=\"stroke:#e26f46; stroke-linecap:butt; stroke-linejoin:round; stroke-width:4; stroke-opacity:1; fill:none\" points=\"\n",
       "  218.754,1075.42 290.197,893.969 361.64,887.907 433.083,917.377 504.526,950.154 575.969,978.562 647.412,1001.41 718.855,1019.24 790.298,1032.94 861.741,1043.37 \n",
       "  933.184,1051.29 1004.63,1057.27 1076.07,1061.78 1147.51,1065.17 1218.96,1067.73 1290.4,1069.65 1361.84,1071.09 1433.28,1072.17 1504.73,1072.98 1576.17,1073.59 \n",
       "  1647.61,1074.05 1719.06,1074.39 1790.5,1074.65 1861.94,1074.84 1933.39,1074.99 2004.83,1075.1 2076.27,1075.18 2147.71,1075.24 2219.16,1075.29 2290.6,1075.32 \n",
       "  \n",
       "  \"/>\n",
       "<polyline clip-path=\"url(#clip032)\" style=\"stroke:#3da44d; stroke-linecap:butt; stroke-linejoin:round; stroke-width:4; stroke-opacity:1; fill:none\" points=\"\n",
       "  218.754,1445.72 290.197,1368.7 361.64,1313.37 433.083,1266.18 504.526,1226.18 575.969,1193.09 647.412,1166.34 718.855,1145.14 790.298,1128.57 861.741,1115.77 \n",
       "  933.184,1105.95 1004.63,1098.47 1076.07,1092.79 1147.51,1088.5 1218.96,1085.26 1290.4,1082.81 1361.84,1080.97 1433.28,1079.59 1504.73,1078.55 1576.17,1077.77 \n",
       "  1647.61,1077.19 1719.06,1076.75 1790.5,1076.41 1861.94,1076.17 1933.39,1075.98 2004.83,1075.84 2076.27,1075.74 2147.71,1075.66 2219.16,1075.6 2290.6,1075.56 \n",
       "  \n",
       "  \"/>\n",
       "<polyline clip-path=\"url(#clip032)\" style=\"stroke:#c271d2; stroke-linecap:butt; stroke-linejoin:round; stroke-width:4; stroke-opacity:1; fill:none\" points=\"\n",
       "  218.754,87.9763 290.197,556.381 361.64,739.637 433.083,841.356 504.526,906.877 575.969,952.055 647.412,984.303 718.855,1007.76 790.298,1025.02 861.741,1037.8 \n",
       "  933.184,1047.3 1004.63,1054.38 1076.07,1059.67 1147.51,1063.62 1218.96,1066.58 1290.4,1068.8 1361.84,1070.46 1433.28,1071.7 1504.73,1072.63 1576.17,1073.33 \n",
       "  1647.61,1073.85 1719.06,1074.25 1790.5,1074.54 1861.94,1074.76 1933.39,1074.93 2004.83,1075.05 2076.27,1075.14 2147.71,1075.21 2219.16,1075.27 2290.6,1075.31 \n",
       "  \n",
       "  \"/>\n",
       "<polyline clip-path=\"url(#clip032)\" style=\"stroke:#ac8d18; stroke-linecap:butt; stroke-linejoin:round; stroke-width:4; stroke-opacity:1; fill:none\" points=\"\n",
       "  218.754,1445.72 290.197,1368.7 361.64,1313.37 433.083,1266.18 504.526,1226.18 575.969,1193.09 647.412,1166.34 718.855,1145.14 790.298,1128.57 861.741,1115.77 \n",
       "  933.184,1105.95 1004.63,1098.47 1076.07,1092.79 1147.51,1088.5 1218.96,1085.26 1290.4,1082.81 1361.84,1080.97 1433.28,1079.59 1504.73,1078.55 1576.17,1077.77 \n",
       "  1647.61,1077.19 1719.06,1076.75 1790.5,1076.41 1861.94,1076.17 1933.39,1075.98 2004.83,1075.84 2076.27,1075.74 2147.71,1075.66 2219.16,1075.6 2290.6,1075.56 \n",
       "  \n",
       "  \"/>\n",
       "<path clip-path=\"url(#clip030)\" d=\"\n",
       "M1981.39 406.258 L2279.55 406.258 L2279.55 95.2176 L1981.39 95.2176  Z\n",
       "  \" fill=\"#ffffff\" fill-rule=\"evenodd\" fill-opacity=\"1\"/>\n",
       "<polyline clip-path=\"url(#clip030)\" style=\"stroke:#000000; stroke-linecap:butt; stroke-linejoin:round; stroke-width:4; stroke-opacity:1; fill:none\" points=\"\n",
       "  1981.39,406.258 2279.55,406.258 2279.55,95.2176 1981.39,95.2176 1981.39,406.258 \n",
       "  \"/>\n",
       "<polyline clip-path=\"url(#clip030)\" style=\"stroke:#009af9; stroke-linecap:butt; stroke-linejoin:round; stroke-width:4; stroke-opacity:1; fill:none\" points=\"\n",
       "  2005.79,147.058 2152.2,147.058 \n",
       "  \"/>\n",
       "<path clip-path=\"url(#clip030)\" d=\"M2190.45 166.745 Q2188.64 171.375 2186.93 172.787 Q2185.21 174.199 2182.34 174.199 L2178.94 174.199 L2178.94 170.634 L2181.44 170.634 Q2183.2 170.634 2184.17 169.8 Q2185.15 168.967 2186.33 165.865 L2187.09 163.921 L2176.6 138.412 L2181.12 138.412 L2189.22 158.689 L2197.32 138.412 L2201.84 138.412 L2190.45 166.745 Z\" fill=\"#000000\" fill-rule=\"evenodd\" fill-opacity=\"1\" /><path clip-path=\"url(#clip030)\" d=\"M2209.13 160.402 L2216.77 160.402 L2216.77 134.037 L2208.46 135.703 L2208.46 131.444 L2216.72 129.778 L2221.4 129.778 L2221.4 160.402 L2229.03 160.402 L2229.03 164.338 L2209.13 164.338 L2209.13 160.402 Z\" fill=\"#000000\" fill-rule=\"evenodd\" fill-opacity=\"1\" /><polyline clip-path=\"url(#clip030)\" style=\"stroke:#e26f46; stroke-linecap:butt; stroke-linejoin:round; stroke-width:4; stroke-opacity:1; fill:none\" points=\"\n",
       "  2005.79,198.898 2152.2,198.898 \n",
       "  \"/>\n",
       "<path clip-path=\"url(#clip030)\" d=\"M2190.45 218.585 Q2188.64 223.215 2186.93 224.627 Q2185.21 226.039 2182.34 226.039 L2178.94 226.039 L2178.94 222.474 L2181.44 222.474 Q2183.2 222.474 2184.17 221.64 Q2185.15 220.807 2186.33 217.705 L2187.09 215.761 L2176.6 190.252 L2181.12 190.252 L2189.22 210.529 L2197.32 190.252 L2201.84 190.252 L2190.45 218.585 Z\" fill=\"#000000\" fill-rule=\"evenodd\" fill-opacity=\"1\" /><path clip-path=\"url(#clip030)\" d=\"M2212.34 212.242 L2228.66 212.242 L2228.66 216.178 L2206.72 216.178 L2206.72 212.242 Q2209.38 209.488 2213.96 204.858 Q2218.57 200.205 2219.75 198.863 Q2222 196.34 2222.88 194.604 Q2223.78 192.844 2223.78 191.155 Q2223.78 188.4 2221.84 186.664 Q2219.91 184.928 2216.81 184.928 Q2214.61 184.928 2212.16 185.692 Q2209.73 186.455 2206.95 188.006 L2206.95 183.284 Q2209.78 182.15 2212.23 181.571 Q2214.68 180.993 2216.72 180.993 Q2222.09 180.993 2225.28 183.678 Q2228.48 186.363 2228.48 190.854 Q2228.48 192.983 2227.67 194.905 Q2226.88 196.803 2224.77 199.395 Q2224.2 200.067 2221.09 203.284 Q2217.99 206.479 2212.34 212.242 Z\" fill=\"#000000\" fill-rule=\"evenodd\" fill-opacity=\"1\" /><polyline clip-path=\"url(#clip030)\" style=\"stroke:#3da44d; stroke-linecap:butt; stroke-linejoin:round; stroke-width:4; stroke-opacity:1; fill:none\" points=\"\n",
       "  2005.79,250.738 2152.2,250.738 \n",
       "  \"/>\n",
       "<path clip-path=\"url(#clip030)\" d=\"M2190.45 270.425 Q2188.64 275.055 2186.93 276.467 Q2185.21 277.879 2182.34 277.879 L2178.94 277.879 L2178.94 274.314 L2181.44 274.314 Q2183.2 274.314 2184.17 273.48 Q2185.15 272.647 2186.33 269.545 L2187.09 267.601 L2176.6 242.092 L2181.12 242.092 L2189.22 262.369 L2197.32 242.092 L2201.84 242.092 L2190.45 270.425 Z\" fill=\"#000000\" fill-rule=\"evenodd\" fill-opacity=\"1\" /><path clip-path=\"url(#clip030)\" d=\"M2222.48 249.383 Q2225.84 250.101 2227.71 252.369 Q2229.61 254.638 2229.61 257.971 Q2229.61 263.087 2226.09 265.888 Q2222.58 268.689 2216.09 268.689 Q2213.92 268.689 2211.6 268.249 Q2209.31 267.832 2206.86 266.976 L2206.86 262.462 Q2208.8 263.596 2211.12 264.175 Q2213.43 264.754 2215.96 264.754 Q2220.35 264.754 2222.65 263.018 Q2224.96 261.281 2224.96 257.971 Q2224.96 254.916 2222.81 253.203 Q2220.68 251.467 2216.86 251.467 L2212.83 251.467 L2212.83 247.624 L2217.04 247.624 Q2220.49 247.624 2222.32 246.258 Q2224.15 244.87 2224.15 242.277 Q2224.15 239.615 2222.25 238.203 Q2220.38 236.768 2216.86 236.768 Q2214.94 236.768 2212.74 237.184 Q2210.54 237.601 2207.9 238.481 L2207.9 234.314 Q2210.56 233.573 2212.88 233.203 Q2215.21 232.833 2217.27 232.833 Q2222.6 232.833 2225.7 235.263 Q2228.8 237.67 2228.8 241.791 Q2228.8 244.661 2227.16 246.652 Q2225.52 248.62 2222.48 249.383 Z\" fill=\"#000000\" fill-rule=\"evenodd\" fill-opacity=\"1\" /><polyline clip-path=\"url(#clip030)\" style=\"stroke:#c271d2; stroke-linecap:butt; stroke-linejoin:round; stroke-width:4; stroke-opacity:1; fill:none\" points=\"\n",
       "  2005.79,302.578 2152.2,302.578 \n",
       "  \"/>\n",
       "<path clip-path=\"url(#clip030)\" d=\"M2190.45 322.265 Q2188.64 326.895 2186.93 328.307 Q2185.21 329.719 2182.34 329.719 L2178.94 329.719 L2178.94 326.154 L2181.44 326.154 Q2183.2 326.154 2184.17 325.32 Q2185.15 324.487 2186.33 321.385 L2187.09 319.441 L2176.6 293.932 L2181.12 293.932 L2189.22 314.209 L2197.32 293.932 L2201.84 293.932 L2190.45 322.265 Z\" fill=\"#000000\" fill-rule=\"evenodd\" fill-opacity=\"1\" /><path clip-path=\"url(#clip030)\" d=\"M2221.16 289.372 L2209.36 307.821 L2221.16 307.821 L2221.16 289.372 M2219.94 285.298 L2225.82 285.298 L2225.82 307.821 L2230.75 307.821 L2230.75 311.709 L2225.82 311.709 L2225.82 319.858 L2221.16 319.858 L2221.16 311.709 L2205.56 311.709 L2205.56 307.196 L2219.94 285.298 Z\" fill=\"#000000\" fill-rule=\"evenodd\" fill-opacity=\"1\" /><polyline clip-path=\"url(#clip030)\" style=\"stroke:#ac8d18; stroke-linecap:butt; stroke-linejoin:round; stroke-width:4; stroke-opacity:1; fill:none\" points=\"\n",
       "  2005.79,354.418 2152.2,354.418 \n",
       "  \"/>\n",
       "<path clip-path=\"url(#clip030)\" d=\"M2190.45 374.105 Q2188.64 378.735 2186.93 380.147 Q2185.21 381.559 2182.34 381.559 L2178.94 381.559 L2178.94 377.994 L2181.44 377.994 Q2183.2 377.994 2184.17 377.16 Q2185.15 376.327 2186.33 373.225 L2187.09 371.281 L2176.6 345.772 L2181.12 345.772 L2189.22 366.049 L2197.32 345.772 L2201.84 345.772 L2190.45 374.105 Z\" fill=\"#000000\" fill-rule=\"evenodd\" fill-opacity=\"1\" /><path clip-path=\"url(#clip030)\" d=\"M2208.36 337.138 L2226.72 337.138 L2226.72 341.073 L2212.65 341.073 L2212.65 349.545 Q2213.66 349.198 2214.68 349.036 Q2215.7 348.85 2216.72 348.85 Q2222.51 348.85 2225.89 352.022 Q2229.27 355.193 2229.27 360.61 Q2229.27 366.188 2225.79 369.29 Q2222.32 372.369 2216 372.369 Q2213.83 372.369 2211.56 371.998 Q2209.31 371.628 2206.9 370.887 L2206.9 366.188 Q2208.99 367.323 2211.21 367.878 Q2213.43 368.434 2215.91 368.434 Q2219.91 368.434 2222.25 366.327 Q2224.59 364.221 2224.59 360.61 Q2224.59 356.999 2222.25 354.892 Q2219.91 352.786 2215.91 352.786 Q2214.03 352.786 2212.16 353.202 Q2210.31 353.619 2208.36 354.499 L2208.36 337.138 Z\" fill=\"#000000\" fill-rule=\"evenodd\" fill-opacity=\"1\" /></svg>\n"
      ]
     },
     "execution_count": 81,
     "metadata": {},
     "output_type": "execute_result"
    }
   ],
   "source": [
    "plot(symmetrize(p, 30))"
   ]
  },
  {
   "cell_type": "code",
   "execution_count": 82,
   "id": "breathing-creator",
   "metadata": {},
   "outputs": [],
   "source": [
    "import Pkg"
   ]
  },
  {
   "cell_type": "code",
   "execution_count": 83,
   "id": "velvet-denial",
   "metadata": {},
   "outputs": [
    {
     "name": "stderr",
     "output_type": "stream",
     "text": [
      "┌ Warning: Some registries failed to update:\n",
      "│     — /home/balodja/.julia/registries/General — failed to fetch from repo\n",
      "└ @ Pkg.Types /buildworker/worker/package_linux64/build/usr/share/julia/stdlib/v1.6/Pkg/src/Types.jl:1229\n"
     ]
    }
   ],
   "source": [
    "Pkg.add(\"Plots\")"
   ]
  },
  {
   "cell_type": "code",
   "execution_count": 84,
   "id": "regular-pencil",
   "metadata": {},
   "outputs": [],
   "source": [
    "]add Plots"
   ]
  },
  {
   "cell_type": "code",
   "execution_count": 85,
   "id": "rough-columbus",
   "metadata": {},
   "outputs": [],
   "source": [
    "using LinearAlgebra"
   ]
  },
  {
   "cell_type": "code",
   "execution_count": 86,
   "id": "gentle-facility",
   "metadata": {},
   "outputs": [
    {
     "data": {
      "text/plain": [
       "3×3 Matrix{Float64}:\n",
       " 1.0  0.0  0.0\n",
       " 0.0  1.0  0.0\n",
       " 0.0  0.0  1.0"
      ]
     },
     "execution_count": 86,
     "metadata": {},
     "output_type": "execute_result"
    }
   ],
   "source": [
    "Matrix{Float64}(I, 3, 3)"
   ]
  },
  {
   "cell_type": "code",
   "execution_count": 87,
   "id": "fuzzy-inflation",
   "metadata": {},
   "outputs": [
    {
     "data": {
      "text/plain": [
       "SVD{Float64, Float64, Matrix{Float64}}\n",
       "U factor:\n",
       "4×4 Matrix{Float64}:\n",
       " -0.540726   0.311416   -0.256452  -0.738152\n",
       " -0.303735   0.491738    0.801891   0.15136\n",
       " -0.704536  -0.0537468  -0.349988   0.615019\n",
       " -0.344949  -0.811372    0.410746  -0.232321\n",
       "singular values:\n",
       "4-element Vector{Float64}:\n",
       " 2.1556609919284\n",
       " 0.7026650294457374\n",
       " 0.6161557663152061\n",
       " 0.15056637984290616\n",
       "Vt factor:\n",
       "4×4 Matrix{Float64}:\n",
       " -0.406277   -0.314013  -0.587718  -0.625238\n",
       "  0.127826    0.191875   0.613031  -0.75567\n",
       " -0.0609325   0.92375   -0.37036   -0.0762059\n",
       "  0.902711   -0.106143  -0.376316  -0.179536"
      ]
     },
     "execution_count": 87,
     "metadata": {},
     "output_type": "execute_result"
    }
   ],
   "source": [
    "svd(rand(4, 4))"
   ]
  },
  {
   "cell_type": "code",
   "execution_count": 88,
   "id": "together-summit",
   "metadata": {},
   "outputs": [
    {
     "data": {
      "text/plain": [
       "Eigen{Float64, Float64, Matrix{Float64}, Vector{Float64}}\n",
       "values:\n",
       "4-element Vector{Float64}:\n",
       " -0.21086231351655296\n",
       " -0.08520752366111126\n",
       "  0.6375286625190384\n",
       "  1.7950499803547166\n",
       "vectors:\n",
       "4×4 Matrix{Float64}:\n",
       "  0.0280515   0.263403      0.406836   0.666769\n",
       "  0.339297   -0.650816      0.38615    0.288141\n",
       "  0.30782     0.000145058  -0.824467   0.620623\n",
       " -0.888447    0.71208      -0.0750151  0.295332"
      ]
     },
     "execution_count": 88,
     "metadata": {},
     "output_type": "execute_result"
    }
   ],
   "source": [
    "eigen(rand(4, 4))"
   ]
  },
  {
   "cell_type": "code",
   "execution_count": 89,
   "id": "legal-roulette",
   "metadata": {},
   "outputs": [
    {
     "data": {
      "text/plain": [
       "4×1 Matrix{Float64}:\n",
       "  0.7891948948123136\n",
       " -0.4326188586426534\n",
       " -0.1930905941585556\n",
       "  1.2138138664431877"
      ]
     },
     "execution_count": 89,
     "metadata": {},
     "output_type": "execute_result"
    }
   ],
   "source": [
    "rand(4, 4) \\ rand(4, 1)"
   ]
  },
  {
   "cell_type": "code",
   "execution_count": 91,
   "id": "ethical-miami",
   "metadata": {},
   "outputs": [
    {
     "name": "stdout",
     "output_type": "stream",
     "text": [
      "15\n",
      "18\n",
      "21\n",
      "20\n",
      "24\n",
      "28\n",
      "25\n",
      "30\n",
      "35\n",
      "30\n",
      "36\n",
      "42\n",
      "40\n",
      "48\n",
      "56\n",
      "50\n",
      "60\n",
      "70\n",
      "45\n",
      "54\n",
      "63\n",
      "60\n",
      "72\n",
      "84\n",
      "75\n",
      "90\n",
      "105\n"
     ]
    }
   ],
   "source": [
    "for x = 1:3, y ∈ 3:5, z in 5:7\n",
    "    println(x * y * z)\n",
    "end"
   ]
  },
  {
   "cell_type": "code",
   "execution_count": 4,
   "id": "interstate-accountability",
   "metadata": {},
   "outputs": [
    {
     "name": "stdout",
     "output_type": "stream",
     "text": [
      "  1.486916 seconds (6.25 M allocations: 258.685 MiB, 2.38% gc time, 14.86% compilation time)\n"
     ]
    },
    {
     "data": {
      "text/plain": [
       "1762-element Vector{Tuple{Int64, Int64, Int64}}:\n",
       " (3, 4, 5)\n",
       " (4, 3, 5)\n",
       " (5, 12, 13)\n",
       " (6, 8, 10)\n",
       " (7, 24, 25)\n",
       " (8, 6, 10)\n",
       " (8, 15, 17)\n",
       " (9, 12, 15)\n",
       " (9, 40, 41)\n",
       " (10, 24, 26)\n",
       " (11, 60, 61)\n",
       " (12, 5, 13)\n",
       " (12, 9, 15)\n",
       " ⋮\n",
       " (945, 248, 977)\n",
       " (945, 324, 999)\n",
       " (950, 264, 986)\n",
       " (952, 186, 970)\n",
       " (957, 124, 965)\n",
       " (960, 62, 962)\n",
       " (960, 176, 976)\n",
       " (960, 216, 984)\n",
       " (960, 280, 1000)\n",
       " (966, 88, 970)\n",
       " (969, 108, 975)\n",
       " (975, 140, 985)"
      ]
     },
     "execution_count": 4,
     "metadata": {},
     "output_type": "execute_result"
    }
   ],
   "source": [
    "r = 1000\n",
    "@time [(x, y, z) for x ∈ 1:r for y ∈ 1:r for z ∈ 1:r if x^2 + y^2 == z^2]"
   ]
  },
  {
   "cell_type": "code",
   "execution_count": 95,
   "id": "pediatric-participant",
   "metadata": {},
   "outputs": [],
   "source": [
    "lambdas = [() -> x for x in 1:10];"
   ]
  },
  {
   "cell_type": "code",
   "execution_count": 96,
   "id": "dated-exchange",
   "metadata": {},
   "outputs": [
    {
     "data": {
      "text/plain": [
       "1"
      ]
     },
     "execution_count": 96,
     "metadata": {},
     "output_type": "execute_result"
    }
   ],
   "source": [
    "lambdas[1]()"
   ]
  },
  {
   "cell_type": "code",
   "execution_count": 99,
   "id": "domestic-parameter",
   "metadata": {},
   "outputs": [
    {
     "data": {
      "text/plain": [
       "()"
      ]
     },
     "execution_count": 99,
     "metadata": {},
     "output_type": "execute_result"
    }
   ],
   "source": [
    "()"
   ]
  },
  {
   "cell_type": "code",
   "execution_count": 100,
   "id": "becoming-phoenix",
   "metadata": {},
   "outputs": [
    {
     "data": {
      "text/plain": [
       "false"
      ]
     },
     "execution_count": 100,
     "metadata": {},
     "output_type": "execute_result"
    }
   ],
   "source": [
    "true && false"
   ]
  },
  {
   "cell_type": "code",
   "execution_count": 101,
   "id": "blessed-thong",
   "metadata": {},
   "outputs": [
    {
     "data": {
      "text/plain": [
       "true"
      ]
     },
     "execution_count": 101,
     "metadata": {},
     "output_type": "execute_result"
    }
   ],
   "source": [
    "false || true"
   ]
  },
  {
   "cell_type": "code",
   "execution_count": 102,
   "id": "brazilian-publisher",
   "metadata": {},
   "outputs": [
    {
     "ename": "LoadError",
     "evalue": "TypeError: non-boolean (Int64) used in boolean context",
     "output_type": "error",
     "traceback": [
      "TypeError: non-boolean (Int64) used in boolean context",
      "",
      "Stacktrace:",
      " [1] top-level scope",
      "   @ In[102]:1",
      " [2] eval",
      "   @ ./boot.jl:360 [inlined]",
      " [3] include_string(mapexpr::typeof(REPL.softscope), mod::Module, code::String, filename::String)",
      "   @ Base ./loading.jl:1094"
     ]
    }
   ],
   "source": [
    "1 && false"
   ]
  },
  {
   "cell_type": "code",
   "execution_count": 104,
   "id": "unnecessary-sailing",
   "metadata": {},
   "outputs": [
    {
     "data": {
      "text/plain": [
       "1"
      ]
     },
     "execution_count": 104,
     "metadata": {},
     "output_type": "execute_result"
    }
   ],
   "source": [
    "true && 1"
   ]
  },
  {
   "cell_type": "code",
   "execution_count": 105,
   "id": "sensitive-profit",
   "metadata": {},
   "outputs": [
    {
     "data": {
      "text/plain": [
       "false"
      ]
     },
     "execution_count": 105,
     "metadata": {},
     "output_type": "execute_result"
    }
   ],
   "source": [
    "false && error(\"hi\")"
   ]
  },
  {
   "cell_type": "code",
   "execution_count": 106,
   "id": "restricted-event",
   "metadata": {},
   "outputs": [
    {
     "ename": "LoadError",
     "evalue": "hi",
     "output_type": "error",
     "traceback": [
      "hi",
      "",
      "Stacktrace:",
      " [1] error(s::String)",
      "   @ Base ./error.jl:33",
      " [2] top-level scope",
      "   @ In[106]:1",
      " [3] eval",
      "   @ ./boot.jl:360 [inlined]",
      " [4] include_string(mapexpr::typeof(REPL.softscope), mod::Module, code::String, filename::String)",
      "   @ Base ./loading.jl:1094"
     ]
    }
   ],
   "source": [
    "true && error(\"hi\")"
   ]
  },
  {
   "cell_type": "code",
   "execution_count": 107,
   "id": "ranking-thing",
   "metadata": {},
   "outputs": [
    {
     "data": {
      "text/plain": [
       "fact (generic function with 1 method)"
      ]
     },
     "execution_count": 107,
     "metadata": {},
     "output_type": "execute_result"
    }
   ],
   "source": [
    "function fact(n)\n",
    "    n < 0 && throw(DomainError(\"$n < 0\"))\n",
    "    \n",
    "    if n <= 1\n",
    "        1\n",
    "    else\n",
    "        n * fact(n - 1)\n",
    "    end\n",
    "end"
   ]
  },
  {
   "cell_type": "code",
   "execution_count": 108,
   "id": "functional-stewart",
   "metadata": {},
   "outputs": [
    {
     "data": {
      "text/plain": [
       "3628800"
      ]
     },
     "execution_count": 108,
     "metadata": {},
     "output_type": "execute_result"
    }
   ],
   "source": [
    "fact(10)"
   ]
  },
  {
   "cell_type": "code",
   "execution_count": 109,
   "id": "attended-silicon",
   "metadata": {},
   "outputs": [
    {
     "ename": "LoadError",
     "evalue": "DomainError with -1 < 0:\n",
     "output_type": "error",
     "traceback": [
      "DomainError with -1 < 0:\n",
      "",
      "Stacktrace:",
      " [1] fact(n::Int64)",
      "   @ Main ./In[107]:2",
      " [2] top-level scope",
      "   @ In[109]:1",
      " [3] eval",
      "   @ ./boot.jl:360 [inlined]",
      " [4] include_string(mapexpr::typeof(REPL.softscope), mod::Module, code::String, filename::String)",
      "   @ Base ./loading.jl:1094"
     ]
    }
   ],
   "source": [
    "fact(-1)"
   ]
  },
  {
   "cell_type": "code",
   "execution_count": 113,
   "id": "spectacular-feedback",
   "metadata": {},
   "outputs": [
    {
     "name": "stdout",
     "output_type": "stream",
     "text": [
      "DomainError(-1.0, \"sqrt will only return a complex result if called with a complex argument. Try sqrt(Complex(x)).\")\n",
      "run me always\n"
     ]
    }
   ],
   "source": [
    "try\n",
    "    √(-1)\n",
    "catch e\n",
    "    println(e)\n",
    "finally\n",
    "    println(\"run me always\")\n",
    "end"
   ]
  },
  {
   "cell_type": "code",
   "execution_count": 114,
   "id": "consecutive-dancing",
   "metadata": {},
   "outputs": [
    {
     "data": {
      "text/plain": [
       "delayed_sqrt (generic function with 1 method)"
      ]
     },
     "execution_count": 114,
     "metadata": {},
     "output_type": "execute_result"
    }
   ],
   "source": [
    "function delayed_sqrt(x)\n",
    "    try\n",
    "        () -> √x\n",
    "    catch e\n",
    "        if isa(e, DomainError)\n",
    "            throw(ArgumentError(e.msg, e.val))\n",
    "        else\n",
    "            throw(e)\n",
    "        end\n",
    "    end\n",
    "end"
   ]
  },
  {
   "cell_type": "code",
   "execution_count": 115,
   "id": "commercial-truth",
   "metadata": {},
   "outputs": [
    {
     "ename": "LoadError",
     "evalue": "DomainError with -1.0:\nsqrt will only return a complex result if called with a complex argument. Try sqrt(Complex(x)).",
     "output_type": "error",
     "traceback": [
      "DomainError with -1.0:\nsqrt will only return a complex result if called with a complex argument. Try sqrt(Complex(x)).",
      "",
      "Stacktrace:",
      " [1] throw_complex_domainerror(f::Symbol, x::Float64)",
      "   @ Base.Math ./math.jl:33",
      " [2] sqrt",
      "   @ ./math.jl:582 [inlined]",
      " [3] sqrt",
      "   @ ./math.jl:608 [inlined]",
      " [4] (::var\"#47#48\"{Int64})()",
      "   @ Main ./In[114]:3",
      " [5] top-level scope",
      "   @ In[115]:1",
      " [6] eval",
      "   @ ./boot.jl:360 [inlined]",
      " [7] include_string(mapexpr::typeof(REPL.softscope), mod::Module, code::String, filename::String)",
      "   @ Base ./loading.jl:1094"
     ]
    }
   ],
   "source": [
    "delayed_sqrt(-1)()"
   ]
  },
  {
   "cell_type": "code",
   "execution_count": null,
   "id": "listed-bulgarian",
   "metadata": {},
   "outputs": [],
   "source": []
  }
 ],
 "metadata": {
  "kernelspec": {
   "display_name": "Julia 1.6.1",
   "language": "julia",
   "name": "julia-1.6"
  },
  "language_info": {
   "file_extension": ".jl",
   "mimetype": "application/julia",
   "name": "julia",
   "version": "1.6.1"
  }
 },
 "nbformat": 4,
 "nbformat_minor": 5
}
