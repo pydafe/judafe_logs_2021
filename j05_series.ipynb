{
 "cells": [
  {
   "cell_type": "markdown",
   "id": "polish-impossible",
   "metadata": {},
   "source": [
    "# Формальные степенные ряды\n",
    "\n",
    "Каждый ряд $f(x)$ -- это бесконечная последовательность коэффициентов. То есть ряд\n",
    "$$\n",
    "f(x) = f_0 + f_1 x + f_2 x^2 + f_3 x^3 + ...\n",
    "$$\n",
    "есть последовательность\n",
    "$$\n",
    "[f_0, f_1, f_2, f_3, ...].\n",
    "$$\n",
    "\n",
    "Последовательность мы представляем как структуру, часть вычислений которой отложенные. Так описанная выше последовательность есть `Cons(f_0, Cons(f_1, Cons(f_2, Cons(f_3, Thunk))))`. Первые четыре элемента вычислены, а для вычисления пятого надо вызвать функцию, которая этот пятый элемент посчитает.\n",
    "\n",
    "Cons-ячейка -- это пара, которая даёт информацию о том, каково значение текущего коэффициента, и как вычислить значения всех остальных коэффициентов."
   ]
  },
  {
   "cell_type": "code",
   "execution_count": 1,
   "id": "confident-religious",
   "metadata": {},
   "outputs": [],
   "source": [
    "import Base: show, +\n",
    "using Latexify"
   ]
  },
  {
   "cell_type": "code",
   "execution_count": 2,
   "id": "narrative-kruger",
   "metadata": {},
   "outputs": [
    {
     "data": {
      "text/plain": [
       "Thunk"
      ]
     },
     "execution_count": 2,
     "metadata": {},
     "output_type": "execute_result"
    }
   ],
   "source": [
    "\"Объединяем две разные структуры под одним типом\"\n",
    "abstract type Series{T <: Number}\n",
    "end\n",
    "\n",
    "\"Cons-ячейка -- это значение текущего коэффициента и ссылка на оставшийся хвост\"\n",
    "struct Cons{T <: Number} <: Series{T}\n",
    "    head::T\n",
    "    tail::Series{T}\n",
    "end\n",
    "\n",
    "\"Thunk -- это обёртка, отложенное вычисление. Функция, которая вернёт Cons-ячейку при вычислении\"\n",
    "struct Thunk{T <: Number} <: Series{T}\n",
    "    thunk::Function\n",
    "end"
   ]
  },
  {
   "cell_type": "code",
   "execution_count": 3,
   "id": "vital-reference",
   "metadata": {},
   "outputs": [
    {
     "data": {
      "text/plain": [
       "consthunk"
      ]
     },
     "execution_count": 3,
     "metadata": {},
     "output_type": "execute_result"
    }
   ],
   "source": [
    "\"Деструктор. Cons-ячейку мы просто раскладвыаем в пару, а Thunk сперва вычисляем, только потом раскладываем\"\n",
    "function peel end\n",
    "\n",
    "function peel(s::Cons{T})::Tuple{T,Series{T}} where T <: Number\n",
    "    return (s.head, s.tail)\n",
    "end\n",
    "\n",
    "function peel(s::Thunk{T}) where T <: Number\n",
    "    return peel(s.thunk())\n",
    "end\n",
    "\n",
    "\n",
    "\"Вспомогательная функция, чтобы не писть много скобок, когда надо сделать Cons(a, Thunk(b))\"\n",
    "function consthunk(head::T, tail::Function)::Series{T} where T <: Number\n",
    "    return Cons{T}(head, Thunk{T}(tail))\n",
    "end"
   ]
  },
  {
   "cell_type": "code",
   "execution_count": 4,
   "id": "electronic-saudi",
   "metadata": {},
   "outputs": [
    {
     "data": {
      "text/plain": [
       "generate"
      ]
     },
     "execution_count": 4,
     "metadata": {},
     "output_type": "execute_result"
    }
   ],
   "source": [
    "\"Конструктор степенного ряда из генерирующей функции\"\n",
    "function generate(::Type{T}, gen::Function)::Series{T} where T <: Number\n",
    "    function run(i::Int)::Series{T}\n",
    "        return consthunk(T(gen(i)), () -> run(i + 1))\n",
    "    end\n",
    "    \n",
    "    return run(0)\n",
    "end"
   ]
  },
  {
   "cell_type": "code",
   "execution_count": 5,
   "id": "muslim-setup",
   "metadata": {},
   "outputs": [
    {
     "data": {
      "text/plain": [
       "take"
      ]
     },
     "execution_count": 5,
     "metadata": {},
     "output_type": "execute_result"
    }
   ],
   "source": [
    "\"Взять первые n коэффициентов и вернуть их в векторе\"\n",
    "function take(s::Series{T}, n::Int)::Vector{T} where T <: Number\n",
    "    vec = Vector{T}(undef, n)\n",
    "    \n",
    "    for i in 1:n\n",
    "        (vec[i], s) = peel(s)\n",
    "    end\n",
    "    \n",
    "    return vec\n",
    "end"
   ]
  },
  {
   "cell_type": "code",
   "execution_count": 6,
   "id": "billion-extent",
   "metadata": {},
   "outputs": [
    {
     "data": {
      "text/plain": [
       "Base.show"
      ]
     },
     "execution_count": 6,
     "metadata": {},
     "output_type": "execute_result"
    }
   ],
   "source": [
    "\"Преобразовать часть степенного ряда в выражение\"\n",
    "function series_expr(s::Series{T}, n::Int=9, var::Symbol=:x)::Expr where T <: Number\n",
    "    (constant, s) = peel(s)\n",
    "    args = Any[constant]\n",
    "    for i in 1:n\n",
    "        (coef, s) = peel(s)\n",
    "        term = (i == 1) ? var : :($var ^ $i)\n",
    "        term = (coef == 1) ? term : :($coef * $term)\n",
    "        push!(args, term)\n",
    "    end\n",
    "    return Expr(:call, :+, args..., :...)\n",
    "end\n",
    "\n",
    "\"Красивое представление степенного ряда в LaTeX\"\n",
    "function show(io::IO, ::MIME\"text/latex\", s::Series{T})::Nothing where T <: Number\n",
    "    println(io, latexify(series_expr(s)))\n",
    "end"
   ]
  },
  {
   "cell_type": "code",
   "execution_count": 7,
   "id": "dynamic-feeding",
   "metadata": {},
   "outputs": [
    {
     "data": {
      "text/plain": [
       "Base.:+"
      ]
     },
     "execution_count": 7,
     "metadata": {},
     "output_type": "execute_result"
    }
   ],
   "source": [
    "\"Сложение степенных рядов\"\n",
    "function +(s1::Series{T}, s2::Series{T})::Series{T} where T <: Number\n",
    "    (h1, t1) = peel(s1)\n",
    "    (h2, t2) = peel(s2)\n",
    "    return consthunk(h1 + h2, () -> t1 + t2)\n",
    "end"
   ]
  },
  {
   "cell_type": "code",
   "execution_count": 8,
   "id": "renewable-blink",
   "metadata": {},
   "outputs": [
    {
     "data": {
      "text/latex": [
       "$0 + x + 2 \\cdot x^{2} + 3 \\cdot x^{3} + 4 \\cdot x^{4} + 5 \\cdot x^{5} + 6 \\cdot x^{6} + 7 \\cdot x^{7} + 8 \\cdot x^{8} + 9 \\cdot x^{9} + ...$\n"
      ],
      "text/plain": [
       "Cons{Rational{Int64}}(0//1, Thunk{Rational{Int64}}(var\"#1#3\"{Int64}(0, Core.Box(var\"#run#2\"{Rational{Int64}, var\"#6#7\"}(var\"#6#7\"(), Core.Box(#= circular reference @-2 =#))))))"
      ]
     },
     "execution_count": 8,
     "metadata": {},
     "output_type": "execute_result"
    }
   ],
   "source": [
    "ser1 = generate(Rational{Int}, i -> (i == 0) ? 0 : i)"
   ]
  },
  {
   "cell_type": "code",
   "execution_count": 11,
   "id": "impaired-barrier",
   "metadata": {},
   "outputs": [
    {
     "data": {
      "text/latex": [
       "$0 -1 \\cdot x + \\frac{1}{2} \\cdot x^{2} + \\frac{-1}{3} \\cdot x^{3} + \\frac{1}{4} \\cdot x^{4} + \\frac{-1}{5} \\cdot x^{5} + \\frac{1}{6} \\cdot x^{6} + \\frac{-1}{7} \\cdot x^{7} + \\frac{1}{8} \\cdot x^{8} + \\frac{-1}{9} \\cdot x^{9} + ...$\n"
      ],
      "text/plain": [
       "Cons{Rational{Int64}}(0//1, Thunk{Rational{Int64}}(var\"#1#3\"{Int64}(0, Core.Box(var\"#run#2\"{Rational{Int64}, var\"#12#13\"}(var\"#12#13\"(), Core.Box(#= circular reference @-2 =#))))))"
      ]
     },
     "execution_count": 11,
     "metadata": {},
     "output_type": "execute_result"
    }
   ],
   "source": [
    "ser2 = generate(Rational{Int}, i -> (i == 0) ? 0 : (-1)^i // i)"
   ]
  },
  {
   "cell_type": "code",
   "execution_count": 12,
   "id": "freelance-telephone",
   "metadata": {},
   "outputs": [
    {
     "data": {
      "text/latex": [
       "$0 + 0 \\cdot x + \\frac{5}{2} \\cdot x^{2} + \\frac{8}{3} \\cdot x^{3} + \\frac{17}{4} \\cdot x^{4} + \\frac{24}{5} \\cdot x^{5} + \\frac{37}{6} \\cdot x^{6} + \\frac{48}{7} \\cdot x^{7} + \\frac{65}{8} \\cdot x^{8} + \\frac{80}{9} \\cdot x^{9} + ...$\n"
      ],
      "text/plain": [
       "Cons{Rational{Int64}}(0//1, Thunk{Rational{Int64}}(var\"#4#5\"{Thunk{Rational{Int64}}, Thunk{Rational{Int64}}}(Thunk{Rational{Int64}}(var\"#1#3\"{Int64}(0, Core.Box(var\"#run#2\"{Rational{Int64}, var\"#12#13\"}(var\"#12#13\"(), Core.Box(#= circular reference @-2 =#))))), Thunk{Rational{Int64}}(var\"#1#3\"{Int64}(0, Core.Box(var\"#run#2\"{Rational{Int64}, var\"#6#7\"}(var\"#6#7\"(), Core.Box(#= circular reference @-2 =#))))))))"
      ]
     },
     "execution_count": 12,
     "metadata": {},
     "output_type": "execute_result"
    }
   ],
   "source": [
    "ser1 + ser2"
   ]
  },
  {
   "cell_type": "code",
   "execution_count": null,
   "id": "vocational-request",
   "metadata": {},
   "outputs": [],
   "source": [
    "\"Умножение ряда на число\"\n",
    "function *(a::T, s2::Series{T})::Series{T} where T <: Number\n",
    "    ...\n",
    "end"
   ]
  },
  {
   "cell_type": "code",
   "execution_count": null,
   "id": "essential-filename",
   "metadata": {},
   "outputs": [],
   "source": [
    "\"Умножение рядов\"\n",
    "function *(s1::Series{T}, s2::Series{T})::Series{T} where T <: Number\n",
    "    ...\n",
    "end"
   ]
  },
  {
   "cell_type": "code",
   "execution_count": null,
   "id": "proud-delivery",
   "metadata": {},
   "outputs": [],
   "source": [
    "\"Обращение ряда (в смысле деления)\"\n",
    "function recip(s::Series{T})::Series{T} where T <: Number\n",
    "    ...\n",
    "end"
   ]
  },
  {
   "cell_type": "code",
   "execution_count": null,
   "id": "duplicate-richmond",
   "metadata": {},
   "outputs": [],
   "source": [
    "\"Деление рядов\"\n",
    "function /(s1::Series{T}, s2::Series{T})::Series{T} where T <: Number\n",
    "    ...\n",
    "end"
   ]
  },
  {
   "cell_type": "code",
   "execution_count": null,
   "id": "joint-granny",
   "metadata": {},
   "outputs": [],
   "source": [
    "\"Подстановка\"\n",
    "function (s1::Series{T})(s2::Series{T})::Series{T} where T <: Number\n",
    "    ...\n",
    "end"
   ]
  },
  {
   "cell_type": "code",
   "execution_count": null,
   "id": "eight-shareware",
   "metadata": {},
   "outputs": [],
   "source": [
    "\"Обращение ряда (в смысле подстановки)\"\n",
    "function inv(s::Series{T})::Series{T} where T <: Number\n",
    "    ...\n",
    "end"
   ]
  },
  {
   "cell_type": "code",
   "execution_count": null,
   "id": "tropical-reward",
   "metadata": {},
   "outputs": [],
   "source": [
    "\"Дифференцирование\"\n",
    "function differentiate(s::Series{T})::Series{T} where T <: Number\n",
    "    ...\n",
    "end"
   ]
  },
  {
   "cell_type": "code",
   "execution_count": null,
   "id": "pressed-sauce",
   "metadata": {},
   "outputs": [],
   "source": [
    "\"Интегрирование\"\n",
    "function integrate(s::Series{T})::Series{T} where T <: Number\n",
    "    ...\n",
    "end"
   ]
  }
 ],
 "metadata": {
  "kernelspec": {
   "display_name": "Julia 1.6.1",
   "language": "julia",
   "name": "julia-1.6"
  },
  "language_info": {
   "file_extension": ".jl",
   "mimetype": "application/julia",
   "name": "julia",
   "version": "1.6.1"
  }
 },
 "nbformat": 4,
 "nbformat_minor": 5
}
