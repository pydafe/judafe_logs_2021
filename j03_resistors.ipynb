{
 "cells": [
  {
   "cell_type": "markdown",
   "id": "serial-domain",
   "metadata": {},
   "source": [
    "# Занятие №3: эквивалентное сопротивление"
   ]
  },
  {
   "cell_type": "code",
   "execution_count": 52,
   "id": "exclusive-kansas",
   "metadata": {},
   "outputs": [],
   "source": [
    "using Base: hash, ==\n",
    "using LinearAlgebra"
   ]
  },
  {
   "cell_type": "code",
   "execution_count": 2,
   "id": "numerous-grove",
   "metadata": {},
   "outputs": [],
   "source": [
    "\"Тип данных для контакта, к которому подключаются сопротивления\"\n",
    "struct Pin\n",
    "    value::Any\n",
    "end\n",
    "\n",
    "hash(x::Pin, h::UInt) = hash(x.value, h)\n",
    "==(x::Pin, y::Pin) = x.value == y.value\n",
    "\n",
    "\n",
    "\"Пассивный элемент, т.е. сопротивление\"\n",
    "struct Passive{T <: Number}\n",
    "    value::T\n",
    "end\n",
    "\n",
    "\n",
    "\"Электрическая цепь из сопротивлений: множество контактов и отношение смежности между ними\"\n",
    "mutable struct Circuit{T <: Number}\n",
    "    pins::Set{Pin}\n",
    "    elements::Dict{Pin, Dict{Pin, Passive{T}}}\n",
    "end\n",
    "\n",
    "Circuit{T}() where T <: Number =\n",
    "   Circuit(Set{Pin}(), Dict{Pin, Dict{Pin, Passive{T}}}())"
   ]
  },
  {
   "cell_type": "code",
   "execution_count": 24,
   "id": "voluntary-legend",
   "metadata": {},
   "outputs": [
    {
     "data": {
      "text/plain": [
       "equivalent (generic function with 1 method)"
      ]
     },
     "execution_count": 24,
     "metadata": {},
     "output_type": "execute_result"
    }
   ],
   "source": [
    "\"Добавить контакт в цепь\"\n",
    "function addpin!(circuit::Circuit{T}, a::Pin) where T <: Number\n",
    "    if a in circuit.pins\n",
    "        return false\n",
    "    else\n",
    "        push!(circuit.pins, a)\n",
    "        circuit.elements[a] = Dict{Pin, Passive{T}}()\n",
    "        return true\n",
    "    end\n",
    "end\n",
    "\n",
    "\"Добавить элемент в цепь и подключить к двум заданным контактам\"\n",
    "function addelement!(circuit::Circuit{T},\n",
    "    element::Passive{T},\n",
    "    a::Pin,\n",
    "    b::Pin) where T <: Number\n",
    "    \n",
    "    addpin!(circuit, a)\n",
    "    addpin!(circuit, b)\n",
    "\n",
    "    circuit.elements[a][b] = element\n",
    "    circuit.elements[b][a] = element\n",
    "end\n",
    "\n",
    "\"Вывод уравнений для узловых потенциалов из правил Кирхгофа\"\n",
    "function equations(circuit::Circuit{T}) :: Tuple{Dict{Pin, Int},Matrix{T}} where T <: Number\n",
    "    indices = Dict((p, i) for (i, p) in enumerate(circuit.pins))\n",
    "    n = length(indices)\n",
    "    \n",
    "    equations = zeros(T, (n, n))\n",
    "    for (p, pi) in pairs(indices)\n",
    "        for (q, e) in circuit.elements[p]\n",
    "            equations[pi, indices[q]] += 1 / e.value\n",
    "            equations[pi, pi] -= 1 / e.value\n",
    "        end\n",
    "    end\n",
    "    \n",
    "    return (indices, equations)\n",
    "end\n",
    "\n",
    "\"Найти эквивалентное сопротивление между двумя заданными узлами\"\n",
    "function equivalent(circuit::Circuit{T}, a::Pin, b::Pin) where T <: Number\n",
    "    indices, eqs = equations(circuit)\n",
    "    ia = indices[a]\n",
    "    ib = indices[b]\n",
    "    eqa = eqs[ia, :]\n",
    "\n",
    "    eqs[ia, :] .= 0\n",
    "    eqs[ia, ia] = 1\n",
    "\n",
    "    eqs[ib, :] .= 0\n",
    "    eqs[ib, ib] = 1\n",
    "    \n",
    "    rhs = zeros(T, length(indices))\n",
    "    rhs[ib] = 1\n",
    "    \n",
    "    current = eqa ⋅ (eqs \\ rhs)\n",
    "    \n",
    "    return 1 / current\n",
    "end"
   ]
  },
  {
   "cell_type": "markdown",
   "id": "arranged-bidder",
   "metadata": {},
   "source": [
    "# Примеры расчётов"
   ]
  },
  {
   "cell_type": "code",
   "execution_count": 43,
   "id": "controlling-trunk",
   "metadata": {},
   "outputs": [
    {
     "data": {
      "text/plain": [
       "1.3333333333333333"
      ]
     },
     "execution_count": 43,
     "metadata": {},
     "output_type": "execute_result"
    }
   ],
   "source": [
    "circuit = Circuit{Float64}()\n",
    "a = Pin(\"a\")\n",
    "b = Pin(\"b\")\n",
    "c = Pin(\"c\")\n",
    "addelement!(circuit, Passive(3.0), a, b)\n",
    "addelement!(circuit, Passive(2.0), a, c)\n",
    "addelement!(circuit, Passive(1.0), b, c)\n",
    "\n",
    "equivalent(circuit, a, c)"
   ]
  },
  {
   "cell_type": "code",
   "execution_count": 45,
   "id": "lyric-courtesy",
   "metadata": {},
   "outputs": [
    {
     "data": {
      "text/plain": [
       "4//3"
      ]
     },
     "execution_count": 45,
     "metadata": {},
     "output_type": "execute_result"
    }
   ],
   "source": [
    "circuit = Circuit{Rational{Int}}()\n",
    "a = Pin(\"a\")\n",
    "b = Pin(\"b\")\n",
    "c = Pin(\"c\")\n",
    "addelement!(circuit, Passive(3//1), a, b)\n",
    "addelement!(circuit, Passive(2//1), a, c)\n",
    "addelement!(circuit, Passive(1//1), b, c)\n",
    "\n",
    "equivalent(circuit, a, c)"
   ]
  },
  {
   "cell_type": "code",
   "execution_count": 51,
   "id": "worse-india",
   "metadata": {
    "scrolled": false
   },
   "outputs": [
    {
     "data": {
      "text/latex": [
       "\\begin{equation}\n",
       "\\left( r_{2}^{-1} - \\frac{1}{\\left(  - \\frac{1}{r_{1}} - \\frac{1}{r_{3}} \\right) r_{3} r_{1}} \\right)^{-1}\n",
       "\\end{equation}\n"
      ],
      "text/plain": [
       "(r_2^-1 - ((r_1^-1)*(r_3^-1)*((-(r_1^-1) - (r_3^-1))^-1)))^-1"
      ]
     },
     "execution_count": 51,
     "metadata": {},
     "output_type": "execute_result"
    }
   ],
   "source": [
    "using Symbolics\n",
    "\n",
    "@variables r_1 r_2 r_3\n",
    "\n",
    "circuit = Circuit{Num}()\n",
    "a = Pin(\"a\")\n",
    "b = Pin(\"b\")\n",
    "c = Pin(\"c\")\n",
    "addelement!(circuit, Passive(r_1), a, b)\n",
    "addelement!(circuit, Passive(r_2), a, c)\n",
    "addelement!(circuit, Passive(r_3), b, c)\n",
    "\n",
    "equivalent(circuit, a, c)"
   ]
  }
 ],
 "metadata": {
  "kernelspec": {
   "display_name": "Julia 1.6.1",
   "language": "julia",
   "name": "julia-1.6"
  },
  "language_info": {
   "file_extension": ".jl",
   "mimetype": "application/julia",
   "name": "julia",
   "version": "1.6.1"
  }
 },
 "nbformat": 4,
 "nbformat_minor": 5
}
