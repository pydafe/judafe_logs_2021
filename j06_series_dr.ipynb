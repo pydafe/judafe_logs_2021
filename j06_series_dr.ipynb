{
 "cells": [
  {
   "cell_type": "markdown",
   "id": "polish-impossible",
   "metadata": {},
   "source": [
    "# Формальные степенные ряды\n",
    "\n",
    "Каждый ряд $f(x)$ -- это бесконечная последовательность коэффициентов. То есть ряд\n",
    "$$\n",
    "f(x) = f_0 + f_1 x + f_2 x^2 + f_3 x^3 + ...\n",
    "$$\n",
    "есть последовательность\n",
    "$$\n",
    "[f_0, f_1, f_2, f_3, ...].\n",
    "$$\n",
    "\n",
    "Последовательность мы представляем как структуру, часть вычислений которой отложенные. Так описанная выше последовательность есть `Cons(f_0, Cons(f_1, Cons(f_2, Cons(f_3, Thunk))))`. Первые четыре элемента вычислены, а для вычисления пятого надо вызвать функцию, которая этот пятый элемент посчитает.\n",
    "\n",
    "Cons-ячейка -- это пара, которая даёт информацию о том, каково значение текущего коэффициента, и как вычислить значения всех остальных коэффициентов."
   ]
  },
  {
   "cell_type": "code",
   "execution_count": 56,
   "id": "confident-religious",
   "metadata": {},
   "outputs": [],
   "source": [
    "import Base: show, +, *, /, -\n",
    "using Latexify"
   ]
  },
  {
   "cell_type": "code",
   "execution_count": 2,
   "id": "narrative-kruger",
   "metadata": {},
   "outputs": [
    {
     "data": {
      "text/plain": [
       "force (generic function with 2 methods)"
      ]
     },
     "execution_count": 2,
     "metadata": {},
     "output_type": "execute_result"
    }
   ],
   "source": [
    "\"Объединяем разные структуры под одним типом\"\n",
    "abstract type Series{T <: Number}\n",
    "end\n",
    "\n",
    "\n",
    "\"Cons-ячейка -- это значение текущего коэффициента и ссылка на оставшийся хвост\"\n",
    "mutable struct Cons{T <: Number} <: Series{T}\n",
    "    head::T\n",
    "    tail::Series{T}\n",
    "    \n",
    "    function Cons{T}(head::T, tail::Cons{T}) where T <: Number\n",
    "        return new(head, tail)\n",
    "    end\n",
    "    \n",
    "    function Cons{T}() where T <: Number\n",
    "        return new()\n",
    "    end\n",
    "end\n",
    "\n",
    "\n",
    "\"Memo -- обёртка, которая при вычислении меняет родительскую ссылку\"\n",
    "struct Memo{T <: Number} <: Series{T}\n",
    "    parent::Cons{T}\n",
    "    child::Series{T}\n",
    "    \n",
    "    function Memo{T}(parent::Cons{T}, child::Series{T}) where T <: Number\n",
    "        if isa(child, Memo)\n",
    "            return Memo{T}(parent, child.child)\n",
    "        else\n",
    "            return new(parent, child)\n",
    "        end\n",
    "    end\n",
    "end\n",
    "\n",
    "\n",
    "\"Вычисление следующего элемента.\"\n",
    "function force end\n",
    "\n",
    "function force(s::Cons{T})::Cons{T} where T <: Number\n",
    "    return s\n",
    "end\n",
    "\n",
    "function force(s::Memo{T})::Cons{T} where T <: Number\n",
    "    return s.parent.tail = force(s.child)\n",
    "end"
   ]
  },
  {
   "cell_type": "code",
   "execution_count": 3,
   "id": "cross-costume",
   "metadata": {},
   "outputs": [
    {
     "data": {
      "text/plain": [
       "memoize"
      ]
     },
     "execution_count": 3,
     "metadata": {},
     "output_type": "execute_result"
    }
   ],
   "source": [
    "function consmemo end\n",
    "\n",
    "function consmemo(head::T, tail::Cons{T})::Series{T} where T <: Number\n",
    "    return Cons{T}(head, tail)\n",
    "end\n",
    "\n",
    "function consmemo(head::T, tail::Series{T})::Series{T} where T <: Number\n",
    "    self = Cons{T}()\n",
    "    self.head = head\n",
    "    self.tail = Memo{T}(self, tail)\n",
    "    return self\n",
    "end\n",
    "\n",
    "\"Мемоизация степенного ряда\"\n",
    "function memoize(s::Series{T})::Cons{T} where T <: Number\n",
    "    c = force(s) :: Cons{T}\n",
    "    return consmemo(c.head, c.tail)\n",
    "end"
   ]
  },
  {
   "cell_type": "code",
   "execution_count": 4,
   "id": "electronic-saudi",
   "metadata": {},
   "outputs": [
    {
     "data": {
      "text/plain": [
       "force (generic function with 4 methods)"
      ]
     },
     "execution_count": 4,
     "metadata": {},
     "output_type": "execute_result"
    }
   ],
   "source": [
    "struct SeriesGenerator{T <: Number} <: Series{T}\n",
    "    index::Int\n",
    "    generator::Function\n",
    "end\n",
    "\n",
    "\n",
    "\"Конструктор степенного ряда из генерирующей функции\"\n",
    "function generate(::Type{T}, gen::Function)::Series{T} where T <: Number\n",
    "    return SeriesGenerator{T}(0, gen)\n",
    "end\n",
    "\n",
    "\n",
    "function force(s::SeriesGenerator{T})::Cons{T} where T <: Number\n",
    "    gen = s.generator\n",
    "    return consmemo(T(gen(s.index)), SeriesGenerator{T}(s.index + 1, gen))\n",
    "end\n",
    "\n",
    "\n",
    "struct SeriesVector{T <: Number} <: Series{T}\n",
    "    index::Int\n",
    "    data::Vector{T}\n",
    "    cycled::Bool\n",
    "end\n",
    "\n",
    "\"Конструктор степенного ряда из вектора\"\n",
    "function series(data::Vector{T}; cycled::Bool=false)::Series{T} where T <: Number\n",
    "    return SeriesVector{T}(0, data, cycled)\n",
    "end\n",
    "\n",
    "function force(s::SeriesVector{T})::Cons{T} where T <: Number\n",
    "    n = length(s.data)\n",
    "    i = s.index\n",
    "    if s.cycled\n",
    "        return consmemo(s.data[i % n + 1], SeriesVector{T}(i + 1, s.data, s.cycled))\n",
    "    else\n",
    "        return consmemo((i >= n) ? T(0) : s.data[i + 1], SeriesVector{T}(i + 1, s.data, s.cycled))\n",
    "    end\n",
    "end"
   ]
  },
  {
   "cell_type": "code",
   "execution_count": 5,
   "id": "muslim-setup",
   "metadata": {},
   "outputs": [
    {
     "data": {
      "text/plain": [
       "take"
      ]
     },
     "execution_count": 5,
     "metadata": {},
     "output_type": "execute_result"
    }
   ],
   "source": [
    "\"Взять первые n коэффициентов и вернуть их в векторе\"\n",
    "function take(s::Series{T}, n::Int)::Vector{T} where T <: Number\n",
    "    vec = Vector{T}(undef, n)\n",
    "    \n",
    "    for i in 1:n\n",
    "        c = force(s)::Cons{T}\n",
    "        vec[i] = c.head\n",
    "        s = c.tail\n",
    "    end\n",
    "    \n",
    "    return vec\n",
    "end"
   ]
  },
  {
   "cell_type": "code",
   "execution_count": 6,
   "id": "billion-extent",
   "metadata": {},
   "outputs": [
    {
     "data": {
      "text/plain": [
       "show (generic function with 263 methods)"
      ]
     },
     "execution_count": 6,
     "metadata": {},
     "output_type": "execute_result"
    }
   ],
   "source": [
    "\"Преобразовать часть степенного ряда в выражение\"\n",
    "function series_expr(s::Series{T}, n::Int=9, var::Symbol=:x)::Expr where T <: Number\n",
    "    cons = force(s)::Cons{T}\n",
    "    args = Any[cons.head]\n",
    "    s = cons.tail\n",
    "\n",
    "    for i in 1:n\n",
    "        cons = force(s)::Cons{T}\n",
    "        coef = cons.head\n",
    "        s = cons.tail\n",
    "\n",
    "        term = (i == 1) ? var : :($var ^ $i)\n",
    "        term = (coef == 1) ? term : :($coef * $term)\n",
    "        push!(args, term)\n",
    "    end\n",
    "    return Expr(:call, :+, args..., :...)\n",
    "end\n",
    "\n",
    "\"Красивое представление степенного ряда в LaTeX\"\n",
    "function show(io::IO, ::MIME\"text/latex\", s::Series{T})::Nothing where T <: Number\n",
    "    println(io, latexify(series_expr(s)))\n",
    "end\n",
    "\n",
    "function show(io::IO, ::MIME\"text/plain\", s::Series{T})::Nothing where T <: Number\n",
    "    println(io, latexify(series_expr(s)))\n",
    "end"
   ]
  },
  {
   "cell_type": "markdown",
   "id": "thorough-celebrity",
   "metadata": {},
   "source": [
    "Далее ряды будем представлять следующим образом:\n",
    "$$\n",
    "f(x) = f_0 + f_1 x + f_2 x^2 + \\ldots = f_h + x \\cdot f_t(x),\n",
    "$$\n",
    "\n",
    "где $f_h = f_0$ есть \"голова\"(head), а $f_t(x) = f_1 + f_2 x + f_3 x^2 + \\ldots$ есть \"хвост\"(tail)"
   ]
  },
  {
   "cell_type": "markdown",
   "id": "latter-wholesale",
   "metadata": {},
   "source": [
    "### Сложение степенных рядов\n",
    "Пусть есть ряды $f(x) = f_h + x \\cdot f_t(x)$ и $g(x) = g_h + x \\cdot g_t(x)$, тогда:\n",
    "\n",
    "$$\n",
    "f(x) + g(x) = \\left(f_h + g_h\\right) + x \\cdot \\left(f_t(x) + g_t(x)\\right)\n",
    "$$"
   ]
  },
  {
   "cell_type": "code",
   "execution_count": 7,
   "id": "dynamic-feeding",
   "metadata": {},
   "outputs": [
    {
     "data": {
      "text/plain": [
       "force (generic function with 5 methods)"
      ]
     },
     "execution_count": 7,
     "metadata": {},
     "output_type": "execute_result"
    }
   ],
   "source": [
    "struct SeriesAdd{T <: Number} <: Series{T}\n",
    "    first::Series{T}\n",
    "    second::Series{T}\n",
    "end\n",
    "\n",
    "\n",
    "function +(s1::Series{T}, s2::Series{T})::Series{T} where T <: Number\n",
    "    return SeriesAdd{T}(s1, s2)\n",
    "end\n",
    "\n",
    "\n",
    "function force(s::SeriesAdd{T})::Cons{T} where T <: Number\n",
    "    first = force(s.first)\n",
    "    second = force(s.second)\n",
    "    return consmemo(first.head + second.head, SeriesAdd{T}(first.tail, second.tail))\n",
    "end"
   ]
  },
  {
   "cell_type": "markdown",
   "id": "fleet-force",
   "metadata": {},
   "source": [
    "### Умножение ряда на число\n",
    "Пусть есть число $a$ и ряд $f(x) = f_h + x \\cdot f_t(x)$, тогда:\n",
    "\n",
    "$$\n",
    "a \\cdot f(x) = \\left(a \\cdot f_h \\right) + x \\cdot \\left(a \\cdot f_t(x)\\right)\n",
    "$$"
   ]
  },
  {
   "cell_type": "code",
   "execution_count": 57,
   "id": "vocational-request",
   "metadata": {},
   "outputs": [
    {
     "data": {
      "text/plain": [
       "force (generic function with 13 methods)"
      ]
     },
     "execution_count": 57,
     "metadata": {},
     "output_type": "execute_result"
    }
   ],
   "source": [
    "struct SeriesScale{T <: Number} <: Series{T}\n",
    "    scaler::T\n",
    "    series::Series{T}\n",
    "end\n",
    "\n",
    "\n",
    "function *(a::T, f::Series{T})::Series{T} where T <: Number\n",
    "    return SeriesScale{T}(a, f)\n",
    "end\n",
    "\n",
    "\n",
    "function -(f::Series{T})::Series{T} where T <: Number\n",
    "    return SeriesScale{T}(T(-1), f)\n",
    "end\n",
    "\n",
    "\n",
    "function force(s::SeriesScale{T})::Cons{T} where T <: Number\n",
    "    c = force(s.series)::Cons{T}\n",
    "    return consmemo(s.scaler * c.head, SeriesScale{T}(s.scaler, c.tail))\n",
    "end"
   ]
  },
  {
   "cell_type": "markdown",
   "id": "sitting-romantic",
   "metadata": {},
   "source": [
    "### Умножение рядов\n",
    "\n",
    "Пусть есть ряды $f(x) = f_h + x f_t(x)$ и $g(x)$, тогда:\n",
    "\n",
    "$$\n",
    "f(x) \\cdot g(x) = \\left(f_h \\cdot g(x)\\right) + x \\cdot \\left(f_t(x) \\cdot g(x)\\right)\n",
    "$$"
   ]
  },
  {
   "cell_type": "code",
   "execution_count": 9,
   "id": "essential-filename",
   "metadata": {},
   "outputs": [
    {
     "data": {
      "text/plain": [
       "force (generic function with 7 methods)"
      ]
     },
     "execution_count": 9,
     "metadata": {},
     "output_type": "execute_result"
    }
   ],
   "source": [
    "struct SeriesMul{T <: Number} <: Series{T}\n",
    "    fst::Series{T}\n",
    "    snd::Series{T}\n",
    "end\n",
    "\n",
    "\n",
    "function *(f::Series{T}, g::Series{T})::Series{T} where T <: Number\n",
    "    return SeriesMul{T}(f, g)\n",
    "end\n",
    "\n",
    "\n",
    "function force(s::SeriesMul{T})::Cons{T} where T <: Number\n",
    "    fst = force(s.fst)\n",
    "    snd = force(s.snd)\n",
    "    return force(fst.head * snd + consmemo(T(0), snd * fst.tail))\n",
    "end"
   ]
  },
  {
   "cell_type": "markdown",
   "id": "confidential-surge",
   "metadata": {},
   "source": [
    "### Подстановка\n",
    "Пусть есть ряды $f(x) = f_h + x f_t(x)$ и $g(x) = x g_t(x)$, тогда:\n",
    "\n",
    "$$\n",
    "f(g(x)) = f_h + g(x) \\cdot f_t(g(x)) = f_h + x \\cdot g_t(x) \\cdot f_t(g(x))\n",
    "$$\n",
    "\n",
    "Наличие $x$ во втором слагаемом даёт возможность отложить вычисление этого второго слагаемого."
   ]
  },
  {
   "cell_type": "code",
   "execution_count": 10,
   "id": "joint-granny",
   "metadata": {},
   "outputs": [
    {
     "data": {
      "text/plain": [
       "force (generic function with 8 methods)"
      ]
     },
     "execution_count": 10,
     "metadata": {},
     "output_type": "execute_result"
    }
   ],
   "source": [
    "struct SeriesApply{T <: Number} <: Series{T}\n",
    "    fun::Series{T}\n",
    "    arg::Series{T}\n",
    "end\n",
    "\n",
    "\n",
    "function (f::Series{T})(g::Series{T})::Series{T} where T <: Number\n",
    "    return SeriesApply{T}(f, g)\n",
    "end\n",
    "\n",
    "\n",
    "function force(s::SeriesApply{T})::Cons{T} where T <: Number\n",
    "    arg = force(s.arg)::Cons{T}\n",
    "    arg.head == 0 || throw(ErrorException(\"non-zero head in application\"))\n",
    "\n",
    "    fun = force(s.fun)::Cons{T}\n",
    "    return consmemo(fun.head, arg.tail * fun.tail(arg))\n",
    "end"
   ]
  },
  {
   "cell_type": "markdown",
   "id": "behavioral-fitness",
   "metadata": {},
   "source": [
    "### Обращение ряда (в смысле деления)\n",
    "\n",
    "Пусть есть ряд $f(x) = f_h + x \\cdot f_t(x)$, тогда:\n",
    "\n",
    "$$\n",
    "\\frac{1}{f(x)} = \\frac{1}{f_h + x \\cdot f_t(x)} = \\frac{1}{f_h} \\cdot \\frac{1}{1 + x \\frac{f_t(x)}{f_h}}\n",
    "= \\frac{1}{f_h} \\cdot r\\left(-x \\frac{f_t(x)}{f_h}\\right),\n",
    "$$\n",
    "где $r(x) = 1 + x + x^2 + x^3 + \\ldots$"
   ]
  },
  {
   "cell_type": "code",
   "execution_count": 11,
   "id": "proud-delivery",
   "metadata": {},
   "outputs": [
    {
     "data": {
      "text/plain": [
       "recip"
      ]
     },
     "execution_count": 11,
     "metadata": {},
     "output_type": "execute_result"
    }
   ],
   "source": [
    "\"Обращение ряда (в смысле деления)\"\n",
    "function recip(s::Series{T})::Series{T} where T <: Number\n",
    "    c = force(s)::Cons{T}\n",
    "    c.head == 0 && throw(ErrorException(\"zero head in reciprocation\"))\n",
    "\n",
    "    ones = series(T[1])\n",
    "    rh = 1 / c.head\n",
    "    return rh * ones(consmemo(T(0), -rh * c.tail))\n",
    "end"
   ]
  },
  {
   "cell_type": "markdown",
   "id": "decreased-boutique",
   "metadata": {},
   "source": [
    "### Деление рядов\n",
    "\n",
    "$$\n",
    "\\frac{f(x)}{g(x)} = f(x) \\cdot \\frac{1}{g(x)}\n",
    "$$"
   ]
  },
  {
   "cell_type": "code",
   "execution_count": 12,
   "id": "duplicate-richmond",
   "metadata": {},
   "outputs": [
    {
     "data": {
      "text/plain": [
       "/ (generic function with 107 methods)"
      ]
     },
     "execution_count": 12,
     "metadata": {},
     "output_type": "execute_result"
    }
   ],
   "source": [
    "function /(s1::Series{T}, s2::Series{T})::Series{T} where T <: Number\n",
    "    den = force(s2)::Cons{T}\n",
    "    if den.head == 0\n",
    "        num = force(s1)::Cons{T}\n",
    "        num.head == 0 || throw(ErrorException(\"zero head in reciprocation\"))\n",
    "        return num.tail / den.tail\n",
    "    else\n",
    "        return s1 * recip(den)\n",
    "    end\n",
    "end"
   ]
  },
  {
   "cell_type": "code",
   "execution_count": 32,
   "id": "eight-shareware",
   "metadata": {
    "scrolled": true
   },
   "outputs": [
    {
     "data": {
      "text/plain": [
       "force (generic function with 9 methods)"
      ]
     },
     "execution_count": 32,
     "metadata": {},
     "output_type": "execute_result"
    }
   ],
   "source": [
    "\"Решить уравнение f(g(x)) = h(x)\"\n",
    "struct SeriesSolve{T <: Number} <: Series{T}\n",
    "    arg::Series{T}\n",
    "    res::Series{T}\n",
    "end\n",
    "\n",
    "\n",
    "function solve(g::Series{T}, h::Series{T}=series(T[0, 1])) where T <: Number\n",
    "    return SeriesSolve{T}(g, h)\n",
    "end\n",
    "\n",
    "\n",
    "function force(s::SeriesSolve{T})::Cons{T} where T <: Number\n",
    "    arg = force(s.arg)::Cons{T}\n",
    "    arg.head == 0 || throw(ErrorException(\"non-zero head of argument in solve\"))\n",
    "    \n",
    "    res = force(s.res)::Cons{T}\n",
    "    return consmemo(res.head, SeriesSolve{T}(arg, res.tail / arg.tail))\n",
    "end"
   ]
  },
  {
   "cell_type": "code",
   "execution_count": 14,
   "id": "collective-yahoo",
   "metadata": {},
   "outputs": [
    {
     "data": {
      "text/plain": [
       "inv"
      ]
     },
     "execution_count": 14,
     "metadata": {},
     "output_type": "execute_result"
    }
   ],
   "source": [
    "\"Обращение ряда (в смысле подстановки)\"\n",
    "function inv(g::Series{T})::Series{T} where T <: Number\n",
    "    return solve(g)\n",
    "end"
   ]
  },
  {
   "cell_type": "code",
   "execution_count": 42,
   "id": "velvet-mechanism",
   "metadata": {},
   "outputs": [
    {
     "data": {
      "text/plain": [
       "force (generic function with 13 methods)"
      ]
     },
     "execution_count": 42,
     "metadata": {},
     "output_type": "execute_result"
    }
   ],
   "source": [
    "\"Поиск фиксированной точки, т.е. решение уравнения s = f(s)\"\n",
    "mutable struct SeriesFix{T <: Number} <: Series{T}\n",
    "    fun::Union{Function, Series{T}}\n",
    "\n",
    "    function SeriesFix{T}(fun::Function) where T <: Number\n",
    "        return new(s -> s.fun = force(fun(s)))\n",
    "    end\n",
    "end\n",
    "\n",
    "\n",
    "function force(s::SeriesFix{T})::Cons{T} where T <: Number\n",
    "    return isa(s.fun, Function) ? s.fun(s) : s.fun\n",
    "end"
   ]
  },
  {
   "cell_type": "code",
   "execution_count": 52,
   "id": "tropical-reward",
   "metadata": {
    "scrolled": true
   },
   "outputs": [
    {
     "data": {
      "text/plain": [
       "force (generic function with 13 methods)"
      ]
     },
     "execution_count": 52,
     "metadata": {},
     "output_type": "execute_result"
    }
   ],
   "source": [
    "struct SeriesDiff{T <: Number} <: Series{T}\n",
    "    arg::Series{T}\n",
    "    index::Int\n",
    "end\n",
    "\n",
    "\n",
    "\"Дифференцирование\"\n",
    "function differentiate(s::Series{T})::Series{T} where T <: Number\n",
    "    s = force(s).tail\n",
    "    return SeriesDiff{T}(s, T(1))\n",
    "end\n",
    "\n",
    "    \n",
    "function force(s::SeriesDiff{T})::Cons{T} where T <: Number\n",
    "    arg = force(s.arg)::Cons{T}\n",
    "    return consmemo(arg.head * T(s.index), SeriesDiff{T}(arg.tail, s.index + 1))\n",
    "end"
   ]
  },
  {
   "cell_type": "code",
   "execution_count": 51,
   "id": "north-captain",
   "metadata": {},
   "outputs": [
    {
     "data": {
      "text/plain": [
       "force (generic function with 13 methods)"
      ]
     },
     "execution_count": 51,
     "metadata": {},
     "output_type": "execute_result"
    }
   ],
   "source": [
    "struct SeriesInt{T <: Number} <: Series{T}\n",
    "    arg::Series{T}\n",
    "    index::Int\n",
    "end\n",
    "\n",
    "\n",
    "\"Интегрирование\"\n",
    "function integrate(s::Series{T}, initial::T=T(0))::Series{T} where T <: Number\n",
    "    return consmemo(initial, SeriesInt{T}(s, T(1)))\n",
    "end\n",
    "\n",
    "\n",
    "function force(s::SeriesInt{T})::Cons{T} where T <: Number\n",
    "    arg = force(s.arg)::Cons{T}\n",
    "    return consmemo(arg.head / T(s.index), SeriesInt{T}(arg.tail, s.index + 1))\n",
    "end"
   ]
  },
  {
   "cell_type": "code",
   "execution_count": 18,
   "id": "driven-parks",
   "metadata": {},
   "outputs": [
    {
     "data": {
      "text/latex": [
       "$0 + 0 \\cdot x -1 \\cdot x^{2} + 0 \\cdot x^{3} + 0 \\cdot x^{4} + 0 \\cdot x^{5} + 0 \\cdot x^{6} + 0 \\cdot x^{7} + 0 \\cdot x^{8} + 0 \\cdot x^{9} + ...$\n"
      ],
      "text/plain": [
       "$0 + 0 \\cdot x -1 \\cdot x^{2} + 0 \\cdot x^{3} + 0 \\cdot x^{4} + 0 \\cdot x^{5} + 0 \\cdot x^{6} + 0 \\cdot x^{7} + 0 \\cdot x^{8} + 0 \\cdot x^{9} + ...$\n"
      ]
     },
     "execution_count": 18,
     "metadata": {},
     "output_type": "execute_result"
    }
   ],
   "source": [
    "ser0 = generate(Rational{Int}, i -> i == 2 ? -1 : 0)"
   ]
  },
  {
   "cell_type": "code",
   "execution_count": 19,
   "id": "renewable-blink",
   "metadata": {},
   "outputs": [
    {
     "data": {
      "text/latex": [
       "$1 + x + x^{2} + x^{3} + x^{4} + x^{5} + x^{6} + x^{7} + x^{8} + x^{9} + ...$\n"
      ],
      "text/plain": [
       "$1 + x + x^{2} + x^{3} + x^{4} + x^{5} + x^{6} + x^{7} + x^{8} + x^{9} + ...$\n"
      ]
     },
     "execution_count": 19,
     "metadata": {},
     "output_type": "execute_result"
    }
   ],
   "source": [
    "ser1 = generate(Rational{Int}, i -> 1//1)"
   ]
  },
  {
   "cell_type": "code",
   "execution_count": 20,
   "id": "impaired-barrier",
   "metadata": {},
   "outputs": [
    {
     "data": {
      "text/latex": [
       "$0 -1 \\cdot x + \\frac{1}{2} \\cdot x^{2} + \\frac{-1}{3} \\cdot x^{3} + \\frac{1}{4} \\cdot x^{4} + \\frac{-1}{5} \\cdot x^{5} + \\frac{1}{6} \\cdot x^{6} + \\frac{-1}{7} \\cdot x^{7} + \\frac{1}{8} \\cdot x^{8} + \\frac{-1}{9} \\cdot x^{9} + ...$\n"
      ],
      "text/plain": [
       "$0 -1 \\cdot x + \\frac{1}{2} \\cdot x^{2} + \\frac{-1}{3} \\cdot x^{3} + \\frac{1}{4} \\cdot x^{4} + \\frac{-1}{5} \\cdot x^{5} + \\frac{1}{6} \\cdot x^{6} + \\frac{-1}{7} \\cdot x^{7} + \\frac{1}{8} \\cdot x^{8} + \\frac{-1}{9} \\cdot x^{9} + ...$\n"
      ]
     },
     "execution_count": 20,
     "metadata": {},
     "output_type": "execute_result"
    }
   ],
   "source": [
    "ser2 = generate(Rational{Int}, i -> (i == 0) ? 0 : (-1)^i // i)"
   ]
  },
  {
   "cell_type": "code",
   "execution_count": 21,
   "id": "other-suffering",
   "metadata": {},
   "outputs": [
    {
     "data": {
      "text/latex": [
       "$1 + 0 \\cdot x + \\frac{3}{2} \\cdot x^{2} + \\frac{2}{3} \\cdot x^{3} + \\frac{5}{4} \\cdot x^{4} + \\frac{4}{5} \\cdot x^{5} + \\frac{7}{6} \\cdot x^{6} + \\frac{6}{7} \\cdot x^{7} + \\frac{9}{8} \\cdot x^{8} + \\frac{8}{9} \\cdot x^{9} + ...$\n"
      ],
      "text/plain": [
       "$1 + 0 \\cdot x + \\frac{3}{2} \\cdot x^{2} + \\frac{2}{3} \\cdot x^{3} + \\frac{5}{4} \\cdot x^{4} + \\frac{4}{5} \\cdot x^{5} + \\frac{7}{6} \\cdot x^{6} + \\frac{6}{7} \\cdot x^{7} + \\frac{9}{8} \\cdot x^{8} + \\frac{8}{9} \\cdot x^{9} + ...$\n"
      ]
     },
     "execution_count": 21,
     "metadata": {},
     "output_type": "execute_result"
    }
   ],
   "source": [
    "ser1 + ser2"
   ]
  },
  {
   "cell_type": "code",
   "execution_count": 22,
   "id": "relative-magazine",
   "metadata": {},
   "outputs": [
    {
     "data": {
      "text/latex": [
       "$\\frac{1}{3} + \\frac{1}{3} \\cdot x + \\frac{1}{3} \\cdot x^{2} + \\frac{1}{3} \\cdot x^{3} + \\frac{1}{3} \\cdot x^{4} + \\frac{1}{3} \\cdot x^{5} + \\frac{1}{3} \\cdot x^{6} + \\frac{1}{3} \\cdot x^{7} + \\frac{1}{3} \\cdot x^{8} + \\frac{1}{3} \\cdot x^{9} + ...$\n"
      ],
      "text/plain": [
       "$\\frac{1}{3} + \\frac{1}{3} \\cdot x + \\frac{1}{3} \\cdot x^{2} + \\frac{1}{3} \\cdot x^{3} + \\frac{1}{3} \\cdot x^{4} + \\frac{1}{3} \\cdot x^{5} + \\frac{1}{3} \\cdot x^{6} + \\frac{1}{3} \\cdot x^{7} + \\frac{1}{3} \\cdot x^{8} + \\frac{1}{3} \\cdot x^{9} + ...$\n"
      ]
     },
     "execution_count": 22,
     "metadata": {},
     "output_type": "execute_result"
    }
   ],
   "source": [
    "1//3 * ser1"
   ]
  },
  {
   "cell_type": "code",
   "execution_count": 23,
   "id": "applied-difference",
   "metadata": {},
   "outputs": [
    {
     "data": {
      "text/latex": [
       "$0 + 0 \\cdot x + x^{2} -1 \\cdot x^{3} + \\frac{11}{12} \\cdot x^{4} + \\frac{-5}{6} \\cdot x^{5} + \\frac{137}{180} \\cdot x^{6} + \\frac{-7}{10} \\cdot x^{7} + \\frac{363}{560} \\cdot x^{8} + \\frac{-761}{1260} \\cdot x^{9} + ...$\n"
      ],
      "text/plain": [
       "$0 + 0 \\cdot x + x^{2} -1 \\cdot x^{3} + \\frac{11}{12} \\cdot x^{4} + \\frac{-5}{6} \\cdot x^{5} + \\frac{137}{180} \\cdot x^{6} + \\frac{-7}{10} \\cdot x^{7} + \\frac{363}{560} \\cdot x^{8} + \\frac{-761}{1260} \\cdot x^{9} + ...$\n"
      ]
     },
     "execution_count": 23,
     "metadata": {},
     "output_type": "execute_result"
    }
   ],
   "source": [
    "ser2 * ser2"
   ]
  },
  {
   "cell_type": "code",
   "execution_count": 24,
   "id": "improving-message",
   "metadata": {},
   "outputs": [
    {
     "data": {
      "text/latex": [
       "$0 + 0 \\cdot x -1 \\cdot x^{2} + x^{3} + \\frac{-11}{12} \\cdot x^{4} + \\frac{5}{6} \\cdot x^{5} + \\frac{-137}{180} \\cdot x^{6} + \\frac{7}{10} \\cdot x^{7} + \\frac{-363}{560} \\cdot x^{8} + \\frac{761}{1260} \\cdot x^{9} + ...$\n"
      ],
      "text/plain": [
       "$0 + 0 \\cdot x -1 \\cdot x^{2} + x^{3} + \\frac{-11}{12} \\cdot x^{4} + \\frac{5}{6} \\cdot x^{5} + \\frac{-137}{180} \\cdot x^{6} + \\frac{7}{10} \\cdot x^{7} + \\frac{-363}{560} \\cdot x^{8} + \\frac{761}{1260} \\cdot x^{9} + ...$\n"
      ]
     },
     "execution_count": 24,
     "metadata": {},
     "output_type": "execute_result"
    }
   ],
   "source": [
    "ser0(ser2)"
   ]
  },
  {
   "cell_type": "code",
   "execution_count": 25,
   "id": "continued-violence",
   "metadata": {},
   "outputs": [
    {
     "data": {
      "text/latex": [
       "$1 + 0 \\cdot x + 0 \\cdot x^{2} + 0 \\cdot x^{3} + 0 \\cdot x^{4} + 0 \\cdot x^{5} + 0 \\cdot x^{6} + 0 \\cdot x^{7} + 0 \\cdot x^{8} + 0 \\cdot x^{9} + ...$\n"
      ],
      "text/plain": [
       "$1 + 0 \\cdot x + 0 \\cdot x^{2} + 0 \\cdot x^{3} + 0 \\cdot x^{4} + 0 \\cdot x^{5} + 0 \\cdot x^{6} + 0 \\cdot x^{7} + 0 \\cdot x^{8} + 0 \\cdot x^{9} + ...$\n"
      ]
     },
     "execution_count": 25,
     "metadata": {},
     "output_type": "execute_result"
    }
   ],
   "source": [
    "recip(ser1)"
   ]
  },
  {
   "cell_type": "code",
   "execution_count": 26,
   "id": "imported-voice",
   "metadata": {},
   "outputs": [
    {
     "data": {
      "text/latex": [
       "$1 + x + x^{2} + x^{3} + x^{4} + x^{5} + x^{6} + x^{7} + x^{8} + x^{9} + ...$\n"
      ],
      "text/plain": [
       "$1 + x + x^{2} + x^{3} + x^{4} + x^{5} + x^{6} + x^{7} + x^{8} + x^{9} + ...$\n"
      ]
     },
     "execution_count": 26,
     "metadata": {},
     "output_type": "execute_result"
    }
   ],
   "source": [
    "ser1 / ser1"
   ]
  },
  {
   "cell_type": "code",
   "execution_count": 27,
   "id": "understood-church",
   "metadata": {},
   "outputs": [
    {
     "data": {
      "text/latex": [
       "$1 + 0 \\cdot x -1 \\cdot x^{2} + 0 \\cdot x^{3} + x^{4} + 0 \\cdot x^{5} -1 \\cdot x^{6} + 0 \\cdot x^{7} + x^{8} + 0 \\cdot x^{9} + ...$\n"
      ],
      "text/plain": [
       "$1 + 0 \\cdot x -1 \\cdot x^{2} + 0 \\cdot x^{3} + x^{4} + 0 \\cdot x^{5} -1 \\cdot x^{6} + 0 \\cdot x^{7} + x^{8} + 0 \\cdot x^{9} + ...$\n"
      ]
     },
     "execution_count": 27,
     "metadata": {},
     "output_type": "execute_result"
    }
   ],
   "source": [
    "ser1(ser0)"
   ]
  },
  {
   "cell_type": "code",
   "execution_count": 28,
   "id": "educated-intelligence",
   "metadata": {},
   "outputs": [
    {
     "data": {
      "text/latex": [
       "$1 + \\frac{-1}{2} \\cdot x + \\frac{1}{3} \\cdot x^{2} + \\frac{-1}{4} \\cdot x^{3} + \\frac{1}{5} \\cdot x^{4} + \\frac{-1}{6} \\cdot x^{5} + \\frac{1}{7} \\cdot x^{6} + \\frac{-1}{8} \\cdot x^{7} + \\frac{1}{9} \\cdot x^{8} + \\frac{-1}{10} \\cdot x^{9} + ...$\n"
      ],
      "text/plain": [
       "$1 + \\frac{-1}{2} \\cdot x + \\frac{1}{3} \\cdot x^{2} + \\frac{-1}{4} \\cdot x^{3} + \\frac{1}{5} \\cdot x^{4} + \\frac{-1}{6} \\cdot x^{5} + \\frac{1}{7} \\cdot x^{6} + \\frac{-1}{8} \\cdot x^{7} + \\frac{1}{9} \\cdot x^{8} + \\frac{-1}{10} \\cdot x^{9} + ...$\n"
      ]
     },
     "execution_count": 28,
     "metadata": {},
     "output_type": "execute_result"
    }
   ],
   "source": [
    "ser2 / ser2"
   ]
  },
  {
   "cell_type": "code",
   "execution_count": 29,
   "id": "aquatic-illness",
   "metadata": {},
   "outputs": [
    {
     "data": {
      "text/latex": [
       "$3 + 6 \\cdot x + 9 \\cdot x^{2} + 12 \\cdot x^{3} + 15 \\cdot x^{4} + 18 \\cdot x^{5} + 21 \\cdot x^{6} + 24 \\cdot x^{7} + 27 \\cdot x^{8} + 30 \\cdot x^{9} + ...$\n"
      ],
      "text/plain": [
       "$3 + 6 \\cdot x + 9 \\cdot x^{2} + 12 \\cdot x^{3} + 15 \\cdot x^{4} + 18 \\cdot x^{5} + 21 \\cdot x^{6} + 24 \\cdot x^{7} + 27 \\cdot x^{8} + 30 \\cdot x^{9} + ...$\n"
      ]
     },
     "execution_count": 29,
     "metadata": {},
     "output_type": "execute_result"
    }
   ],
   "source": [
    "3//1 * ser1 * ser1"
   ]
  },
  {
   "cell_type": "code",
   "execution_count": 30,
   "id": "clinical-convertible",
   "metadata": {},
   "outputs": [
    {
     "data": {
      "text/latex": [
       "$1 -1 \\cdot x + \\frac{3}{2} \\cdot x^{2} + \\frac{-7}{3} \\cdot x^{3} + \\frac{11}{3} \\cdot x^{4} + \\frac{-347}{60} \\cdot x^{5} + \\frac{3289}{360} \\cdot x^{6} + \\frac{-1011}{70} \\cdot x^{7} + \\frac{38371}{1680} \\cdot x^{8} + \\frac{-136553}{3780} \\cdot x^{9} + ...$\n"
      ],
      "text/plain": [
       "$1 -1 \\cdot x + \\frac{3}{2} \\cdot x^{2} + \\frac{-7}{3} \\cdot x^{3} + \\frac{11}{3} \\cdot x^{4} + \\frac{-347}{60} \\cdot x^{5} + \\frac{3289}{360} \\cdot x^{6} + \\frac{-1011}{70} \\cdot x^{7} + \\frac{38371}{1680} \\cdot x^{8} + \\frac{-136553}{3780} \\cdot x^{9} + ...$\n"
      ]
     },
     "execution_count": 30,
     "metadata": {},
     "output_type": "execute_result"
    }
   ],
   "source": [
    "ser1(ser2)"
   ]
  },
  {
   "cell_type": "code",
   "execution_count": 33,
   "id": "premier-valuable",
   "metadata": {},
   "outputs": [
    {
     "data": {
      "text/latex": [
       "$0 -1 \\cdot x + 0 \\cdot x^{2} + 0 \\cdot x^{3} + 0 \\cdot x^{4} + 0 \\cdot x^{5} + 0 \\cdot x^{6} + 0 \\cdot x^{7} + 0 \\cdot x^{8} + 0 \\cdot x^{9} + ...$\n"
      ],
      "text/plain": [
       "$0 -1 \\cdot x + 0 \\cdot x^{2} + 0 \\cdot x^{3} + 0 \\cdot x^{4} + 0 \\cdot x^{5} + 0 \\cdot x^{6} + 0 \\cdot x^{7} + 0 \\cdot x^{8} + 0 \\cdot x^{9} + ...$\n"
      ]
     },
     "metadata": {},
     "output_type": "display_data"
    },
    {
     "name": "stdout",
     "output_type": "stream",
     "text": [
      "  1.114013 seconds (3.29 M allocations: 151.994 MiB, 4.84% gc time, 88.03% compilation time)\n"
     ]
    }
   ],
   "source": [
    "@time display(inv(inv(inv(inv(inv(inv(ser2)))))))"
   ]
  },
  {
   "cell_type": "code",
   "execution_count": 53,
   "id": "common-jones",
   "metadata": {},
   "outputs": [
    {
     "data": {
      "text/latex": [
       "$1 + x + \\frac{1}{2} \\cdot x^{2} + \\frac{1}{6} \\cdot x^{3} + \\frac{1}{24} \\cdot x^{4} + \\frac{1}{120} \\cdot x^{5} + \\frac{1}{720} \\cdot x^{6} + \\frac{1}{5040} \\cdot x^{7} + \\frac{1}{40320} \\cdot x^{8} + \\frac{1}{362880} \\cdot x^{9} + ...$\n"
      ],
      "text/plain": [
       "$1 + x + \\frac{1}{2} \\cdot x^{2} + \\frac{1}{6} \\cdot x^{3} + \\frac{1}{24} \\cdot x^{4} + \\frac{1}{120} \\cdot x^{5} + \\frac{1}{720} \\cdot x^{6} + \\frac{1}{5040} \\cdot x^{7} + \\frac{1}{40320} \\cdot x^{8} + \\frac{1}{362880} \\cdot x^{9} + ...$\n"
      ]
     },
     "execution_count": 53,
     "metadata": {},
     "output_type": "execute_result"
    }
   ],
   "source": [
    "FixSeries{Rational{Int}}(s -> integrate(s, 1//1))"
   ]
  },
  {
   "cell_type": "code",
   "execution_count": 58,
   "id": "weighted-matthew",
   "metadata": {},
   "outputs": [
    {
     "data": {
      "text/latex": [
       "$1 + 0 \\cdot x + \\frac{-1}{2} \\cdot x^{2} + 0 \\cdot x^{3} + \\frac{1}{24} \\cdot x^{4} + 0 \\cdot x^{5} + \\frac{-1}{720} \\cdot x^{6} + 0 \\cdot x^{7} + \\frac{1}{40320} \\cdot x^{8} + 0 \\cdot x^{9} + ...$\n"
      ],
      "text/plain": [
       "$1 + 0 \\cdot x + \\frac{-1}{2} \\cdot x^{2} + 0 \\cdot x^{3} + \\frac{1}{24} \\cdot x^{4} + 0 \\cdot x^{5} + \\frac{-1}{720} \\cdot x^{6} + 0 \\cdot x^{7} + \\frac{1}{40320} \\cdot x^{8} + 0 \\cdot x^{9} + ...$\n"
      ]
     },
     "execution_count": 58,
     "metadata": {},
     "output_type": "execute_result"
    }
   ],
   "source": [
    "FixSeries{Rational{Int}}(s -> integrate(-integrate(s), 1//1))"
   ]
  },
  {
   "cell_type": "code",
   "execution_count": 59,
   "id": "institutional-commerce",
   "metadata": {},
   "outputs": [
    {
     "data": {
      "text/latex": [
       "$0 + x + 0 \\cdot x^{2} + \\frac{-1}{6} \\cdot x^{3} + 0 \\cdot x^{4} + \\frac{1}{120} \\cdot x^{5} + 0 \\cdot x^{6} + \\frac{-1}{5040} \\cdot x^{7} + 0 \\cdot x^{8} + \\frac{1}{362880} \\cdot x^{9} + ...$\n"
      ],
      "text/plain": [
       "$0 + x + 0 \\cdot x^{2} + \\frac{-1}{6} \\cdot x^{3} + 0 \\cdot x^{4} + \\frac{1}{120} \\cdot x^{5} + 0 \\cdot x^{6} + \\frac{-1}{5040} \\cdot x^{7} + 0 \\cdot x^{8} + \\frac{1}{362880} \\cdot x^{9} + ...$\n"
      ]
     },
     "execution_count": 59,
     "metadata": {},
     "output_type": "execute_result"
    }
   ],
   "source": [
    "FixSeries{Rational{Int}}(s -> integrate(integrate(-s, 1//1)))"
   ]
  }
 ],
 "metadata": {
  "kernelspec": {
   "display_name": "Julia 1.6.1",
   "language": "julia",
   "name": "julia-1.6"
  },
  "language_info": {
   "file_extension": ".jl",
   "mimetype": "application/julia",
   "name": "julia",
   "version": "1.6.1"
  }
 },
 "nbformat": 4,
 "nbformat_minor": 5
}
