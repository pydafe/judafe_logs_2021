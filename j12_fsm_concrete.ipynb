{
 "cells": [
  {
   "cell_type": "markdown",
   "id": "closed-solution",
   "metadata": {},
   "source": [
    "# Конечные автоматы\n",
    "\n",
    "Определение и интуитивные представления см. в [википедии](https://ru.wikipedia.org/wiki/%D0%94%D0%B5%D1%82%D0%B5%D1%80%D0%BC%D0%B8%D0%BD%D0%B8%D1%80%D0%BE%D0%B2%D0%B0%D0%BD%D0%BD%D1%8B%D0%B9_%D0%BA%D0%BE%D0%BD%D0%B5%D1%87%D0%BD%D1%8B%D0%B9_%D0%B0%D0%B2%D1%82%D0%BE%D0%BC%D0%B0%D1%82) и в книге:\n",
    "* Д. Хопкрофт, Р. Мотвани, and Д. Ульман, Введение в теорию автоматов, языков и вычислений.\n",
    "\n",
    "\n",
    "# Задание\n",
    "\n",
    "Разбейтесь группами по три-четыре человека и реализуйте следующие функции:\n",
    "* Преобразование NFA -> EpsilonNFA и функция in(::Any, ::EpsilonNFA)\n",
    "* Преобразование EpsilonNFA -> DFA\n",
    "* Преобразование RE -> EpsilonNFA\n",
    "* Преобразование DFA -> RE (повышенная сложность)\n",
    "\n",
    "\n",
    "# Примеры вопросов на зачёте\n",
    "* Как работает алгоритм преобразования RE -> EpsilonNFA?\n",
    "* Придумайте конечный автомат, допускающий двоичные слова, в которых есть подстрока `11`.\n",
    "* Опишите язык, слова которого допускает регулярное выражение `1(0|1)*`.\n",
    "* Упростите регулярное выражение `(0|1)*(0|1|1)*11`\n",
    "* Пересечение регулярных языков является регулярным языком? Почему?"
   ]
  },
  {
   "cell_type": "code",
   "execution_count": 1,
   "id": "centered-asbestos",
   "metadata": {},
   "outputs": [
    {
     "data": {
      "text/plain": [
       "Base.in"
      ]
     },
     "execution_count": 1,
     "metadata": {},
     "output_type": "execute_result"
    }
   ],
   "source": [
    "\"\"\"\n",
    "Детерминированный конечный автомат\n",
    "Deterministic Finite Automaton\n",
    "\"\"\"\n",
    "struct DFA\n",
    "    \"Функция перехода. Текущему состоянию и текущему входному символу сопоставляется следующее состояние\"\n",
    "    transition::Dict{Int, Dict{Char, Int}}\n",
    "    \"Начальное состояние\"\n",
    "    start::Int\n",
    "    \"Множество допускающих состояний\"\n",
    "    accept::Set{Int}\n",
    "end\n",
    "\n",
    "\n",
    "\"\"\"\n",
    "Содержит ли язык данное слово?\n",
    "\"\"\"\n",
    "function Base.in(word, dfa::DFA)::Bool\n",
    "    state = dfa.start\n",
    "    for letter in word\n",
    "        state = dfa.transition[state][letter]\n",
    "    end\n",
    "    \n",
    "    return state in dfa.accept\n",
    "end"
   ]
  },
  {
   "cell_type": "code",
   "execution_count": 2,
   "id": "ultimate-frost",
   "metadata": {},
   "outputs": [
    {
     "data": {
      "text/plain": [
       "(true, false)"
      ]
     },
     "execution_count": 2,
     "metadata": {},
     "output_type": "execute_result"
    }
   ],
   "source": [
    "# Пример конечного автомата, допускающего все слова, содержащие \"01\"\n",
    "\n",
    "dfa = DFA(Dict(1 => Dict('0' => 2, '1' => 1), 2 => Dict('0' => 2, '1' => 3), 3 => Dict('0' => 3, '1' => 3)), 1, Set([3]))\n",
    "\n",
    "\"0000010\" ∈ dfa, \"10000\" ∈ dfa"
   ]
  },
  {
   "cell_type": "code",
   "execution_count": 3,
   "id": "enclosed-relationship",
   "metadata": {},
   "outputs": [
    {
     "data": {
      "text/plain": [
       "(false, true)"
      ]
     },
     "execution_count": 3,
     "metadata": {},
     "output_type": "execute_result"
    }
   ],
   "source": [
    "# Пример конечного автомата, допускающего все слова с нечётным числом нулей\n",
    "\n",
    "dfa = DFA(Dict(1 => Dict('0' => 2, '1' => 1), 2 => Dict('0' => 1, '1' => 2)), 1, Set([2]))\n",
    "\n",
    "\"111111\" ∈ dfa, \"0101101011001110111\" ∈ dfa"
   ]
  },
  {
   "cell_type": "code",
   "execution_count": 4,
   "id": "subject-price",
   "metadata": {},
   "outputs": [
    {
     "data": {
      "text/plain": [
       "Base.in"
      ]
     },
     "execution_count": 4,
     "metadata": {},
     "output_type": "execute_result"
    }
   ],
   "source": [
    "\"\"\"\n",
    "Недетерминированный конечный автомат. Поля аналогичны DFA, кроме функции перехода.\n",
    "\"\"\"\n",
    "struct NFA\n",
    "    \"Функция перехода. Текущему состоянию и текущему входному символу сопоставляется множество следующих состояний\"\n",
    "    transition::Dict{Int, Dict{Char, Set{Int}}}\n",
    "    \"Начальное состояние\"\n",
    "    start::Int\n",
    "    \"Множество допускающих состояний\"\n",
    "    accept::Set{Int}\n",
    "end\n",
    "\n",
    "\n",
    "\"\"\"\n",
    "Содержит ли язык данное слово?\n",
    "\"\"\"\n",
    "function Base.in(word, nfa::NFA)::Bool\n",
    "    states = Set{Int}()\n",
    "    push!(states, nfa.start)\n",
    "    for symbol in word\n",
    "        states = union([get(nfa.transition[state], symbol, Set{Int}()) for state in states]...)::Set{Int}\n",
    "    end\n",
    "    \n",
    "    return ~isempty(intersect(states, nfa.accept))\n",
    "end"
   ]
  },
  {
   "cell_type": "code",
   "execution_count": 5,
   "id": "naughty-wealth",
   "metadata": {},
   "outputs": [
    {
     "data": {
      "text/plain": [
       "(false, true)"
      ]
     },
     "execution_count": 5,
     "metadata": {},
     "output_type": "execute_result"
    }
   ],
   "source": [
    "# Пример конечного автомата, допускающего все слова, окончавающиеся на 1\n",
    "\n",
    "nfa = NFA(Dict{Int, Dict{Char, Set{Int}}}(1 => Dict('0' => Set(1), '1' => Set([1, 2])), 2 => Dict()), 1, Set([2]))\n",
    "\"000010\" ∈ nfa, \"111001001\" ∈ nfa"
   ]
  },
  {
   "cell_type": "code",
   "execution_count": 6,
   "id": "presidential-carroll",
   "metadata": {},
   "outputs": [
    {
     "data": {
      "text/plain": [
       "NFA"
      ]
     },
     "execution_count": 6,
     "metadata": {},
     "output_type": "execute_result"
    }
   ],
   "source": [
    "\"\"\"\n",
    "Преобразование DFA -> NFA\n",
    "\"\"\"\n",
    "function NFA(dfa::DFA)::NFA\n",
    "    trans = Dict(from => Dict(sym => Set(to) for (sym, to) in pairs(perstate))\n",
    "                 for (from, perstate) in pairs(dfa.transition))\n",
    "\n",
    "    return NFA(trans, dfa.start, dfa.accept)\n",
    "end"
   ]
  },
  {
   "cell_type": "code",
   "execution_count": 7,
   "id": "diverse-silver",
   "metadata": {},
   "outputs": [
    {
     "data": {
      "text/plain": [
       "EpsilonNFA"
      ]
     },
     "execution_count": 7,
     "metadata": {},
     "output_type": "execute_result"
    }
   ],
   "source": [
    "\"\"\"\n",
    "Недетерминированный конечный автомат с эпсилон-переходами.\n",
    "Поля аналогичны NFA, кроме эпсилон-переходов, заданных в поле epsilon.\n",
    "\"\"\"\n",
    "struct EpsilonNFA\n",
    "    \"Функция перехода. Текущему состоянию и текущему входному символу сопоставляется множество следующих состояний\"\n",
    "    transition::Dict{Int, Dict{Char, Set{Int}}}\n",
    "    \"Эпсилон-переходы\"\n",
    "    epsilon::Dict{Int, Set{Int}}\n",
    "    \"Начальное состояние\"\n",
    "    start::Int\n",
    "    \"Множество допускающих состояний\"\n",
    "    accept::Set{Int}\n",
    "end"
   ]
  },
  {
   "cell_type": "code",
   "execution_count": 8,
   "id": "sorted-gauge",
   "metadata": {},
   "outputs": [
    {
     "data": {
      "text/plain": [
       "Base.in"
      ]
     },
     "execution_count": 8,
     "metadata": {},
     "output_type": "execute_result"
    }
   ],
   "source": [
    "\"\"\"\n",
    "Преобразование NFA -> EpsilonNFA\n",
    "\"\"\"\n",
    "function EpsilonNFA(nfa::NFA)::EpsilonNFA\n",
    "    # ЗДЕСЬ КОД\n",
    "end\n",
    "\n",
    "\n",
    "\"\"\"\n",
    "Содержит ли язык данное слово?\n",
    "\"\"\"\n",
    "function Base.in(word, enfa::EpsilonNFA)::Bool\n",
    "    # ЗДЕСЬ КОД\n",
    "end"
   ]
  },
  {
   "cell_type": "code",
   "execution_count": 9,
   "id": "artificial-pioneer",
   "metadata": {},
   "outputs": [
    {
     "data": {
      "text/plain": [
       "DFA"
      ]
     },
     "execution_count": 9,
     "metadata": {},
     "output_type": "execute_result"
    }
   ],
   "source": [
    "\"\"\"\n",
    "Преобразование EpsilonNFA -> DFA\n",
    "\"\"\"\n",
    "function DFA(nfa::EpsilonNFA)::DFA\n",
    "    # ЗДЕСЬ КОД\n",
    "end"
   ]
  },
  {
   "cell_type": "code",
   "execution_count": 10,
   "id": "noticed-worry",
   "metadata": {},
   "outputs": [],
   "source": [
    "\"\"\"\n",
    "Регулярные выражения\n",
    "\"\"\"\n",
    "abstract type RegularExpression end\n",
    "\n",
    "const RE = RegularExpression  # Сокращение\n",
    "\n",
    "\"\"\"\n",
    "Пустое регулярное выражение\n",
    "\"\"\"\n",
    "struct EmptyRE <: RE\n",
    "end\n",
    "\n",
    "\n",
    "\"\"\"\n",
    "Регулярное выражение из одной буквы алфавита\n",
    "\"\"\"\n",
    "struct LetterRE <: RE\n",
    "    value::Char\n",
    "end\n",
    "\n",
    "\n",
    "\"\"\"\n",
    "Регулярное выражение, полученное конкатенацией\n",
    "\"\"\"\n",
    "struct ConcatRE <: RE\n",
    "    values::Vector{RE}\n",
    "end\n",
    "\n",
    "\n",
    "\"\"\"\n",
    "Регулярные выражение, полученное объединением\n",
    "\"\"\"\n",
    "struct UnionRE <: RE\n",
    "    values::Vector{RE}\n",
    "end\n",
    "\n",
    "\n",
    "\"\"\"\n",
    "Регулярное выражение -- звезда Клини\n",
    "\"\"\"\n",
    "struct KleeneRE <: RE\n",
    "    value::RE\n",
    "end\n",
    "\n",
    ";"
   ]
  },
  {
   "cell_type": "code",
   "execution_count": 11,
   "id": "wooden-kelly",
   "metadata": {},
   "outputs": [
    {
     "data": {
      "text/plain": [
       "ConcatRE(RegularExpression[KleeneRE(UnionRE(RegularExpression[LetterRE('0'), LetterRE('1')])), LetterRE('1')])"
      ]
     },
     "execution_count": 11,
     "metadata": {},
     "output_type": "execute_result"
    }
   ],
   "source": [
    "# Пример регулярного выражения, описывающего язык из двоичных слов, оканчивающихся на 1\n",
    "zeroOrOne = UnionRE(RE[LetterRE('0'), LetterRE('1')])\n",
    "re = ConcatRE(RE[KleeneRE(zeroOrOne), LetterRE('1')])\n",
    "\n",
    "# Текстом такое выражение обычно записывается как (0|1)*1"
   ]
  },
  {
   "cell_type": "code",
   "execution_count": 12,
   "id": "opening-extra",
   "metadata": {},
   "outputs": [
    {
     "data": {
      "text/plain": [
       "EpsilonNFA"
      ]
     },
     "execution_count": 12,
     "metadata": {},
     "output_type": "execute_result"
    }
   ],
   "source": [
    "\"\"\"\n",
    "Преобразование RE -> EpsilonNFA\n",
    "\"\"\"\n",
    "function EpsilonNFA(re::RE)::EpsilonNFA\n",
    "    # ЗДЕСЬ КОД\n",
    "end"
   ]
  },
  {
   "cell_type": "code",
   "execution_count": 13,
   "id": "independent-helena",
   "metadata": {},
   "outputs": [
    {
     "data": {
      "text/plain": [
       "RE"
      ]
     },
     "execution_count": 13,
     "metadata": {},
     "output_type": "execute_result"
    }
   ],
   "source": [
    "\"\"\"\n",
    "Преобразование DFA -> RE\n",
    "\"\"\"\n",
    "function RE(dfa::DFA)::RE\n",
    "    # ЗДЕСЬ КОД\n",
    "end"
   ]
  }
 ],
 "metadata": {
  "kernelspec": {
   "display_name": "Julia 1.6.1",
   "language": "julia",
   "name": "julia-1.6"
  },
  "language_info": {
   "file_extension": ".jl",
   "mimetype": "application/julia",
   "name": "julia",
   "version": "1.6.1"
  }
 },
 "nbformat": 4,
 "nbformat_minor": 5
}
