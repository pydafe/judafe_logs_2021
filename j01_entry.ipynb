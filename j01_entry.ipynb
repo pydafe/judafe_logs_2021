{
 "cells": [
  {
   "cell_type": "code",
   "execution_count": 1,
   "id": "boxed-bleeding",
   "metadata": {},
   "outputs": [
    {
     "data": {
      "text/plain": [
       "10"
      ]
     },
     "execution_count": 1,
     "metadata": {},
     "output_type": "execute_result"
    }
   ],
   "source": [
    "x = 10"
   ]
  },
  {
   "cell_type": "code",
   "execution_count": 2,
   "id": "mental-mediterranean",
   "metadata": {},
   "outputs": [
    {
     "data": {
      "text/plain": [
       "Int64"
      ]
     },
     "execution_count": 2,
     "metadata": {},
     "output_type": "execute_result"
    }
   ],
   "source": [
    "typeof(x)"
   ]
  },
  {
   "cell_type": "code",
   "execution_count": 3,
   "id": "mental-longer",
   "metadata": {},
   "outputs": [
    {
     "data": {
      "text/plain": [
       "11"
      ]
     },
     "execution_count": 3,
     "metadata": {},
     "output_type": "execute_result"
    }
   ],
   "source": [
    "x + 1"
   ]
  },
  {
   "cell_type": "code",
   "execution_count": 4,
   "id": "narrow-advance",
   "metadata": {},
   "outputs": [
    {
     "data": {
      "text/plain": [
       "20"
      ]
     },
     "execution_count": 4,
     "metadata": {},
     "output_type": "execute_result"
    }
   ],
   "source": [
    "x * 2"
   ]
  },
  {
   "cell_type": "code",
   "execution_count": 5,
   "id": "thick-barrier",
   "metadata": {},
   "outputs": [
    {
     "data": {
      "text/plain": [
       "10"
      ]
     },
     "execution_count": 5,
     "metadata": {},
     "output_type": "execute_result"
    }
   ],
   "source": [
    "y = x"
   ]
  },
  {
   "cell_type": "code",
   "execution_count": 6,
   "id": "popular-bridal",
   "metadata": {},
   "outputs": [
    {
     "data": {
      "text/plain": [
       "\"Hello world!\""
      ]
     },
     "execution_count": 6,
     "metadata": {},
     "output_type": "execute_result"
    }
   ],
   "source": [
    "x = \"Hello world!\""
   ]
  },
  {
   "cell_type": "code",
   "execution_count": 7,
   "id": "operational-enhancement",
   "metadata": {},
   "outputs": [
    {
     "data": {
      "text/plain": [
       "10"
      ]
     },
     "execution_count": 7,
     "metadata": {},
     "output_type": "execute_result"
    }
   ],
   "source": [
    "y"
   ]
  },
  {
   "cell_type": "code",
   "execution_count": 8,
   "id": "broke-project",
   "metadata": {},
   "outputs": [
    {
     "data": {
      "text/plain": [
       "\"my abc\""
      ]
     },
     "execution_count": 8,
     "metadata": {},
     "output_type": "execute_result"
    }
   ],
   "source": [
    "abc = \"my abc\""
   ]
  },
  {
   "cell_type": "code",
   "execution_count": 9,
   "id": "sonic-straight",
   "metadata": {},
   "outputs": [
    {
     "data": {
      "text/plain": [
       "\"my a_b_c\""
      ]
     },
     "execution_count": 9,
     "metadata": {},
     "output_type": "execute_result"
    }
   ],
   "source": [
    "a_b_c = \"my a_b_c\""
   ]
  },
  {
   "cell_type": "code",
   "execution_count": 10,
   "id": "compatible-tulsa",
   "metadata": {},
   "outputs": [
    {
     "data": {
      "text/plain": [
       "\"my A_bc\""
      ]
     },
     "execution_count": 10,
     "metadata": {},
     "output_type": "execute_result"
    }
   ],
   "source": [
    "A_b_c = \"my A_bc\""
   ]
  },
  {
   "cell_type": "code",
   "execution_count": 11,
   "id": "differential-trading",
   "metadata": {},
   "outputs": [
    {
     "data": {
      "text/plain": [
       "0.23"
      ]
     },
     "execution_count": 11,
     "metadata": {},
     "output_type": "execute_result"
    }
   ],
   "source": [
    "ϵ = 0.23"
   ]
  },
  {
   "cell_type": "code",
   "execution_count": 12,
   "id": "proper-formula",
   "metadata": {},
   "outputs": [
    {
     "data": {
      "text/plain": [
       "\"my delta\""
      ]
     },
     "execution_count": 12,
     "metadata": {},
     "output_type": "execute_result"
    }
   ],
   "source": [
    "δϵλτα = \"my delta\""
   ]
  },
  {
   "cell_type": "code",
   "execution_count": 13,
   "id": "utility-sewing",
   "metadata": {},
   "outputs": [
    {
     "data": {
      "text/plain": [
       "0.5"
      ]
     },
     "execution_count": 13,
     "metadata": {},
     "output_type": "execute_result"
    }
   ],
   "source": [
    "1 / 2"
   ]
  },
  {
   "cell_type": "code",
   "execution_count": 14,
   "id": "sexual-tractor",
   "metadata": {},
   "outputs": [
    {
     "data": {
      "text/plain": [
       "0"
      ]
     },
     "execution_count": 14,
     "metadata": {},
     "output_type": "execute_result"
    }
   ],
   "source": [
    "1 ÷ 2"
   ]
  },
  {
   "cell_type": "code",
   "execution_count": 15,
   "id": "interior-research",
   "metadata": {},
   "outputs": [
    {
     "data": {
      "text/plain": [
       "π = 3.1415926535897..."
      ]
     },
     "execution_count": 15,
     "metadata": {},
     "output_type": "execute_result"
    }
   ],
   "source": [
    "π"
   ]
  },
  {
   "cell_type": "code",
   "execution_count": 16,
   "id": "systematic-response",
   "metadata": {},
   "outputs": [
    {
     "ename": "LoadError",
     "evalue": "\u001b[91msyntax: unexpected \"=\"\u001b[39m",
     "output_type": "error",
     "traceback": [
      "\u001b[91msyntax: unexpected \"=\"\u001b[39m",
      ""
     ]
    }
   ],
   "source": [
    "if = 3"
   ]
  },
  {
   "cell_type": "code",
   "execution_count": 17,
   "id": "focal-upper",
   "metadata": {},
   "outputs": [
    {
     "data": {
      "text/plain": [
       "Int8"
      ]
     },
     "execution_count": 17,
     "metadata": {},
     "output_type": "execute_result"
    }
   ],
   "source": [
    "Int8"
   ]
  },
  {
   "cell_type": "code",
   "execution_count": 18,
   "id": "practical-alcohol",
   "metadata": {},
   "outputs": [
    {
     "data": {
      "text/plain": [
       "UInt16"
      ]
     },
     "execution_count": 18,
     "metadata": {},
     "output_type": "execute_result"
    }
   ],
   "source": [
    "UInt16"
   ]
  },
  {
   "cell_type": "code",
   "execution_count": 19,
   "id": "likely-yemen",
   "metadata": {},
   "outputs": [
    {
     "data": {
      "text/plain": [
       "Int64"
      ]
     },
     "execution_count": 19,
     "metadata": {},
     "output_type": "execute_result"
    }
   ],
   "source": [
    "typeof(123)"
   ]
  },
  {
   "cell_type": "code",
   "execution_count": 20,
   "id": "transparent-correspondence",
   "metadata": {},
   "outputs": [
    {
     "data": {
      "text/plain": [
       "UInt8"
      ]
     },
     "execution_count": 20,
     "metadata": {},
     "output_type": "execute_result"
    }
   ],
   "source": [
    "typeof(0x1)"
   ]
  },
  {
   "cell_type": "code",
   "execution_count": 21,
   "id": "whole-hydrogen",
   "metadata": {},
   "outputs": [
    {
     "data": {
      "text/plain": [
       "0xff"
      ]
     },
     "execution_count": 21,
     "metadata": {},
     "output_type": "execute_result"
    }
   ],
   "source": [
    "-0x1"
   ]
  },
  {
   "cell_type": "code",
   "execution_count": 22,
   "id": "exposed-lebanon",
   "metadata": {},
   "outputs": [
    {
     "data": {
      "text/plain": [
       "UInt16"
      ]
     },
     "execution_count": 22,
     "metadata": {},
     "output_type": "execute_result"
    }
   ],
   "source": [
    "typeof(0x123)"
   ]
  },
  {
   "cell_type": "code",
   "execution_count": 24,
   "id": "amended-controversy",
   "metadata": {},
   "outputs": [
    {
     "data": {
      "text/plain": [
       "UInt64"
      ]
     },
     "execution_count": 24,
     "metadata": {},
     "output_type": "execute_result"
    }
   ],
   "source": [
    "typeof(0x01234eff1)"
   ]
  },
  {
   "cell_type": "code",
   "execution_count": 25,
   "id": "collaborative-jurisdiction",
   "metadata": {},
   "outputs": [
    {
     "ename": "LoadError",
     "evalue": "\u001b[91msyntax: Hex or binary literal too large for UInt128\u001b[39m",
     "output_type": "error",
     "traceback": [
      "\u001b[91msyntax: Hex or binary literal too large for UInt128\u001b[39m",
      ""
     ]
    }
   ],
   "source": [
    "typeof(0x01234eff101234eff101234eff101234eff1)"
   ]
  },
  {
   "cell_type": "code",
   "execution_count": 27,
   "id": "polish-factory",
   "metadata": {},
   "outputs": [
    {
     "data": {
      "text/plain": [
       "0x22"
      ]
     },
     "execution_count": 27,
     "metadata": {},
     "output_type": "execute_result"
    }
   ],
   "source": [
    "UInt8(34)"
   ]
  },
  {
   "cell_type": "code",
   "execution_count": 26,
   "id": "introductory-spectacular",
   "metadata": {},
   "outputs": [
    {
     "data": {
      "text/plain": [
       "0x03"
      ]
     },
     "execution_count": 26,
     "metadata": {},
     "output_type": "execute_result"
    }
   ],
   "source": [
    "0b0011"
   ]
  },
  {
   "cell_type": "code",
   "execution_count": 28,
   "id": "intensive-saying",
   "metadata": {},
   "outputs": [
    {
     "data": {
      "text/plain": [
       "0x029c"
      ]
     },
     "execution_count": 28,
     "metadata": {},
     "output_type": "execute_result"
    }
   ],
   "source": [
    "0o1234"
   ]
  },
  {
   "cell_type": "code",
   "execution_count": 29,
   "id": "passing-parliament",
   "metadata": {},
   "outputs": [
    {
     "data": {
      "text/plain": [
       "74735"
      ]
     },
     "execution_count": 29,
     "metadata": {},
     "output_type": "execute_result"
    }
   ],
   "source": [
    "Int64(0x123ef)"
   ]
  },
  {
   "cell_type": "code",
   "execution_count": 30,
   "id": "legitimate-afghanistan",
   "metadata": {},
   "outputs": [
    {
     "data": {
      "text/plain": [
       "Int64"
      ]
     },
     "execution_count": 30,
     "metadata": {},
     "output_type": "execute_result"
    }
   ],
   "source": [
    "typeof(10)"
   ]
  },
  {
   "cell_type": "code",
   "execution_count": 34,
   "id": "prime-turkish",
   "metadata": {},
   "outputs": [
    {
     "data": {
      "text/plain": [
       "-8446744073709551616"
      ]
     },
     "execution_count": 34,
     "metadata": {},
     "output_type": "execute_result"
    }
   ],
   "source": [
    "10 ^ 19"
   ]
  },
  {
   "cell_type": "code",
   "execution_count": 35,
   "id": "broad-porter",
   "metadata": {},
   "outputs": [
    {
     "data": {
      "text/plain": [
       "10000000000000000000"
      ]
     },
     "execution_count": 35,
     "metadata": {},
     "output_type": "execute_result"
    }
   ],
   "source": [
    "BigInt(10) ^ 19"
   ]
  },
  {
   "cell_type": "code",
   "execution_count": 36,
   "id": "prescription-trouble",
   "metadata": {},
   "outputs": [
    {
     "data": {
      "text/plain": [
       "10000000000000000000"
      ]
     },
     "execution_count": 36,
     "metadata": {},
     "output_type": "execute_result"
    }
   ],
   "source": [
    "big\"10\" ^ 19"
   ]
  },
  {
   "cell_type": "code",
   "execution_count": 37,
   "id": "welsh-college",
   "metadata": {},
   "outputs": [
    {
     "data": {
      "text/plain": [
       "true"
      ]
     },
     "execution_count": 37,
     "metadata": {},
     "output_type": "execute_result"
    }
   ],
   "source": [
    "true"
   ]
  },
  {
   "cell_type": "code",
   "execution_count": 38,
   "id": "painted-flash",
   "metadata": {},
   "outputs": [
    {
     "data": {
      "text/plain": [
       "false"
      ]
     },
     "execution_count": 38,
     "metadata": {},
     "output_type": "execute_result"
    }
   ],
   "source": [
    "false"
   ]
  },
  {
   "cell_type": "code",
   "execution_count": 39,
   "id": "funded-frost",
   "metadata": {},
   "outputs": [
    {
     "data": {
      "text/plain": [
       "1.0e8"
      ]
     },
     "execution_count": 39,
     "metadata": {},
     "output_type": "execute_result"
    }
   ],
   "source": [
    "1e8"
   ]
  },
  {
   "cell_type": "code",
   "execution_count": 40,
   "id": "desperate-reflection",
   "metadata": {},
   "outputs": [
    {
     "data": {
      "text/plain": [
       "Float64"
      ]
     },
     "execution_count": 40,
     "metadata": {},
     "output_type": "execute_result"
    }
   ],
   "source": [
    "typeof(1e8)"
   ]
  },
  {
   "cell_type": "code",
   "execution_count": 41,
   "id": "dying-watershed",
   "metadata": {},
   "outputs": [
    {
     "data": {
      "text/plain": [
       "1.0f8"
      ]
     },
     "execution_count": 41,
     "metadata": {},
     "output_type": "execute_result"
    }
   ],
   "source": [
    "Float32(1e8)"
   ]
  },
  {
   "cell_type": "code",
   "execution_count": 43,
   "id": "written-turning",
   "metadata": {},
   "outputs": [
    {
     "data": {
      "text/plain": [
       "Float32"
      ]
     },
     "execution_count": 43,
     "metadata": {},
     "output_type": "execute_result"
    }
   ],
   "source": [
    "typeof(1.23f4)"
   ]
  },
  {
   "cell_type": "code",
   "execution_count": 49,
   "id": "variable-software",
   "metadata": {},
   "outputs": [
    {
     "data": {
      "text/plain": [
       "9.0"
      ]
     },
     "execution_count": 49,
     "metadata": {},
     "output_type": "execute_result"
    }
   ],
   "source": [
    "0x1.2p3"
   ]
  },
  {
   "cell_type": "code",
   "execution_count": 50,
   "id": "vocal-northern",
   "metadata": {},
   "outputs": [
    {
     "data": {
      "text/plain": [
       "1.0e6"
      ]
     },
     "execution_count": 50,
     "metadata": {},
     "output_type": "execute_result"
    }
   ],
   "source": [
    "1e6"
   ]
  },
  {
   "cell_type": "code",
   "execution_count": 51,
   "id": "expanded-spectacular",
   "metadata": {},
   "outputs": [
    {
     "data": {
      "text/plain": [
       "100000000"
      ]
     },
     "execution_count": 51,
     "metadata": {},
     "output_type": "execute_result"
    }
   ],
   "source": [
    "100_000_000"
   ]
  },
  {
   "cell_type": "code",
   "execution_count": 56,
   "id": "dangerous-calculator",
   "metadata": {},
   "outputs": [
    {
     "data": {
      "text/plain": [
       "NaN"
      ]
     },
     "execution_count": 56,
     "metadata": {},
     "output_type": "execute_result"
    }
   ],
   "source": [
    "x = NaN"
   ]
  },
  {
   "cell_type": "code",
   "execution_count": 57,
   "id": "automatic-characterization",
   "metadata": {},
   "outputs": [
    {
     "data": {
      "text/plain": [
       "false"
      ]
     },
     "execution_count": 57,
     "metadata": {},
     "output_type": "execute_result"
    }
   ],
   "source": [
    "x == x"
   ]
  },
  {
   "cell_type": "code",
   "execution_count": 58,
   "id": "colored-yahoo",
   "metadata": {},
   "outputs": [
    {
     "data": {
      "text/plain": [
       "true"
      ]
     },
     "execution_count": 58,
     "metadata": {},
     "output_type": "execute_result"
    }
   ],
   "source": [
    "x != x"
   ]
  },
  {
   "cell_type": "code",
   "execution_count": 59,
   "id": "ambient-toolbox",
   "metadata": {},
   "outputs": [
    {
     "data": {
      "text/plain": [
       "0.0"
      ]
     },
     "execution_count": 59,
     "metadata": {},
     "output_type": "execute_result"
    }
   ],
   "source": [
    "x = 0.0"
   ]
  },
  {
   "cell_type": "code",
   "execution_count": 60,
   "id": "julian-connection",
   "metadata": {},
   "outputs": [
    {
     "data": {
      "text/plain": [
       "-0.0"
      ]
     },
     "execution_count": 60,
     "metadata": {},
     "output_type": "execute_result"
    }
   ],
   "source": [
    "y = -0.0"
   ]
  },
  {
   "cell_type": "code",
   "execution_count": 61,
   "id": "constant-harbor",
   "metadata": {},
   "outputs": [
    {
     "data": {
      "text/plain": [
       "true"
      ]
     },
     "execution_count": 61,
     "metadata": {},
     "output_type": "execute_result"
    }
   ],
   "source": [
    "x == y"
   ]
  },
  {
   "cell_type": "code",
   "execution_count": 62,
   "id": "other-compiler",
   "metadata": {},
   "outputs": [
    {
     "data": {
      "text/plain": [
       "false"
      ]
     },
     "execution_count": 62,
     "metadata": {},
     "output_type": "execute_result"
    }
   ],
   "source": [
    "isequal(x, y)"
   ]
  },
  {
   "cell_type": "code",
   "execution_count": 63,
   "id": "european-mouth",
   "metadata": {},
   "outputs": [
    {
     "data": {
      "text/plain": [
       "true"
      ]
     },
     "execution_count": 63,
     "metadata": {},
     "output_type": "execute_result"
    }
   ],
   "source": [
    "isequal(NaN, NaN)"
   ]
  },
  {
   "cell_type": "code",
   "execution_count": 64,
   "id": "addressed-phone",
   "metadata": {},
   "outputs": [
    {
     "data": {
      "text/plain": [
       "-9223372036854775808"
      ]
     },
     "execution_count": 64,
     "metadata": {},
     "output_type": "execute_result"
    }
   ],
   "source": [
    "typemin(Int64)"
   ]
  },
  {
   "cell_type": "code",
   "execution_count": 66,
   "id": "manufactured-consumer",
   "metadata": {},
   "outputs": [
    {
     "data": {
      "text/plain": [
       "Inf32"
      ]
     },
     "execution_count": 66,
     "metadata": {},
     "output_type": "execute_result"
    }
   ],
   "source": [
    "typemax(Float32)"
   ]
  },
  {
   "cell_type": "code",
   "execution_count": 68,
   "id": "immediate-luxembourg",
   "metadata": {},
   "outputs": [
    {
     "ename": "DivideError",
     "evalue": "\u001b[91mDivideError: integer division error\u001b[39m",
     "output_type": "error",
     "traceback": [
      "\u001b[91mDivideError: integer division error\u001b[39m",
      "",
      "Stacktrace:",
      " [1] div(::Int64, ::Int64) at /nix/store/npsd3l6pr0ahc4y46hy2nwh9a39r5j2b-julia-1.0.4/lib/julia/sys.so:?",
      " [2] top-level scope at In[68]:1"
     ]
    }
   ],
   "source": [
    "32 ÷ 0"
   ]
  },
  {
   "cell_type": "code",
   "execution_count": 70,
   "id": "sitting-potato",
   "metadata": {},
   "outputs": [
    {
     "ename": "DivideError",
     "evalue": "\u001b[91mDivideError: integer division error\u001b[39m",
     "output_type": "error",
     "traceback": [
      "\u001b[91mDivideError: integer division error\u001b[39m",
      "",
      "Stacktrace:",
      " [1] div(::Int64, ::Int64) at /nix/store/npsd3l6pr0ahc4y46hy2nwh9a39r5j2b-julia-1.0.4/lib/julia/sys.so:?",
      " [2] top-level scope at In[70]:1"
     ]
    }
   ],
   "source": [
    "typemin(Int64) ÷ -1"
   ]
  },
  {
   "cell_type": "code",
   "execution_count": 71,
   "id": "public-perspective",
   "metadata": {},
   "outputs": [
    {
     "data": {
      "text/plain": [
       "(-9223372036854775808, 9223372036854775807)"
      ]
     },
     "execution_count": 71,
     "metadata": {},
     "output_type": "execute_result"
    }
   ],
   "source": [
    "typemin(Int64), typemax(Int64)"
   ]
  },
  {
   "cell_type": "code",
   "execution_count": 72,
   "id": "fitted-family",
   "metadata": {},
   "outputs": [
    {
     "data": {
      "text/plain": [
       "39"
      ]
     },
     "execution_count": 72,
     "metadata": {},
     "output_type": "execute_result"
    }
   ],
   "source": [
    "3(10 + 3)"
   ]
  },
  {
   "cell_type": "code",
   "execution_count": 73,
   "id": "special-warning",
   "metadata": {},
   "outputs": [
    {
     "data": {
      "text/plain": [
       "39"
      ]
     },
     "execution_count": 73,
     "metadata": {},
     "output_type": "execute_result"
    }
   ],
   "source": [
    "3 * (10 + 3)"
   ]
  },
  {
   "cell_type": "code",
   "execution_count": 74,
   "id": "naval-relevance",
   "metadata": {},
   "outputs": [
    {
     "data": {
      "text/plain": [
       "0.0"
      ]
     },
     "execution_count": 74,
     "metadata": {},
     "output_type": "execute_result"
    }
   ],
   "source": [
    "3x"
   ]
  },
  {
   "cell_type": "code",
   "execution_count": 76,
   "id": "reflected-expression",
   "metadata": {},
   "outputs": [
    {
     "data": {
      "text/plain": [
       "Tuple{}"
      ]
     },
     "execution_count": 76,
     "metadata": {},
     "output_type": "execute_result"
    }
   ],
   "source": [
    "typeof(())"
   ]
  },
  {
   "cell_type": "code",
   "execution_count": 77,
   "id": "unexpected-reason",
   "metadata": {},
   "outputs": [
    {
     "ename": "MethodError",
     "evalue": "\u001b[91mMethodError: no method matching *(::Int64, ::Tuple{})\u001b[39m\n\u001b[91m\u001b[0mClosest candidates are:\u001b[39m\n\u001b[91m\u001b[0m  *(::Any, ::Any, \u001b[91m::Any\u001b[39m, \u001b[91m::Any...\u001b[39m) at operators.jl:502\u001b[39m\n\u001b[91m\u001b[0m  *(::T<:Union{Int128, Int16, Int32, Int64, Int8, UInt128, UInt16, UInt32, UInt64, UInt8}, \u001b[91m::T<:Union{Int128, Int16, Int32, Int64, Int8, UInt128, UInt16, UInt32, UInt64, UInt8}\u001b[39m) where T<:Union{Int128, Int16, Int32, Int64, Int8, UInt128, UInt16, UInt32, UInt64, UInt8} at int.jl:54\u001b[39m\n\u001b[91m\u001b[0m  *(::Union{Int16, Int32, Int64, Int8}, \u001b[91m::BigInt\u001b[39m) at gmp.jl:463\u001b[39m\n\u001b[91m\u001b[0m  ...\u001b[39m",
     "output_type": "error",
     "traceback": [
      "\u001b[91mMethodError: no method matching *(::Int64, ::Tuple{})\u001b[39m\n\u001b[91m\u001b[0mClosest candidates are:\u001b[39m\n\u001b[91m\u001b[0m  *(::Any, ::Any, \u001b[91m::Any\u001b[39m, \u001b[91m::Any...\u001b[39m) at operators.jl:502\u001b[39m\n\u001b[91m\u001b[0m  *(::T<:Union{Int128, Int16, Int32, Int64, Int8, UInt128, UInt16, UInt32, UInt64, UInt8}, \u001b[91m::T<:Union{Int128, Int16, Int32, Int64, Int8, UInt128, UInt16, UInt32, UInt64, UInt8}\u001b[39m) where T<:Union{Int128, Int16, Int32, Int64, Int8, UInt128, UInt16, UInt32, UInt64, UInt8} at int.jl:54\u001b[39m\n\u001b[91m\u001b[0m  *(::Union{Int16, Int32, Int64, Int8}, \u001b[91m::BigInt\u001b[39m) at gmp.jl:463\u001b[39m\n\u001b[91m\u001b[0m  ...\u001b[39m",
      "",
      "Stacktrace:",
      " [1] top-level scope at In[77]:1"
     ]
    }
   ],
   "source": [
    "3()"
   ]
  },
  {
   "cell_type": "code",
   "execution_count": 78,
   "id": "minus-hobby",
   "metadata": {},
   "outputs": [
    {
     "data": {
      "text/plain": [
       "0.5"
      ]
     },
     "execution_count": 78,
     "metadata": {},
     "output_type": "execute_result"
    }
   ],
   "source": [
    "1 / 2"
   ]
  },
  {
   "cell_type": "code",
   "execution_count": 79,
   "id": "consolidated-estate",
   "metadata": {},
   "outputs": [
    {
     "data": {
      "text/plain": [
       "0.5"
      ]
     },
     "execution_count": 79,
     "metadata": {},
     "output_type": "execute_result"
    }
   ],
   "source": [
    "2 \\ 1"
   ]
  },
  {
   "cell_type": "code",
   "execution_count": 81,
   "id": "spread-bruce",
   "metadata": {},
   "outputs": [
    {
     "data": {
      "text/plain": [
       "true"
      ]
     },
     "execution_count": 81,
     "metadata": {},
     "output_type": "execute_result"
    }
   ],
   "source": [
    "!false"
   ]
  },
  {
   "cell_type": "code",
   "execution_count": 82,
   "id": "english-maintenance",
   "metadata": {},
   "outputs": [
    {
     "data": {
      "text/plain": [
       "false"
      ]
     },
     "execution_count": 82,
     "metadata": {},
     "output_type": "execute_result"
    }
   ],
   "source": [
    "false && true"
   ]
  },
  {
   "cell_type": "code",
   "execution_count": 83,
   "id": "fallen-signature",
   "metadata": {},
   "outputs": [
    {
     "data": {
      "text/plain": [
       "true"
      ]
     },
     "execution_count": 83,
     "metadata": {},
     "output_type": "execute_result"
    }
   ],
   "source": [
    "true || false"
   ]
  },
  {
   "cell_type": "code",
   "execution_count": 84,
   "id": "confused-action",
   "metadata": {},
   "outputs": [
    {
     "data": {
      "text/plain": [
       "0xfc"
      ]
     },
     "execution_count": 84,
     "metadata": {},
     "output_type": "execute_result"
    }
   ],
   "source": [
    "~0x3"
   ]
  },
  {
   "cell_type": "code",
   "execution_count": 85,
   "id": "pediatric-trash",
   "metadata": {},
   "outputs": [
    {
     "data": {
      "text/plain": [
       "0x03"
      ]
     },
     "execution_count": 85,
     "metadata": {},
     "output_type": "execute_result"
    }
   ],
   "source": [
    "0x33 & 0x7"
   ]
  },
  {
   "cell_type": "code",
   "execution_count": 86,
   "id": "billion-twelve",
   "metadata": {},
   "outputs": [
    {
     "data": {
      "text/plain": [
       "0x37"
      ]
     },
     "execution_count": 86,
     "metadata": {},
     "output_type": "execute_result"
    }
   ],
   "source": [
    "0x33 | 0x7"
   ]
  },
  {
   "cell_type": "code",
   "execution_count": 87,
   "id": "right-boost",
   "metadata": {},
   "outputs": [
    {
     "data": {
      "text/plain": [
       "0x34"
      ]
     },
     "execution_count": 87,
     "metadata": {},
     "output_type": "execute_result"
    }
   ],
   "source": [
    "0x33 ⊻ 0x7  # \\xor"
   ]
  },
  {
   "cell_type": "code",
   "execution_count": 88,
   "id": "manufactured-affiliation",
   "metadata": {},
   "outputs": [
    {
     "data": {
      "text/plain": [
       "true"
      ]
     },
     "execution_count": 88,
     "metadata": {},
     "output_type": "execute_result"
    }
   ],
   "source": [
    "2 <= 4"
   ]
  },
  {
   "cell_type": "code",
   "execution_count": 89,
   "id": "encouraging-characteristic",
   "metadata": {},
   "outputs": [
    {
     "data": {
      "text/plain": [
       "true"
      ]
     },
     "execution_count": 89,
     "metadata": {},
     "output_type": "execute_result"
    }
   ],
   "source": [
    "2 ≤ 3  # \\le"
   ]
  },
  {
   "cell_type": "code",
   "execution_count": 90,
   "id": "closed-eight",
   "metadata": {},
   "outputs": [
    {
     "data": {
      "text/plain": [
       "true"
      ]
     },
     "execution_count": 90,
     "metadata": {},
     "output_type": "execute_result"
    }
   ],
   "source": [
    "2 ≠ 4  # \\ne"
   ]
  },
  {
   "cell_type": "code",
   "execution_count": 91,
   "id": "possible-rings",
   "metadata": {},
   "outputs": [
    {
     "data": {
      "text/plain": [
       "1 + 3im"
      ]
     },
     "execution_count": 91,
     "metadata": {},
     "output_type": "execute_result"
    }
   ],
   "source": [
    "1 + 3im"
   ]
  },
  {
   "cell_type": "code",
   "execution_count": 94,
   "id": "warming-section",
   "metadata": {},
   "outputs": [
    {
     "data": {
      "text/plain": [
       "3.7621956910836314 - 0.0im"
      ]
     },
     "execution_count": 94,
     "metadata": {},
     "output_type": "execute_result"
    }
   ],
   "source": [
    "cos(2im)"
   ]
  },
  {
   "cell_type": "code",
   "execution_count": 95,
   "id": "temporal-profit",
   "metadata": {},
   "outputs": [
    {
     "data": {
      "text/plain": [
       "1.4142135623730951"
      ]
     },
     "execution_count": 95,
     "metadata": {},
     "output_type": "execute_result"
    }
   ],
   "source": [
    "√2"
   ]
  },
  {
   "cell_type": "code",
   "execution_count": 97,
   "id": "second-harvey",
   "metadata": {},
   "outputs": [
    {
     "ename": "DomainError",
     "evalue": "DomainError with -2.0:\nsqrt will only return a complex result if called with a complex argument. Try sqrt(Complex(x)).",
     "output_type": "error",
     "traceback": [
      "DomainError with -2.0:\nsqrt will only return a complex result if called with a complex argument. Try sqrt(Complex(x)).",
      "",
      "Stacktrace:",
      " [1] throw_complex_domainerror(::Symbol, ::Float64) at /nix/store/npsd3l6pr0ahc4y46hy2nwh9a39r5j2b-julia-1.0.4/lib/julia/sys.so:?",
      " [2] sqrt at ./math.jl:492 [inlined]",
      " [3] sqrt(::Int64) at ./math.jl:518",
      " [4] top-level scope at In[97]:1"
     ]
    }
   ],
   "source": [
    "√-2"
   ]
  },
  {
   "cell_type": "code",
   "execution_count": 98,
   "id": "recovered-ranch",
   "metadata": {},
   "outputs": [
    {
     "data": {
      "text/plain": [
       "0.0 + 1.4142135623730951im"
      ]
     },
     "execution_count": 98,
     "metadata": {},
     "output_type": "execute_result"
    }
   ],
   "source": [
    "√(-2 + 0im)"
   ]
  },
  {
   "cell_type": "code",
   "execution_count": 99,
   "id": "empty-morrison",
   "metadata": {},
   "outputs": [
    {
     "data": {
      "text/plain": [
       "1//2"
      ]
     },
     "execution_count": 99,
     "metadata": {},
     "output_type": "execute_result"
    }
   ],
   "source": [
    "1 // 2"
   ]
  },
  {
   "cell_type": "code",
   "execution_count": 100,
   "id": "instructional-blood",
   "metadata": {},
   "outputs": [
    {
     "data": {
      "text/plain": [
       "6//13"
      ]
     },
     "execution_count": 100,
     "metadata": {},
     "output_type": "execute_result"
    }
   ],
   "source": [
    "12 // 26"
   ]
  },
  {
   "cell_type": "code",
   "execution_count": 103,
   "id": "stunning-installation",
   "metadata": {},
   "outputs": [
    {
     "data": {
      "text/plain": [
       "-1//26"
      ]
     },
     "execution_count": 103,
     "metadata": {},
     "output_type": "execute_result"
    }
   ],
   "source": [
    "z = 6 // 13 - 1 // 2"
   ]
  },
  {
   "cell_type": "code",
   "execution_count": 104,
   "id": "saving-negotiation",
   "metadata": {},
   "outputs": [
    {
     "data": {
      "text/plain": [
       "-1"
      ]
     },
     "execution_count": 104,
     "metadata": {},
     "output_type": "execute_result"
    }
   ],
   "source": [
    "numerator(z)"
   ]
  },
  {
   "cell_type": "code",
   "execution_count": 105,
   "id": "sophisticated-amateur",
   "metadata": {},
   "outputs": [
    {
     "data": {
      "text/plain": [
       "26"
      ]
     },
     "execution_count": 105,
     "metadata": {},
     "output_type": "execute_result"
    }
   ],
   "source": [
    "denominator(z)"
   ]
  },
  {
   "cell_type": "code",
   "execution_count": 109,
   "id": "eligible-qatar",
   "metadata": {},
   "outputs": [
    {
     "data": {
      "text/plain": [
       "\"Hello world!\""
      ]
     },
     "execution_count": 109,
     "metadata": {},
     "output_type": "execute_result"
    }
   ],
   "source": [
    "s = \"Hello world!\""
   ]
  },
  {
   "cell_type": "code",
   "execution_count": 107,
   "id": "opened-outdoors",
   "metadata": {},
   "outputs": [
    {
     "data": {
      "text/plain": [
       "'a': ASCII/Unicode U+0061 (category Ll: Letter, lowercase)"
      ]
     },
     "execution_count": 107,
     "metadata": {},
     "output_type": "execute_result"
    }
   ],
   "source": [
    "'a'"
   ]
  },
  {
   "cell_type": "code",
   "execution_count": 108,
   "id": "ethical-ethics",
   "metadata": {},
   "outputs": [
    {
     "data": {
      "text/plain": [
       "\"Hello world!\""
      ]
     },
     "execution_count": 108,
     "metadata": {},
     "output_type": "execute_result"
    }
   ],
   "source": [
    "\"\"\"Hello world!\"\"\""
   ]
  },
  {
   "cell_type": "code",
   "execution_count": 110,
   "id": "tender-sympathy",
   "metadata": {},
   "outputs": [
    {
     "data": {
      "text/plain": [
       "\"Hell\""
      ]
     },
     "execution_count": 110,
     "metadata": {},
     "output_type": "execute_result"
    }
   ],
   "source": [
    "s[1:4]"
   ]
  },
  {
   "cell_type": "code",
   "execution_count": 111,
   "id": "enabling-taste",
   "metadata": {},
   "outputs": [
    {
     "data": {
      "text/plain": [
       "\"lo wor\""
      ]
     },
     "execution_count": 111,
     "metadata": {},
     "output_type": "execute_result"
    }
   ],
   "source": [
    "s[4:end-3]"
   ]
  },
  {
   "cell_type": "code",
   "execution_count": 114,
   "id": "spiritual-composition",
   "metadata": {},
   "outputs": [
    {
     "data": {
      "text/plain": [
       "\"Hello 0.0 worlds\""
      ]
     },
     "execution_count": 114,
     "metadata": {},
     "output_type": "execute_result"
    }
   ],
   "source": [
    "\"Hello $(x) worlds\""
   ]
  },
  {
   "cell_type": "code",
   "execution_count": 115,
   "id": "shaped-dealing",
   "metadata": {},
   "outputs": [
    {
     "data": {
      "text/plain": [
       "f (generic function with 1 method)"
      ]
     },
     "execution_count": 115,
     "metadata": {},
     "output_type": "execute_result"
    }
   ],
   "source": [
    "function f(x, y)\n",
    "    x + y\n",
    "end"
   ]
  },
  {
   "cell_type": "code",
   "execution_count": 116,
   "id": "linear-funds",
   "metadata": {},
   "outputs": [
    {
     "data": {
      "text/plain": [
       "5"
      ]
     },
     "execution_count": 116,
     "metadata": {},
     "output_type": "execute_result"
    }
   ],
   "source": [
    "f(3, 2)"
   ]
  },
  {
   "cell_type": "code",
   "execution_count": 118,
   "id": "mobile-preview",
   "metadata": {},
   "outputs": [
    {
     "data": {
      "text/plain": [
       "g (generic function with 1 method)"
      ]
     },
     "execution_count": 118,
     "metadata": {},
     "output_type": "execute_result"
    }
   ],
   "source": [
    "function g(x, y)\n",
    "    return x + y\n",
    "    x * y\n",
    "end"
   ]
  },
  {
   "cell_type": "code",
   "execution_count": 119,
   "id": "meaningful-lesbian",
   "metadata": {},
   "outputs": [
    {
     "data": {
      "text/plain": [
       "7"
      ]
     },
     "execution_count": 119,
     "metadata": {},
     "output_type": "execute_result"
    }
   ],
   "source": [
    "g(2, 5)"
   ]
  },
  {
   "cell_type": "code",
   "execution_count": 120,
   "id": "interesting-effects",
   "metadata": {},
   "outputs": [
    {
     "data": {
      "text/plain": [
       "h (generic function with 1 method)"
      ]
     },
     "execution_count": 120,
     "metadata": {},
     "output_type": "execute_result"
    }
   ],
   "source": [
    "function h(x, y)\n",
    "    x + y\n",
    "    x * y\n",
    "end"
   ]
  },
  {
   "cell_type": "code",
   "execution_count": 121,
   "id": "brazilian-eating",
   "metadata": {},
   "outputs": [
    {
     "data": {
      "text/plain": [
       "24"
      ]
     },
     "execution_count": 121,
     "metadata": {},
     "output_type": "execute_result"
    }
   ],
   "source": [
    "h(3, 8)"
   ]
  },
  {
   "cell_type": "code",
   "execution_count": 122,
   "id": "flexible-mountain",
   "metadata": {},
   "outputs": [
    {
     "data": {
      "text/plain": [
       "tryme (generic function with 1 method)"
      ]
     },
     "execution_count": 122,
     "metadata": {},
     "output_type": "execute_result"
    }
   ],
   "source": [
    "x = 2\n",
    "\n",
    "function tryme(x)\n",
    "    x = 4\n",
    "    return\n",
    "end"
   ]
  },
  {
   "cell_type": "code",
   "execution_count": 123,
   "id": "dedicated-consequence",
   "metadata": {},
   "outputs": [
    {
     "data": {
      "text/plain": [
       "2"
      ]
     },
     "execution_count": 123,
     "metadata": {},
     "output_type": "execute_result"
    }
   ],
   "source": [
    "tryme(x)\n",
    "x"
   ]
  },
  {
   "cell_type": "code",
   "execution_count": 124,
   "id": "changed-tuesday",
   "metadata": {},
   "outputs": [
    {
     "name": "stdout",
     "output_type": "stream",
     "text": [
      "12345678910"
     ]
    }
   ],
   "source": [
    "for i = 1:10\n",
    "    print(i)\n",
    "end"
   ]
  },
  {
   "cell_type": "code",
   "execution_count": null,
   "id": "aerial-empty",
   "metadata": {},
   "outputs": [],
   "source": []
  }
 ],
 "metadata": {
  "kernelspec": {
   "display_name": "Julia 1.6.1",
   "language": "julia",
   "name": "julia-1.6"
  },
  "language_info": {
   "file_extension": ".jl",
   "mimetype": "application/julia",
   "name": "julia",
   "version": "1.6.1"
  }
 },
 "nbformat": 4,
 "nbformat_minor": 5
}
