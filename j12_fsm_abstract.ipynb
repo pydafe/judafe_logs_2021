{
 "cells": [
  {
   "cell_type": "markdown",
   "id": "closed-solution",
   "metadata": {},
   "source": [
    "# Конечные автоматы\n",
    "\n",
    "Определение и интуитивные представления см. в [википедии](https://ru.wikipedia.org/wiki/%D0%94%D0%B5%D1%82%D0%B5%D1%80%D0%BC%D0%B8%D0%BD%D0%B8%D1%80%D0%BE%D0%B2%D0%B0%D0%BD%D0%BD%D1%8B%D0%B9_%D0%BA%D0%BE%D0%BD%D0%B5%D1%87%D0%BD%D1%8B%D0%B9_%D0%B0%D0%B2%D1%82%D0%BE%D0%BC%D0%B0%D1%82) и в книге:\n",
    "* Д. Хопкрофт, Р. Мотвани, and Д. Ульман, Введение в теорию автоматов, языков и вычислений."
   ]
  },
  {
   "cell_type": "code",
   "execution_count": 8,
   "id": "centered-asbestos",
   "metadata": {},
   "outputs": [
    {
     "data": {
      "text/plain": [
       "Base.in"
      ]
     },
     "execution_count": 8,
     "metadata": {},
     "output_type": "execute_result"
    }
   ],
   "source": [
    "\"\"\"\n",
    "Абстрактный тип, объединяющий все конечные автоматы.\n",
    "S -- state, L -- letter.\n",
    "\"\"\"\n",
    "abstract type FiniteAutomaton{S, L} end\n",
    "\n",
    "\n",
    "\"\"\"\n",
    "Детерминированный конечный автомат\n",
    "Deterministic Finite Automaton\n",
    "\"\"\"\n",
    "struct DFA{S, L} <: FiniteAutomaton{S, L}\n",
    "    \"Метки состояний автомата, состояние задаётся индексом массива\"\n",
    "    states::Vector{S}\n",
    "    state2index::Dict{S, Int}\n",
    "    \"Алфавит языка\"\n",
    "    alphabet::Set{L}\n",
    "    \"Функция перехода. Текущему состоянию и текущему входному символу сопоставляется следующее состояние\"\n",
    "    transition::Dict{Int, Dict{L, Int}}\n",
    "    \"Начальное состояние\"\n",
    "    start::Int\n",
    "    \"Множество допускающих состояний\"\n",
    "    accept::Set{Int}\n",
    "end\n",
    "\n",
    "\n",
    "\"\"\"\n",
    "Получить множество состояний из переходной функции, начального и допускающих состояний.\n",
    "\"\"\"\n",
    "function collect_states(\n",
    "        transition::Dict{S, Dict{L, W}},\n",
    "        start::S,\n",
    "        accept::Set{S})::Tuple{Vector{S}, Dict{S, Int}} where {S, L, W}\n",
    "\n",
    "    # Собираем все состояния из переходной функции. У DFA и NFA эти функции разные, поэтому абстрагируем.\n",
    "    stateset = collect_transition_states(transition, start, accept)\n",
    "\n",
    "    # Добавляем начальное и допускающие состояния (если их ещё нет)\n",
    "    push!(stateset, start)\n",
    "    union!(stateset, accept)\n",
    "    \n",
    "    # Если можно сравнивать имена состояний, то сортируем их.\n",
    "    # Иначе укладываем в сложившемся порядке в массив.\n",
    "    states = collect(stateset)::Vector{S}\n",
    "    hasmethod(isless, Tuple{S, S}) && sort!(states)\n",
    "\n",
    "    # На основе массива делаем словарь state2index\n",
    "    state2index = Dict((n, i) for (i, n) in enumerate(states))\n",
    "    \n",
    "    return (states, state2index)\n",
    "end\n",
    "\n",
    "\n",
    "\"\"\"\n",
    "Собрать состояния из переходной функции\n",
    "\"\"\"\n",
    "function collect_transition_states(\n",
    "        transition::Dict{S, Dict{L, S}},\n",
    "        start::S,\n",
    "        accept::Set{S})::Set{S} where {S, L}\n",
    "    \n",
    "    states = Set{S}(keys(transition))::Set{S}\n",
    "    for state in keys(transition)\n",
    "        union!(states, values(transition[state]))\n",
    "    end\n",
    "    \n",
    "    return states\n",
    "end\n",
    "\n",
    "\n",
    "\"\"\"\n",
    "Собрать алфавит из переходной функции\n",
    "\"\"\"\n",
    "function collect_alphabet(transition::Dict{S, Dict{L, W}})::Set{L} where {S, L, W}\n",
    "    # Собираем из переходной функции алфавит\n",
    "    alphabet = Set{L}()\n",
    "    for trans in values(transition)\n",
    "        union!(alphabet, keys(trans))\n",
    "    end\n",
    "    \n",
    "    return alphabet\n",
    "end\n",
    "\n",
    "\n",
    "\"\"\"\n",
    "Поменять в функции перехода имена состояний на их индексы\n",
    "\"\"\"\n",
    "function map_transition(\n",
    "        transition::Dict{S, Dict{L, S}},\n",
    "        state2index::Dict{S, Int})::Dict{Int, Dict{L, Int}} where {S, L}\n",
    "    \n",
    "    transition_pairs =\n",
    "      [(state2index[f], Dict{L, Int}((l, state2index[t]) for (l, t) in l2s))\n",
    "        for (f, l2s) in transition] ::Vector{Tuple{Int, Dict{L, Int}}}\n",
    "\n",
    "    return Dict{Int, Dict{L, Int}}(transition_pairs)\n",
    "end\n",
    "\n",
    "\n",
    "\"\"\"\n",
    "Дополнительный конструктор, который сам выясняет алфавит и множество состояний\n",
    "\"\"\"\n",
    "function DFA(transition::Dict{S, Dict{L, S}}, start::S, accept::Set{S})::DFA{S, L} where {S, L}\n",
    "    (states, state2index) = collect_states(transition, start, accept)\n",
    "    alphabet = collect_alphabet(transition)\n",
    "    transition_ = map_transition(transition, state2index)\n",
    "\n",
    "    start_ = state2index[start]\n",
    "    accept_ = Set{Int}(state2index[s] for s in accept)\n",
    "\n",
    "    return DFA{S, L}(states, state2index, alphabet, transition_, start_, accept_)\n",
    "end\n",
    "\n",
    "\n",
    "\"\"\"\n",
    "Содержит ли язык данное слово?\n",
    "\"\"\"\n",
    "function Base.in(word, dfa::DFA{S, L})::Bool where {S, L}\n",
    "    state = dfa.start\n",
    "    for symbol in word\n",
    "        state = dfa.transition[state][symbol]\n",
    "    end\n",
    "    \n",
    "    return state in dfa.accept\n",
    "end"
   ]
  },
  {
   "cell_type": "code",
   "execution_count": 9,
   "id": "ultimate-frost",
   "metadata": {},
   "outputs": [
    {
     "data": {
      "text/plain": [
       "(true, false)"
      ]
     },
     "execution_count": 9,
     "metadata": {},
     "output_type": "execute_result"
    }
   ],
   "source": [
    "# Пример конечного автомата, допускающего все слова, содержащие \"01\"\n",
    "\n",
    "dfa = DFA(Dict(:a => Dict('0' => :b, '1' => :a), :b => Dict('0' => :b, '1' => :c), :c => Dict('0' => :c, '1' => :c)), :a, Set([:c]))\n",
    "\n",
    "\"0000010\" ∈ dfa, \"10000\" ∈ dfa"
   ]
  },
  {
   "cell_type": "code",
   "execution_count": 22,
   "id": "enclosed-relationship",
   "metadata": {},
   "outputs": [
    {
     "data": {
      "text/plain": [
       "(false, true)"
      ]
     },
     "execution_count": 22,
     "metadata": {},
     "output_type": "execute_result"
    }
   ],
   "source": [
    "# Пример конечного автомата, допускающего все слова с нечётным числом нулей\n",
    "\n",
    "dfa = DFA(Dict(1 => Dict('0' => 2, '1' => 1), 2 => Dict('0' => 1, '1' => 2)), 1, Set([2]))\n",
    "\n",
    "\"111111\" ∈ dfa, \"0101101011001110111\" ∈ dfa"
   ]
  },
  {
   "cell_type": "code",
   "execution_count": 47,
   "id": "subject-price",
   "metadata": {},
   "outputs": [
    {
     "data": {
      "text/plain": [
       "Base.in"
      ]
     },
     "execution_count": 47,
     "metadata": {},
     "output_type": "execute_result"
    }
   ],
   "source": [
    "\"\"\"\n",
    "Недетерминированный конечный автомат. Поля аналогичны DFA, кроме функции перехода.\n",
    "\"\"\"\n",
    "struct NFA{S, L} <: FiniteAutomaton{S, L}\n",
    "    \"Метки состояний автомата, состояние задаётся индексом массива\"\n",
    "    states::Vector{S}\n",
    "    state2index::Dict{S, Int}\n",
    "    \"Алфавит языка\"\n",
    "    alphabet::Set{L}\n",
    "    \"Функция перехода. Текущему состоянию и текущему входному символу сопоставляется множество следующих состояний\"\n",
    "    transition::Dict{Int, Dict{L, Set{Int}}}\n",
    "    \"Начальное состояние\"\n",
    "    start::Int\n",
    "    \"Множество допускающих состояний\"\n",
    "    accept::Set{Int}\n",
    "end\n",
    "\n",
    "\n",
    "\"\"\"\n",
    "Собрать состояния из переходной функции. Метод для функции перехода NFA\n",
    "\"\"\"\n",
    "function collect_transition_states(\n",
    "        transition::Dict{S, Dict{L, Set{S}}},\n",
    "        start::S,\n",
    "        accept::Set{S})::Set{S} where {S, L}\n",
    "\n",
    "    states = Set{S}(keys(transition))::Set{S}\n",
    "    for state in keys(transition)\n",
    "        for targets in values(transition[state])\n",
    "            union!(states, targets)\n",
    "        end\n",
    "    end\n",
    "    \n",
    "    return states\n",
    "end\n",
    "\n",
    "\n",
    "\"\"\"\n",
    "Поменять в функции перехода имена состояний на их индексы\n",
    "\"\"\"\n",
    "function map_transition(\n",
    "        transition::Dict{S, Dict{L, Set{S}}},\n",
    "        state2index::Dict{S, Int})::Dict{Int, Dict{L, Set{Int}}} where {S, L}\n",
    "    \n",
    "    transition_pairs =\n",
    "      [(state2index[f], Dict{L, Set{Int}}((l, Set{Int}(state2index[t] for t in ss)) for (l, ss) in l2ss))\n",
    "        for (f, l2ss) in transition] ::Vector{Tuple{Int, Dict{L, Set{Int}}}}\n",
    "\n",
    "    return Dict{Int, Dict{L, Set{Int}}}(transition_pairs)\n",
    "end\n",
    "\n",
    "\n",
    "\"\"\"\n",
    "Дополнительный конструктор, который сам выясняет алфавит и множество состояний\n",
    "\"\"\"\n",
    "function NFA(transition::Dict{S, Dict{L, Set{S}}}, start::S, accept::Set{S})::NFA{S, L} where {S, L}\n",
    "    (states, state2index) = collect_states(transition, start, accept)\n",
    "    alphabet = collect_alphabet(transition)\n",
    "    transition_ = map_transition(transition, state2index)\n",
    "\n",
    "    start_ = state2index[start]\n",
    "    accept_ = Set{Int}(state2index[s] for s in accept)\n",
    "\n",
    "    return NFA{S, L}(states, state2index, alphabet, transition_, start_, accept_)\n",
    "end\n",
    "\n",
    "\n",
    "\"\"\"\n",
    "Содержит ли язык данное слово?\n",
    "\"\"\"\n",
    "function Base.in(word, nfa::NFA{S, L})::Bool where {S, L}\n",
    "    states = Set{S}()\n",
    "    push!(states, nfa.start)\n",
    "    for symbol in word\n",
    "        states = union([get(nfa.transition[state], symbol, Set{S}()) for state in states]...)::Set{S}\n",
    "    end\n",
    "    \n",
    "    return ~isempty(intersect(states, nfa.accept))\n",
    "end"
   ]
  },
  {
   "cell_type": "code",
   "execution_count": 50,
   "id": "binding-guarantee",
   "metadata": {},
   "outputs": [
    {
     "data": {
      "text/plain": [
       "(false, true)"
      ]
     },
     "execution_count": 50,
     "metadata": {},
     "output_type": "execute_result"
    }
   ],
   "source": [
    "# Пример конечного автомата, допускающего все слова, окончавающиеся на 1\n",
    "\n",
    "nfa = NFA(Dict{Int, Dict{Char, Set{Int}}}(1 => Dict('0' => Set(1), '1' => Set([1, 2])), 2 => Dict()), 1, Set([2]))\n",
    "\"000010\" ∈ nfa, \"111001001\" ∈ nfa"
   ]
  },
  {
   "cell_type": "code",
   "execution_count": 52,
   "id": "dependent-stage",
   "metadata": {},
   "outputs": [
    {
     "data": {
      "text/plain": [
       "NFA"
      ]
     },
     "execution_count": 52,
     "metadata": {},
     "output_type": "execute_result"
    }
   ],
   "source": [
    "\"\"\"\n",
    "Преобразование DFA -> NFA\n",
    "\"\"\"\n",
    "function NFA(dfa::DFA{S, L})::NFA{S, L} where {S, L}\n",
    "    trans = Dict(from => Dict(sym => Set(to) for (sym, to) in pairs(perstate))\n",
    "                 for (from, perstate) in pairs(dfa.transition))\n",
    "\n",
    "    return NFA{S, L}(dfa.states, dfa.state2index, dfa.alphabet, trans, dfa.start, dfa.accept)\n",
    "end"
   ]
  },
  {
   "cell_type": "code",
   "execution_count": null,
   "id": "minus-signature",
   "metadata": {},
   "outputs": [],
   "source": [
    "\"\"\"\n",
    "Недетерминированный конечный автомат с эпсилон-переходами.\n",
    "Поля аналогичны NFA, кроме эпсилон-переходов, заданных в поле epsilon.\n",
    "\"\"\"\n",
    "struct EpsilonNFA{S, L} <: FiniteAutomaton{S, L}\n",
    "    \"Метки состояний автомата, состояние задаётся индексом массива\"\n",
    "    states::Vector{S}\n",
    "    state2index::Dict{S, Int}\n",
    "    \"Алфавит языка\"\n",
    "    alphabet::Set{L}\n",
    "    \"Функция перехода. Текущему состоянию и текущему входному символу сопоставляется множество следующих состояний\"\n",
    "    transition::Dict{Int, Dict{L, Set{Int}}}\n",
    "    epsilon::Dict{Int, Set{Int}}\n",
    "    \"Начальное состояние\"\n",
    "    start::Int\n",
    "    \"Множество допускающих состояний\"\n",
    "    accept::Set{Int}\n",
    "end\n",
    "\n",
    "\n",
    "\"\"\"\n",
    "Дополнительный конструктор, который сам выясняет алфавит и множество состояний\n",
    "\"\"\"\n",
    "function EpsilonNFA(\n",
    "        transition::Dict{S, Dict{L, Set{S}}},\n",
    "        epsilon::Dict{S, Set{S}},\n",
    "        start::S,\n",
    "        accept::Set{S})::NFA{S, L} where {S, L}\n",
    "    (states, state2index) = collect_states(transition, start, accept)\n",
    "    alphabet = collect_alphabet(transition)\n",
    "    transition_ = map_transition(transition, state2index)\n",
    "    epsilon_ = Dict{S, Set{S}}((state2index[s], Set(state2index[t] for t in ss)) for s in (s, ss))\n",
    "\n",
    "    start_ = state2index[start]\n",
    "    accept_ = Set{Int}(state2index[s] for s in accept)\n",
    "\n",
    "    return EpsilonNFA{S, L}(states, state2index, alphabet, transition_, epsilon_, start_, accept_)\n",
    "end"
   ]
  },
  {
   "cell_type": "code",
   "execution_count": null,
   "id": "attractive-germany",
   "metadata": {},
   "outputs": [],
   "source": [
    "\"\"\"\n",
    "Преобразование NFA -> EpsilonNFA\n",
    "\"\"\"\n",
    "function EpsilonNFA(nfa::NFA{S, L})::EpsilonNFA{S, L} where {S, L}\n",
    "    # ЗДЕСЬ КОД\n",
    "end"
   ]
  },
  {
   "cell_type": "code",
   "execution_count": null,
   "id": "spatial-excellence",
   "metadata": {},
   "outputs": [],
   "source": [
    "\"\"\"\n",
    "Преобразование EpsilonNFA -> DFA\n",
    "\"\"\"\n",
    "function DFA(nfa::EpsilonNFA{S, L})::DFA{S, L} where {S, L}\n",
    "    # ЗДЕСЬ КОД\n",
    "end"
   ]
  },
  {
   "cell_type": "code",
   "execution_count": 5,
   "id": "tight-performer",
   "metadata": {},
   "outputs": [],
   "source": [
    "\"\"\"\n",
    "Регулярные выражения\n",
    "\"\"\"\n",
    "abstract type RegularExpression{L} end\n",
    "\n",
    "const RE{L} = RegularExpression{L}\n",
    "\n",
    "\"\"\"\n",
    "Пустое регулярное выражение\n",
    "\"\"\"\n",
    "struct EmptyRE{L} <: RE{L}\n",
    "end\n",
    "\n",
    "\n",
    "\"\"\"\n",
    "Регулярное выражение из одной буквы алфавита\n",
    "\"\"\"\n",
    "struct LetterRE{L} <: RE{L}\n",
    "    value::L\n",
    "end\n",
    "\n",
    "\n",
    "\"\"\"\n",
    "Регулярное выражение, полученное конкатенацией\n",
    "\"\"\"\n",
    "struct ConcatRE{L} <: RE{L}\n",
    "    values::Vector{RE{L}}\n",
    "end\n",
    "\n",
    "\n",
    "\"\"\"\n",
    "Регулярные выражение, полученное объединением\n",
    "\"\"\"\n",
    "struct UnionRE{L} <: RE{L}\n",
    "    values::Vector{RE{L}}\n",
    "end\n",
    "\n",
    "\n",
    "\"\"\"\n",
    "Регулярное выражение -- звезда Клини\n",
    "\"\"\"\n",
    "struct KleeneRE{L} <: RE{L}\n",
    "    value::RE{L}\n",
    "end\n",
    "\n",
    ";"
   ]
  },
  {
   "cell_type": "code",
   "execution_count": 7,
   "id": "tamil-mounting",
   "metadata": {},
   "outputs": [
    {
     "data": {
      "text/plain": [
       "ConcatRE{Char}(RegularExpression{Char}[KleeneRE{Char}(UnionRE{Char}(RegularExpression{Char}[LetterRE{Char}('0'), LetterRE{Char}('1')])), LetterRE{Char}('1')])"
      ]
     },
     "execution_count": 7,
     "metadata": {},
     "output_type": "execute_result"
    }
   ],
   "source": [
    "# Пример регулярного выражения, описывающего язык из двоичных слов, оканчивающихся на 1\n",
    "zeroOrOne = UnionRE{Char}(RE{Char}[LetterRE{Char}('0'), LetterRE{Char}('1')])\n",
    "re = ConcatRE{Char}(RE{Char}[KleeneRE{Char}(zeroOrOne), LetterRE{Char}('1')])\n",
    "\n",
    "# Текстом такое выражение обычно записывается как (0|1)*1"
   ]
  },
  {
   "cell_type": "code",
   "execution_count": null,
   "id": "improving-calculator",
   "metadata": {},
   "outputs": [],
   "source": [
    "\"\"\"\n",
    "Преобразование RE -> EpsilonNFA\n",
    "\"\"\"\n",
    "function EpsilonNFA(re::RE{L})::EpsilonNFA{Int, L} where L\n",
    "    # ЗДЕСЬ КОД\n",
    "end"
   ]
  },
  {
   "cell_type": "code",
   "execution_count": null,
   "id": "passing-dance",
   "metadata": {},
   "outputs": [],
   "source": [
    "\"\"\"\n",
    "Преобразование DFA -> RE\n",
    "\"\"\"\n",
    "function RE(dfa::DFA{S, L})::RE{L} where L\n",
    "    # ЗДЕСЬ КОД\n",
    "end"
   ]
  }
 ],
 "metadata": {
  "kernelspec": {
   "display_name": "Julia 1.6.1",
   "language": "julia",
   "name": "julia-1.6"
  },
  "language_info": {
   "file_extension": ".jl",
   "mimetype": "application/julia",
   "name": "julia",
   "version": "1.6.1"
  }
 },
 "nbformat": 4,
 "nbformat_minor": 5
}
