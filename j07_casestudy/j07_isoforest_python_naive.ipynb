{
 "cells": [
  {
   "cell_type": "code",
   "execution_count": 2,
   "id": "killing-trust",
   "metadata": {},
   "outputs": [],
   "source": [
    "import numpy as np\n",
    "import matplotlib.pyplot as plt"
   ]
  },
  {
   "cell_type": "markdown",
   "id": "german-monster",
   "metadata": {},
   "source": [
    "# Данные для тестов"
   ]
  },
  {
   "cell_type": "code",
   "execution_count": 3,
   "id": "preceding-prefix",
   "metadata": {},
   "outputs": [],
   "source": [
    "def malanchev_dataset(inliers=2**10, outliers=2**5, seed=0):\n",
    "    rng = np.random.default_rng(seed)\n",
    "    x = np.concatenate([rng.uniform([0, 0], [0.5, 0.5], (inliers, 2)),\n",
    "                        rng.normal([1, 1], 0.1, (outliers, 2)),\n",
    "                        rng.normal([0, 1], 0.1, (outliers, 2)),\n",
    "                        rng.normal([1, 0], 0.1, (outliers, 2))])\n",
    "    return x"
   ]
  },
  {
   "cell_type": "code",
   "execution_count": 4,
   "id": "stopped-papua",
   "metadata": {},
   "outputs": [
    {
     "data": {
      "image/png": "[encoded data removed]",
      "text/plain": [
       "<Figure size 432x288 with 1 Axes>"
      ]
     },
     "metadata": {
      "needs_background": "light"
     },
     "output_type": "display_data"
    }
   ],
   "source": [
    "plt.scatter(*malanchev_dataset().T);"
   ]
  },
  {
   "cell_type": "markdown",
   "id": "anonymous-membership",
   "metadata": {},
   "source": [
    "# Оценка средней длины пути в дереве"
   ]
  },
  {
   "cell_type": "code",
   "execution_count": 5,
   "id": "celtic-program",
   "metadata": {},
   "outputs": [],
   "source": [
    "def _average_path_length(n):\n",
    "    \"\"\"\n",
    "    Average path length formula.\n",
    "    \"\"\"\n",
    "    return 2.0 * (np.log(n - 1.0) + np.euler_gamma) - 2.0 * (n - 1.0) / n\n",
    "\n",
    "\n",
    "def average_path_length(n):\n",
    "    \"\"\"\n",
    "    Average path length computation.\n",
    "    Parameters\n",
    "    ----------\n",
    "    n\n",
    "        Either array of tree depths to computer average path length of\n",
    "        or one tree depth scalar.\n",
    "    Returns\n",
    "    -------\n",
    "    Average path length.\n",
    "    \"\"\"\n",
    "    if np.isscalar(n):\n",
    "        if n <= 1:\n",
    "            apl = 0\n",
    "        elif n == 2:\n",
    "            apl = 1\n",
    "        else:\n",
    "            apl = _average_path_length(n)\n",
    "    else:\n",
    "        n = np.asarray(n)\n",
    "        apl = np.zeros_like(n)\n",
    "        apl[n > 1] = _average_path_length(n[n > 1])\n",
    "        apl[n == 2] = 1\n",
    "\n",
    "    return apl"
   ]
  },
  {
   "cell_type": "markdown",
   "id": "attractive-earth",
   "metadata": {},
   "source": [
    "# Изоляционный лес"
   ]
  },
  {
   "cell_type": "code",
   "execution_count": 6,
   "id": "lyric-tomorrow",
   "metadata": {},
   "outputs": [],
   "source": [
    "class IsolationForest:\n",
    "    def __init__(self, trees=100, subsamples=256, depth=None, seed=0):\n",
    "        self.subsamples = subsamples\n",
    "        self.trees = trees\n",
    "        self.depth = depth\n",
    "\n",
    "        self.seedseq = np.random.SeedSequence(seed)\n",
    "        self.rng = np.random.default_rng(seed)\n",
    "\n",
    "        self.estimators = []\n",
    "        self.n = 0\n",
    "\n",
    "    def fit(self, data):\n",
    "        n = data.shape[0]\n",
    "        self.n = n\n",
    "        self.subsamples = self.subsamples if n > self.subsamples else n\n",
    "\n",
    "        self.depth = self.depth or int(np.ceil(np.log2(self.subsamples)))\n",
    "\n",
    "        self.estimators = [None] * self.trees\n",
    "        seeds = self.seedseq.spawn(self.trees)\n",
    "        for i in range(self.trees):\n",
    "            subs = self.rng.choice(n, self.subsamples)\n",
    "            gen = IsolationForestGenerator(data[subs, :], self.depth, seeds[i])\n",
    "            self.estimators[i] = gen.pine\n",
    "\n",
    "        return self\n",
    "\n",
    "    def mean_paths(self, data):\n",
    "        means = np.zeros(data.shape[0])\n",
    "        for ti in range(self.trees):\n",
    "            path = self.estimators[ti].paths(data)\n",
    "            means += path\n",
    "\n",
    "        means /= self.trees\n",
    "        return means\n",
    "\n",
    "    def scores(self, data):\n",
    "        means = self.mean_paths(data)\n",
    "        return - 2 ** (-means / average_path_length(self.subsamples))\n",
    "\n",
    "\n",
    "class Tree:\n",
    "    def __init__(self, features, selectors, values):\n",
    "        self.features = features\n",
    "        self.len = selectors.shape[0]\n",
    "\n",
    "        # Two complementary arrays.\n",
    "        # Selectors select feature to branch on.\n",
    "        self.selectors = selectors\n",
    "        # Values either set the deciding feature value or set the closing path length\n",
    "        self.values = values\n",
    "\n",
    "    def _get_one_path(self, key):\n",
    "        i = 1\n",
    "        while 2 * i < self.selectors.shape[0]:\n",
    "            f = self.selectors[i]\n",
    "            if f < 0:\n",
    "                break\n",
    "\n",
    "            if key[f] <= self.values[i]:\n",
    "                i = 2 * i\n",
    "            else:\n",
    "                i = 2 * i + 1\n",
    "\n",
    "        return self.values[i]\n",
    "\n",
    "    def paths(self, x):\n",
    "        n = x.shape[0]\n",
    "        paths = np.empty(n)\n",
    "        for i in range(n):\n",
    "            paths[i] = self._get_one_path(x[i, :])\n",
    "\n",
    "        return paths\n",
    "\n",
    "\n",
    "class IsolationForestGenerator:\n",
    "    def __init__(self, sample, depth, seed=0):\n",
    "        self.depth = depth\n",
    "        self.features = sample.shape[1]\n",
    "        self.length = 1 << (depth + 1)\n",
    "        self.rng = np.random.default_rng(seed)\n",
    "        self.selectors = np.full(self.length, -1, dtype=np.int32)\n",
    "        self.values = np.full(self.length, 0, dtype=np.float64)\n",
    "\n",
    "        self._populate(1, sample)\n",
    "\n",
    "        self.pine = Tree(self.features, self.selectors, self.values)\n",
    "\n",
    "    def _populate(self, i, sample):\n",
    "\n",
    "        if sample.shape[0] == 1:\n",
    "            self.values[i] = np.floor(np.log2(i))\n",
    "            return\n",
    "\n",
    "        if self.length <= 2 * i:\n",
    "            self.values[i] = np.floor(np.log2(i)) + \\\n",
    "                             average_path_length(sample.shape[0])\n",
    "\n",
    "            return\n",
    "\n",
    "        selector = self.rng.integers(self.features)\n",
    "        self.selectors[i] = selector\n",
    "\n",
    "        minval = np.min(sample[:, selector])\n",
    "        maxval = np.max(sample[:, selector])\n",
    "        if minval == maxval:\n",
    "            self.selectors[i] = -1\n",
    "            self.values[i] = np.floor(np.log2(i)) + \\\n",
    "                average_path_length(sample.shape[0])\n",
    "\n",
    "            return\n",
    "\n",
    "        value = self.rng.uniform(minval, maxval)\n",
    "        self.values[i] = value\n",
    "\n",
    "        self._populate(2 * i, sample[sample[:, selector] <= value])\n",
    "        self._populate(2 * i + 1, sample[sample[:, selector] > value])"
   ]
  },
  {
   "cell_type": "markdown",
   "id": "stock-practitioner",
   "metadata": {},
   "source": [
    "# Пример"
   ]
  },
  {
   "cell_type": "code",
   "execution_count": 7,
   "id": "extreme-visiting",
   "metadata": {},
   "outputs": [
    {
     "data": {
      "image/png": "[encoded data removed]",
      "text/plain": [
       "<Figure size 432x288 with 1 Axes>"
      ]
     },
     "metadata": {
      "needs_background": "light"
     },
     "output_type": "display_data"
    }
   ],
   "source": [
    "data = malanchev_dataset()\n",
    "isoforest = IsolationForest(trees=100, subsamples=16, depth=4)\n",
    "isoforest.fit(data)\n",
    "scores = isoforest.scores(data)\n",
    "sorting = np.argsort(scores)\n",
    "\n",
    "plt.scatter(*data[sorting[:96]].T, color='C1', label='anomaly')\n",
    "plt.scatter(*data[sorting[96:]].T, color='C0', label='regular')\n",
    "plt.legend()\n",
    "pass"
   ]
  },
  {
   "cell_type": "markdown",
   "id": "extreme-official",
   "metadata": {},
   "source": [
    "# Тесты"
   ]
  },
  {
   "cell_type": "code",
   "execution_count": 8,
   "id": "annoying-inflation",
   "metadata": {},
   "outputs": [],
   "source": [
    "data = malanchev_dataset(inliers=2**13)"
   ]
  },
  {
   "cell_type": "code",
   "execution_count": 9,
   "id": "worse-version",
   "metadata": {},
   "outputs": [
    {
     "name": "stdout",
     "output_type": "stream",
     "text": [
      "CPU times: user 2.35 s, sys: 1.22 ms, total: 2.35 s\n",
      "Wall time: 2.38 s\n"
     ]
    }
   ],
   "source": [
    "%%time\n",
    "isoforest = IsolationForest(trees=200, subsamples=1024, depth=10)\n",
    "isoforest.fit(data)\n",
    "pass"
   ]
  },
  {
   "cell_type": "code",
   "execution_count": 10,
   "id": "continental-traffic",
   "metadata": {},
   "outputs": [
    {
     "name": "stdout",
     "output_type": "stream",
     "text": [
      "CPU times: user 46.9 s, sys: 147 ms, total: 47 s\n",
      "Wall time: 47.9 s\n"
     ]
    }
   ],
   "source": [
    "%%time\n",
    "scores = isoforest.scores(data)"
   ]
  },
  {
   "cell_type": "code",
   "execution_count": 13,
   "id": "charitable-graph",
   "metadata": {},
   "outputs": [
    {
     "data": {
      "text/plain": [
       "16.276041666666668"
      ]
     },
     "execution_count": 13,
     "metadata": {},
     "output_type": "execute_result"
    }
   ],
   "source": [
    "# Если посчитать для 10e6 точек (в часах):\n",
    "48 / 2**13 * 10e6 / 60.0 / 60.0"
   ]
  }
 ],
 "metadata": {
  "kernelspec": {
   "display_name": "Python 3",
   "language": "python",
   "name": "python3"
  },
  "language_info": {
   "codemirror_mode": {
    "name": "ipython",
    "version": 3
   },
   "file_extension": ".py",
   "mimetype": "text/x-python",
   "name": "python",
   "nbconvert_exporter": "python",
   "pygments_lexer": "ipython3",
   "version": "3.8.11"
  }
 },
 "nbformat": 4,
 "nbformat_minor": 5
}
