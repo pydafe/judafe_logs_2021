{
 "cells": [
  {
   "cell_type": "code",
   "execution_count": 2,
   "id": "fundamental-hobby",
   "metadata": {},
   "outputs": [],
   "source": [
    "%load_ext cython"
   ]
  },
  {
   "cell_type": "code",
   "execution_count": 2,
   "id": "brazilian-reproduction",
   "metadata": {},
   "outputs": [],
   "source": [
    "import numpy as np\n",
    "import matplotlib.pyplot as plt"
   ]
  },
  {
   "cell_type": "markdown",
   "id": "circular-amber",
   "metadata": {},
   "source": [
    "# Данные для тестов"
   ]
  },
  {
   "cell_type": "code",
   "execution_count": 3,
   "id": "passing-alert",
   "metadata": {},
   "outputs": [],
   "source": [
    "def malanchev_dataset(inliers=2**10, outliers=2**5, seed=0):\n",
    "    rng = np.random.default_rng(seed)\n",
    "    x = np.concatenate([rng.uniform([0, 0], [0.5, 0.5], (inliers, 2)),\n",
    "                        rng.normal([1, 1], 0.1, (outliers, 2)),\n",
    "                        rng.normal([0, 1], 0.1, (outliers, 2)),\n",
    "                        rng.normal([1, 0], 0.1, (outliers, 2))])\n",
    "    return x"
   ]
  },
  {
   "cell_type": "code",
   "execution_count": 4,
   "id": "contrary-timber",
   "metadata": {},
   "outputs": [
    {
     "data": {
      "image/png": "[encoded data removed]",
      "text/plain": [
       "<Figure size 432x288 with 1 Axes>"
      ]
     },
     "metadata": {
      "needs_background": "light"
     },
     "output_type": "display_data"
    }
   ],
   "source": [
    "plt.scatter(*malanchev_dataset().T);"
   ]
  },
  {
   "cell_type": "markdown",
   "id": "hydraulic-signature",
   "metadata": {},
   "source": [
    "# Оценка средней длины пути в дереве"
   ]
  },
  {
   "cell_type": "code",
   "execution_count": 5,
   "id": "instrumental-alabama",
   "metadata": {},
   "outputs": [],
   "source": [
    "def _average_path_length(n):\n",
    "    \"\"\"\n",
    "    Average path length formula.\n",
    "    \"\"\"\n",
    "    return 2.0 * (np.log(n - 1.0) + np.euler_gamma) - 2.0 * (n - 1.0) / n\n",
    "\n",
    "\n",
    "def average_path_length(n):\n",
    "    \"\"\"\n",
    "    Average path length computation.\n",
    "    Parameters\n",
    "    ----------\n",
    "    n\n",
    "        Either array of tree depths to computer average path length of\n",
    "        or one tree depth scalar.\n",
    "    Returns\n",
    "    -------\n",
    "    Average path length.\n",
    "    \"\"\"\n",
    "    if np.isscalar(n):\n",
    "        if n <= 1:\n",
    "            apl = 0\n",
    "        elif n == 2:\n",
    "            apl = 1\n",
    "        else:\n",
    "            apl = _average_path_length(n)\n",
    "    else:\n",
    "        n = np.asarray(n)\n",
    "        apl = np.zeros_like(n)\n",
    "        apl[n > 1] = _average_path_length(n[n > 1])\n",
    "        apl[n == 2] = 1\n",
    "\n",
    "    return apl"
   ]
  },
  {
   "cell_type": "markdown",
   "id": "dated-nerve",
   "metadata": {},
   "source": [
    "# Изоляционный лес"
   ]
  },
  {
   "cell_type": "code",
   "execution_count": 6,
   "id": "tender-basement",
   "metadata": {},
   "outputs": [],
   "source": [
    "class IsolationForest:\n",
    "    \"\"\"\n",
    "    Изоляционный лес\n",
    "    \"\"\"\n",
    "    def __init__(self, trees=100, subsamples=256, depth=None, seed=0):\n",
    "        self.subsamples = subsamples\n",
    "        self.trees = trees\n",
    "        self.depth = depth\n",
    "\n",
    "        self.seedseq = np.random.SeedSequence(seed)\n",
    "        self.rng = np.random.default_rng(seed)\n",
    "\n",
    "        self.estimators = []\n",
    "        self.n = 0\n",
    "\n",
    "    def fit(self, data):\n",
    "        n = data.shape[0]\n",
    "        self.n = n\n",
    "        self.subsamples = self.subsamples if n > self.subsamples else n\n",
    "\n",
    "        self.depth = self.depth or int(np.ceil(np.log2(self.subsamples)))\n",
    "\n",
    "        self.estimators = [None] * self.trees\n",
    "        seeds = self.seedseq.spawn(self.trees)\n",
    "        for i in range(self.trees):\n",
    "            subs = self.rng.choice(n, self.subsamples)\n",
    "            gen = IsolationForestGenerator(data[subs, :], self.depth, seeds[i])\n",
    "            self.estimators[i] = gen.pine\n",
    "\n",
    "        return self\n",
    "\n",
    "    def mean_paths(self, data):\n",
    "        means = np.zeros(data.shape[0])\n",
    "        for ti in range(self.trees):\n",
    "            path = self.estimators[ti].paths(data)\n",
    "            means += path\n",
    "\n",
    "        means /= self.trees\n",
    "        return means\n",
    "\n",
    "    def scores(self, data):\n",
    "        means = self.mean_paths(data)\n",
    "        return - 2 ** (-means / average_path_length(self.subsamples))\n",
    "\n",
    "\n",
    "class Tree:\n",
    "    \"Дерево изоляционного леса\"\n",
    "    def __init__(self, features, selectors, values):\n",
    "        self.features = features\n",
    "        self.len = selectors.shape[0]\n",
    "\n",
    "        # Two complementary arrays.\n",
    "        # Selectors select feature to branch on.\n",
    "        self.selectors = selectors\n",
    "        # Values either set the deciding feature value or set the closing path length\n",
    "        self.values = values\n",
    "\n",
    "    def _get_one_path(self, key):\n",
    "        i = 1\n",
    "        while 2 * i < self.selectors.shape[0]:\n",
    "            f = self.selectors[i]\n",
    "            if f < 0:\n",
    "                break\n",
    "\n",
    "            if key[f] <= self.values[i]:\n",
    "                i = 2 * i\n",
    "            else:\n",
    "                i = 2 * i + 1\n",
    "\n",
    "        return self.values[i]\n",
    "\n",
    "    def paths(self, x):\n",
    "        n = x.shape[0]\n",
    "        paths = np.empty(n)\n",
    "        for i in range(n):\n",
    "            paths[i] = self._get_one_path(x[i, :])\n",
    "\n",
    "        return paths\n",
    "\n",
    "\n",
    "class IsolationForestGenerator:\n",
    "    \"Выращивание деревьев в лесу\"\n",
    "    def __init__(self, sample, depth, seed=0):\n",
    "        self.depth = depth\n",
    "        self.features = sample.shape[1]\n",
    "        self.length = 1 << (depth + 1)\n",
    "        self.rng = np.random.default_rng(seed)\n",
    "        self.selectors = np.full(self.length, -1, dtype=np.int32)\n",
    "        self.values = np.full(self.length, 0, dtype=np.float64)\n",
    "\n",
    "        self._populate(1, sample)\n",
    "\n",
    "        self.pine = Tree(self.features, self.selectors, self.values)\n",
    "\n",
    "    def _populate(self, i, sample):\n",
    "\n",
    "        if sample.shape[0] == 1:\n",
    "            self.values[i] = np.floor(np.log2(i))\n",
    "            return\n",
    "\n",
    "        if self.length <= 2 * i:\n",
    "            self.values[i] = np.floor(np.log2(i)) + \\\n",
    "                             average_path_length(sample.shape[0])\n",
    "\n",
    "            return\n",
    "\n",
    "        selector = self.rng.integers(self.features)\n",
    "        self.selectors[i] = selector\n",
    "\n",
    "        minval = np.min(sample[:, selector])\n",
    "        maxval = np.max(sample[:, selector])\n",
    "        if minval == maxval:\n",
    "            self.selectors[i] = -1\n",
    "            self.values[i] = np.floor(np.log2(i)) + \\\n",
    "                average_path_length(sample.shape[0])\n",
    "\n",
    "            return\n",
    "\n",
    "        value = self.rng.uniform(minval, maxval)\n",
    "        self.values[i] = value\n",
    "\n",
    "        self._populate(2 * i, sample[sample[:, selector] <= value])\n",
    "        self._populate(2 * i + 1, sample[sample[:, selector] > value])"
   ]
  },
  {
   "cell_type": "markdown",
   "id": "distributed-british",
   "metadata": {},
   "source": [
    "# Ускорение вычисления очков изоляционным лесом"
   ]
  },
  {
   "cell_type": "code",
   "execution_count": 3,
   "id": "exclusive-subscription",
   "metadata": {
    "scrolled": false
   },
   "outputs": [],
   "source": [
    "%%cython\n",
    "# Добавьте к cython аргумент \"-a\" (annotate), чтобы посмотреть сгенерированный код\n",
    "\n",
    "\n",
    "import numpy as np\n",
    "from cython.parallel cimport prange, parallel\n",
    "\n",
    "cimport numpy as np\n",
    "cimport cython\n",
    "\n",
    "cimport numpy as np\n",
    "\n",
    "\n",
    "# Selector is the representation of decision tree nodes:\n",
    "# either branches or leafs.\n",
    "cdef packed struct selector_t:\n",
    "    # Feature index to branch on\n",
    "    np.int32_t feature\n",
    "    # Index of left subtree\n",
    "    np.int32_t left\n",
    "    # Feature value to branch on\n",
    "    np.float64_t value\n",
    "    # Index of right subtree\n",
    "    np.int32_t right\n",
    "\n",
    "    # In case of leaf the fields have special values:\n",
    "    # * feature == -1\n",
    "    # * left == -1\n",
    "    # * value == resulting decision score\n",
    "    # * right == -1\n",
    "\n",
    "\n",
    "# For bitness polymorphism\n",
    "ctypedef fused floating:\n",
    "    np.float32_t\n",
    "    np.float64_t\n",
    "\n",
    "\n",
    "def calc_mean_paths(selector_t [::1] selectors, np.int64_t [::1] indices, floating [:, ::1] data):\n",
    "    cdef np.ndarray [np.double_t, ndim=1] paths = np.zeros(data.shape[0])\n",
    "    cdef np.float64_t [::1] paths_view = paths\n",
    "    cdef Py_ssize_t sellen = selectors.shape[0]\n",
    "\n",
    "    if np.any(np.diff(indices) < 0):\n",
    "        raise ValueError('indices should be an increasing sequence')\n",
    "\n",
    "    if indices[-1] > sellen:\n",
    "        raise ValueError('indices are out of range of the selectors')\n",
    "\n",
    "    _mean_paths(selectors, indices, data, paths_view)\n",
    "    return paths\n",
    "\n",
    "\n",
    "@cython.boundscheck(False)\n",
    "@cython.wraparound(False)\n",
    "cdef void _mean_paths(selector_t [::1] selectors,\n",
    "                         np.int64_t [::1] indices,\n",
    "                         floating [:, ::1] data,\n",
    "                         np.float64_t [::1] paths):\n",
    "\n",
    "    cdef Py_ssize_t trees\n",
    "    cdef Py_ssize_t tree_index\n",
    "    cdef Py_ssize_t x_index\n",
    "    cdef selector_t selector\n",
    "    cdef Py_ssize_t tree_offset\n",
    "    cdef np.int32_t feature, i\n",
    "\n",
    "    with nogil, parallel():\n",
    "        trees = indices.shape[0] - 1\n",
    "\n",
    "        for x_index in prange(data.shape[0], schedule='static'):\n",
    "            for tree_index in range(trees):\n",
    "                tree_offset = indices[tree_index]\n",
    "                i = 0\n",
    "                while True:\n",
    "                    selector = selectors[tree_offset + i]\n",
    "                    feature = selector.feature\n",
    "                    if feature < 0:\n",
    "                        break\n",
    "\n",
    "                    if data[x_index, feature] <= selector.value:\n",
    "                        i = selector.left\n",
    "                    else:\n",
    "                        i = selector.right\n",
    "\n",
    "                paths[x_index] += selector.value\n",
    "\n",
    "            paths[x_index] /= trees"
   ]
  },
  {
   "cell_type": "code",
   "execution_count": 23,
   "id": "relative-inside",
   "metadata": {},
   "outputs": [],
   "source": [
    "class ForestEvaluator:\n",
    "    selector_dtype = np.dtype([('feature', np.int32), ('left', np.int32), ('value', np.double), ('right', np.int32)])\n",
    "\n",
    "    def __init__(self, samples, selectors, indices):\n",
    "        \"\"\"\n",
    "        Base class for the forest evaluators. Does the trivial job:\n",
    "        * runs calc_mean_paths written in cython,\n",
    "        * helps to combine several trees' representations into two arrays.\n",
    "        Parameters\n",
    "        ----------\n",
    "        samples\n",
    "            Number of samples in every tree.\n",
    "        selectors\n",
    "            Array with all the nodes of all the trees.\n",
    "        indices\n",
    "            Indices of starting nodes of every tree.\n",
    "        \"\"\"\n",
    "        self.samples = samples\n",
    "\n",
    "        self.selectors = selectors\n",
    "        self.indices = indices\n",
    "\n",
    "    @classmethod\n",
    "    def combine_selectors(cls, selectors_list):\n",
    "        \"\"\"\n",
    "        Combine several node arrays into one array of nodes and one array of\n",
    "        start indices.\n",
    "        Parameters\n",
    "        ----------\n",
    "        selectors_list\n",
    "            List of node arrays to combine.\n",
    "        Returns\n",
    "        -------\n",
    "        Pair of two arrays: node array and array of starting indices.\n",
    "        \"\"\"\n",
    "        lens = [len(sels) for sels in selectors_list]\n",
    "        full_len = sum(lens)\n",
    "\n",
    "        selectors = np.empty((full_len,), dtype=cls.selector_dtype)\n",
    "\n",
    "        indices = np.empty((len(selectors_list) + 1,), dtype=np.int64)\n",
    "        indices[0] = 0\n",
    "        indices[1:] = np.add.accumulate(lens)\n",
    "\n",
    "        for i in range(len(selectors_list)):\n",
    "            selectors[indices[i]:indices[i + 1]] = selectors_list[i]\n",
    "\n",
    "        return selectors, indices\n",
    "\n",
    "    def score_samples(self, x):\n",
    "        \"\"\"\n",
    "        Perform the computations.\n",
    "        Parameters\n",
    "        ----------\n",
    "        x\n",
    "            Features to calculate scores of. Should be C-contiguous for performance.\n",
    "        Returns\n",
    "        -------\n",
    "        Array of scores.\n",
    "        \"\"\"\n",
    "        if not x.flags['C_CONTIGUOUS']:\n",
    "            x = np.ascontiguousarray(x)\n",
    "\n",
    "        return -2 ** (- calc_mean_paths(self.selectors, self.indices, x) / average_path_length(self.samples))\n",
    "\n",
    "\n",
    "class IsolationForestEvaluator(ForestEvaluator):\n",
    "    \"Построение специального вычислителя для подсчёта очков\"\n",
    "    def __init__(self, pine_forest):\n",
    "        pines = pine_forest.estimators\n",
    "        self.trees = len(pines)\n",
    "        if self.trees < 1:\n",
    "            raise ValueError('a forest without trees?')\n",
    "\n",
    "        selectors, indices = self.combine_selectors(\n",
    "            [self.extract_selectors(pine) for pine in pines])\n",
    "\n",
    "        super(IsolationForestEvaluator, self).__init__(\n",
    "            samples=pine_forest.subsamples,\n",
    "            selectors=selectors,\n",
    "            indices=indices)\n",
    "\n",
    "    @classmethod\n",
    "    def extract_selectors(cls, pine):\n",
    "        selectors = np.zeros((pine.len,), dtype=cls.selector_dtype)\n",
    "\n",
    "        mapping = np.full((pine.len,), -1, dtype=np.int32)\n",
    "        current = 0\n",
    "        for i in range(1, pine.len):\n",
    "            if pine.selectors[i] != -1 or pine.values[i] != 0:\n",
    "                mapping[i] = current\n",
    "                current += 1\n",
    "\n",
    "        selectors = selectors[:current]\n",
    "\n",
    "        for i in range(1, pine.len):\n",
    "            if pine.selectors[i] != -1 or pine.values[i] != 0:\n",
    "                current = mapping[i]\n",
    "\n",
    "                feature = pine.selectors[i]\n",
    "                selectors[current]['feature'] = feature\n",
    "                selectors[current]['value'] = pine.values[i]\n",
    "\n",
    "                if 2 * i >= pine.len:\n",
    "                    continue\n",
    "\n",
    "                selectors[current]['left'] = mapping[2 * i]\n",
    "                selectors[current]['right'] = mapping[2 * i + 1]\n",
    "\n",
    "        return selectors"
   ]
  },
  {
   "cell_type": "markdown",
   "id": "colonial-alcohol",
   "metadata": {},
   "source": [
    "# Пример"
   ]
  },
  {
   "cell_type": "code",
   "execution_count": 8,
   "id": "basic-first",
   "metadata": {},
   "outputs": [
    {
     "data": {
      "image/png": "[encoded data removed]",
      "text/plain": [
       "<Figure size 432x288 with 1 Axes>"
      ]
     },
     "metadata": {
      "needs_background": "light"
     },
     "output_type": "display_data"
    }
   ],
   "source": [
    "data = malanchev_dataset()\n",
    "isoforest = IsolationForest(trees=100, subsamples=16, depth=4)\n",
    "isoforest.fit(data)\n",
    "scores = isoforest.scores(data)\n",
    "sorting = np.argsort(scores)\n",
    "\n",
    "plt.scatter(*data[sorting[:96]].T, color='C1')\n",
    "plt.scatter(*data[sorting[96:]].T, color='C0')\n",
    "pass"
   ]
  },
  {
   "cell_type": "markdown",
   "id": "specialized-brazil",
   "metadata": {},
   "source": [
    "# Тесты"
   ]
  },
  {
   "cell_type": "code",
   "execution_count": 9,
   "id": "available-shanghai",
   "metadata": {},
   "outputs": [],
   "source": [
    "data = malanchev_dataset(inliers=2**13)"
   ]
  },
  {
   "cell_type": "code",
   "execution_count": 10,
   "id": "dress-furniture",
   "metadata": {},
   "outputs": [
    {
     "name": "stdout",
     "output_type": "stream",
     "text": [
      "CPU times: user 1.99 s, sys: 7.79 ms, total: 2 s\n",
      "Wall time: 1.99 s\n"
     ]
    }
   ],
   "source": [
    "%%time\n",
    "isoforest = IsolationForest(trees=200, subsamples=1024, depth=10)\n",
    "isoforest.fit(data)\n",
    "pass"
   ]
  },
  {
   "cell_type": "code",
   "execution_count": 15,
   "id": "strategic-modification",
   "metadata": {},
   "outputs": [],
   "source": [
    "evaluator = IsolationForestEvaluator(isoforest)"
   ]
  },
  {
   "cell_type": "code",
   "execution_count": 22,
   "id": "christian-friendship",
   "metadata": {},
   "outputs": [
    {
     "name": "stdout",
     "output_type": "stream",
     "text": [
      "CPU times: user 263 ms, sys: 2 ms, total: 265 ms\n",
      "Wall time: 263 ms\n"
     ]
    }
   ],
   "source": [
    "%%time\n",
    "scores = evaluator.score_samples(data)"
   ]
  },
  {
   "cell_type": "code",
   "execution_count": 28,
   "id": "emerging-mississippi",
   "metadata": {},
   "outputs": [
    {
     "data": {
      "text/plain": [
       "321.044921875"
      ]
     },
     "execution_count": 28,
     "metadata": {},
     "output_type": "execute_result"
    }
   ],
   "source": [
    "# При экстраполяции на 10e6 точек:\n",
    "0.263 / 2**13 * 10e6"
   ]
  },
  {
   "cell_type": "code",
   "execution_count": null,
   "id": "approved-information",
   "metadata": {},
   "outputs": [],
   "source": []
  }
 ],
 "metadata": {
  "kernelspec": {
   "display_name": "Python 3",
   "language": "python",
   "name": "python3"
  },
  "language_info": {
   "codemirror_mode": {
    "name": "ipython",
    "version": 3
   },
   "file_extension": ".py",
   "mimetype": "text/x-python",
   "name": "python",
   "nbconvert_exporter": "python",
   "pygments_lexer": "ipython3",
   "version": "3.8.11"
  }
 },
 "nbformat": 4,
 "nbformat_minor": 5
}
