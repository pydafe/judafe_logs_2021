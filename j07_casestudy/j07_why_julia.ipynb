{
 "cells": [
  {
   "cell_type": "markdown",
   "id": "descending-navigation",
   "metadata": {},
   "source": [
    "# Статистика затрат и производительности по IsolationForest\n",
    "\n",
    "В этой директории лежат для наглядного сравнения несколько реализаций IsolationForest. Одна из них -- наивная реализация на питоне, называется `j07_isoforest_python_naive`, в таблицах фигурирует в колонке `Python`.\n",
    "\n",
    "Вторая -- это тоже наивная реализация, но со специальным заточенным вычислителем очков регулярности. Приведено в блокноте `j07_isoforest_python_naive_with_evaluator`. В таблицах указывается как `Python (Cython)`.\n",
    "\n",
    "Третья реализация на питоне -- стандартная реализация из [scikit-learn](https://github.com/scikit-learn/scikit-learn). См. блокнот `j07_isoforest_sklearn`.\n",
    "\n",
    "С ними сравнивается реализация на Julia из блокнотк `j07_julia`."
   ]
  },
  {
   "cell_type": "markdown",
   "id": "obvious-belly",
   "metadata": {},
   "source": [
    "### Построение деревьев\n",
    "\n",
    "|                        | Python | Python (Scikit) | Julia |\n",
    "| ---------------------- | ------ | ------------- | ----- |\n",
    "| Трудозатраты (ч)       |   3    |      неизв    |   4   |\n",
    "| Объём кода (стр.)      |   110  |      много    |  110  |\n",
    "| Производительность (c) |   1.8  |      0.46     |  0.088 |"
   ]
  },
  {
   "cell_type": "markdown",
   "id": "active-syntax",
   "metadata": {},
   "source": [
    "### Вычисление очков по деревьям\n",
    "\n",
    "|                        | Python | Python (Scikit) | Python (Cython) | Julia |\n",
    "| ---------------------- | ------ | ------------- | ------ |-----  |\n",
    "| Трудозатраты (ч)       |   -    |      -        |    10  |   -   |\n",
    "| Объём кода (стр.)      |   10   |      много    |   160  |   10  |\n",
    "| Производительность (c) |   40   |      0.53     |   0.26 | 0.54  |"
   ]
  },
  {
   "cell_type": "markdown",
   "id": "surprised-leone",
   "metadata": {},
   "source": [
    "## Выразительные средства\n",
    "1. Типизация\n",
    "2. Обобщённые функции\n",
    "3. Макросы"
   ]
  }
 ],
 "metadata": {
  "kernelspec": {
   "display_name": "Julia 1.6.1",
   "language": "julia",
   "name": "julia-1.6"
  },
  "language_info": {
   "file_extension": ".jl",
   "mimetype": "application/julia",
   "name": "julia",
   "version": "1.6.1"
  }
 },
 "nbformat": 4,
 "nbformat_minor": 5
}
